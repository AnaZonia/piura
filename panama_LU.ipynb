{
 "cells": [
  {
   "cell_type": "code",
   "execution_count": 49,
   "id": "11b88886-54ff-470a-84f9-c06d0300b25f",
   "metadata": {},
   "outputs": [
    {
     "data": {
      "text/html": [
       "\n",
       "            <style>\n",
       "                .geemap-dark {\n",
       "                    --jp-widgets-color: white;\n",
       "                    --jp-widgets-label-color: white;\n",
       "                    --jp-ui-font-color1: white;\n",
       "                    --jp-layout-color2: #454545;\n",
       "                    background-color: #383838;\n",
       "                }\n",
       "                    \n",
       "                .geemap-dark .jupyter-button {\n",
       "                    --jp-layout-color3: #383838;\n",
       "                }\n",
       "                \n",
       "                .geemap-colab {\n",
       "                    background-color: var(--colab-primary-surface-color, white);\n",
       "                }\n",
       "                    \n",
       "                .geemap-colab .jupyter-button {\n",
       "                    --jp-layout-color3: var(--colab-primary-surface-color, white);\n",
       "                }\n",
       "            </style>\n",
       "            "
      ],
      "text/plain": [
       "<IPython.core.display.HTML object>"
      ]
     },
     "metadata": {},
     "output_type": "display_data"
    }
   ],
   "source": [
    "import ee\n",
    "import geemap\n",
    "\n",
    "# Authenticate to Earth Engine\n",
    "try:\n",
    "  ee.Initialize()\n",
    "except Exception as e:\n",
    "  ee.Authenticate()\n",
    "  ee.Initialize(project='ee-ana-zonia')\n",
    "\n",
    "modis = ee.ImageCollection(\"MODIS/061/MCD12Q1\").select('LC_Type1') # legend = MODIS/006/MCD12Q1\n",
    "esa_2020 = ee.ImageCollection(\"ESA/WorldCover/v100\")\n",
    "esa_2021 = ee.ImageCollection(\"ESA/WorldCover/v200\")\n",
    "roi_piedra_piura = ee.FeatureCollection(\"projects/ee-ana-zonia/assets/roi_piedra_piura\")\n",
    "\n",
    "districts = ee.FeatureCollection(\"projects/ee-ana-zonia/assets/pan_distritos_2022\")"
   ]
  },
  {
   "cell_type": "markdown",
   "id": "61e4aba0-2c2d-484f-a6ae-8297692e4ddc",
   "metadata": {},
   "source": [
    "## Getting Santa Fe district from shapefile"
   ]
  },
  {
   "cell_type": "code",
   "execution_count": 19,
   "id": "976040a2-f047-4469-b0cc-a7f4aa7834bd",
   "metadata": {},
   "outputs": [
    {
     "data": {
      "text/html": [
       "\n",
       "            <style>\n",
       "                .geemap-dark {\n",
       "                    --jp-widgets-color: white;\n",
       "                    --jp-widgets-label-color: white;\n",
       "                    --jp-ui-font-color1: white;\n",
       "                    --jp-layout-color2: #454545;\n",
       "                    background-color: #383838;\n",
       "                }\n",
       "                    \n",
       "                .geemap-dark .jupyter-button {\n",
       "                    --jp-layout-color3: #383838;\n",
       "                }\n",
       "                \n",
       "                .geemap-colab {\n",
       "                    background-color: var(--colab-primary-surface-color, white);\n",
       "                }\n",
       "                    \n",
       "                .geemap-colab .jupyter-button {\n",
       "                    --jp-layout-color3: var(--colab-primary-surface-color, white);\n",
       "                }\n",
       "            </style>\n",
       "            "
      ],
      "text/plain": [
       "<IPython.core.display.HTML object>"
      ]
     },
     "metadata": {},
     "output_type": "display_data"
    }
   ],
   "source": [
    "def print_info(featcol):\n",
    "  # Get a list of features from the Feature Collection\n",
    "  features = featcol.getInfo()['features']\n",
    "\n",
    "  # Iterate over each feature and print the district and ID if the district is in the Veraguas province\n",
    "  for feature in features:\n",
    "      properties = feature['properties']\n",
    "      if properties.get('PROVINCIA') == \"Veraguas\":\n",
    "        district = properties.get('DISTRITO')\n",
    "        id_dist = properties.get('ID_DIST')\n",
    "        id_prov = properties.get('COD_PROV')\n",
    "        print(f'District: {district}, ID: {id_dist}, ID_Province: {id_prov}')\n",
    "\n",
    "# So, if we want data for Santa Fe in Veraguas only (there's two santa fe in Panama):\n",
    "santa_fe = districts.filter(ee.Filter.eq(\"ID_DIST\", '0909'))\n",
    "\n",
    "Map = geemap.Map(center=[0, 0], zoom=9)\n",
    "Map.centerObject(santa_fe)"
   ]
  },
  {
   "cell_type": "code",
   "execution_count": 47,
   "id": "4d92f60a-5d5b-4396-93bc-ef83419796fb",
   "metadata": {},
   "outputs": [
    {
     "data": {
      "text/html": [
       "\n",
       "            <style>\n",
       "                .geemap-dark {\n",
       "                    --jp-widgets-color: white;\n",
       "                    --jp-widgets-label-color: white;\n",
       "                    --jp-ui-font-color1: white;\n",
       "                    --jp-layout-color2: #454545;\n",
       "                    background-color: #383838;\n",
       "                }\n",
       "                    \n",
       "                .geemap-dark .jupyter-button {\n",
       "                    --jp-layout-color3: #383838;\n",
       "                }\n",
       "                \n",
       "                .geemap-colab {\n",
       "                    background-color: var(--colab-primary-surface-color, white);\n",
       "                }\n",
       "                    \n",
       "                .geemap-colab .jupyter-button {\n",
       "                    --jp-layout-color3: var(--colab-primary-surface-color, white);\n",
       "                }\n",
       "            </style>\n",
       "            "
      ],
      "text/plain": [
       "<IPython.core.display.HTML object>"
      ]
     },
     "metadata": {},
     "output_type": "display_data"
    },
    {
     "data": {
      "application/vnd.jupyter.widget-view+json": {
       "model_id": "aa5c762d07a14cf08ddc72c5d1ecfc24",
       "version_major": 2,
       "version_minor": 0
      },
      "text/plain": [
       "Map(center=[0, 0], controls=(ZoomControl(options=['position', 'zoom_in_text', 'zoom_in_title', 'zoom_out_text'…"
      ]
     },
     "execution_count": 47,
     "metadata": {},
     "output_type": "execute_result"
    }
   ],
   "source": [
    "\n",
    "esa_2020_pp = esa_2020.map(lambda image: image.clip(roi_piedra_piura)).first()\n",
    "esa_2021_pp = esa_2021.map(lambda image: image.clip(roi_piedra_piura)).first()\n",
    "\n",
    "vis_esa = {'bands': ['Map']}\n",
    "\n",
    "left_layer = geemap.ee_tile_layer(esa_2020_pp, visualization, 'esa_2020_pp')\n",
    "right_layer = geemap.ee_tile_layer(esa_2021_pp, visualization, 'esa_2021_pp')\n",
    "\n",
    "Map = geemap.Map(center=[0, 0], zoom=25)\n",
    "Map.centerObject(roi_piedra_piura)\n",
    "Map.split_map(left_layer, right_layer)\n",
    "# Map.add_legend(title = 'esa_20_22_santa_fe', builtin_legend = 'ESA_WorldCover')\n",
    "Map"
   ]
  },
  {
   "cell_type": "code",
   "execution_count": null,
   "id": "afce5a7f-ab18-414d-b5dd-e466c79790a6",
   "metadata": {},
   "outputs": [],
   "source": [
    "modis_pp = modis.map(lambda image: image.clip(roi_piedra_piura))\n",
    "vis_modis = {'bands': ['LC_Type1']}\n",
    "\n",
    "\n",
    "Map = geemap.Map(center=[0, 0], zoom=25)\n",
    "Map.centerObject(roi_piedra_piura)"
   ]
  }
 ],
 "metadata": {
  "kernelspec": {
   "display_name": "Python 3 (ipykernel)",
   "language": "python",
   "name": "python3"
  },
  "language_info": {
   "codemirror_mode": {
    "name": "ipython",
    "version": 3
   },
   "file_extension": ".py",
   "mimetype": "text/x-python",
   "name": "python",
   "nbconvert_exporter": "python",
   "pygments_lexer": "ipython3",
   "version": "3.11.5"
  }
 },
 "nbformat": 4,
 "nbformat_minor": 5
}
