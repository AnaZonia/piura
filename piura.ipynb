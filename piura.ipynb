{
 "cells": [
  {
   "cell_type": "code",
   "execution_count": 5,
   "id": "3ffab226-3513-4f89-83c3-6761db5c74e6",
   "metadata": {},
   "outputs": [
    {
     "data": {
      "text/html": [
       "\n",
       "            <style>\n",
       "                .geemap-dark {\n",
       "                    --jp-widgets-color: white;\n",
       "                    --jp-widgets-label-color: white;\n",
       "                    --jp-ui-font-color1: white;\n",
       "                    --jp-layout-color2: #454545;\n",
       "                    background-color: #383838;\n",
       "                }\n",
       "                    \n",
       "                .geemap-dark .jupyter-button {\n",
       "                    --jp-layout-color3: #383838;\n",
       "                }\n",
       "                \n",
       "                .geemap-colab {\n",
       "                    background-color: var(--colab-primary-surface-color, white);\n",
       "                }\n",
       "                    \n",
       "                .geemap-colab .jupyter-button {\n",
       "                    --jp-layout-color3: var(--colab-primary-surface-color, white);\n",
       "                }\n",
       "            </style>\n",
       "            "
      ],
      "text/plain": [
       "<IPython.core.display.HTML object>"
      ]
     },
     "metadata": {},
     "output_type": "display_data"
    }
   ],
   "source": [
    "import ee\n",
    "import geemap\n",
    "import os\n",
    "\n",
    "# Authenticate to Earth Engine\n",
    "try:\n",
    "  ee.Initialize(project='envr451-2024')\n",
    "except Exception as e:\n",
    "  ee.Authenticate()\n",
    "  ee.Initialize(project='envr451-2024')"
   ]
  },
  {
   "cell_type": "markdown",
   "id": "012ea195-5387-46f3-bae8-9f5329955bf8",
   "metadata": {},
   "source": [
    "# Planet\n",
    "Planet provides us with 4.77m resolution all the way to Jan 2016.\n",
    "https://developers.google.com/earth-engine/datasets/catalog/projects_planet-nicfi_assets_basemaps_americas\n",
    "\n",
    "Note - with the NICFI project, we can only get biannual images up until 2020; in 2020 we get\n",
    "planet_medres_normalized_analytic_2020-06_2020-08_mosaic\r\n",
    "planet_medres_normalized_analytic_2020-09_mosaic\r\n",
    "planet_medres_normalized_analytic_2020-10_mosaic\r\n",
    "planet_medres_normalized_analytic_2020-11_mosaic\r\n",
    "planet_medres_normalized_analytic_2020-12_mo\n",
    "\n",
    "Here, I am considering medians for all years. Consider, however, that some images have clouds, and we expect worse quality for the images from 2015-2020 since 2015-2019 only has 2 images per year, and 2020 has 5, while for 2021-2024 we get all 12 images for the year.\n",
    "\n",
    "This can be improved once we get all images from McGill. Also, these should be at 3.7m resolution.saic"
   ]
  },
  {
   "cell_type": "code",
   "execution_count": 260,
   "id": "17e77755-6934-473f-b7e6-fa6097f1f3e9",
   "metadata": {},
   "outputs": [
    {
     "data": {
      "text/html": [
       "\n",
       "            <style>\n",
       "                .geemap-dark {\n",
       "                    --jp-widgets-color: white;\n",
       "                    --jp-widgets-label-color: white;\n",
       "                    --jp-ui-font-color1: white;\n",
       "                    --jp-layout-color2: #454545;\n",
       "                    background-color: #383838;\n",
       "                }\n",
       "                    \n",
       "                .geemap-dark .jupyter-button {\n",
       "                    --jp-layout-color3: #383838;\n",
       "                }\n",
       "                \n",
       "                .geemap-colab {\n",
       "                    background-color: var(--colab-primary-surface-color, white);\n",
       "                }\n",
       "                    \n",
       "                .geemap-colab .jupyter-button {\n",
       "                    --jp-layout-color3: var(--colab-primary-surface-color, white);\n",
       "                }\n",
       "            </style>\n",
       "            "
      ],
      "text/plain": [
       "<IPython.core.display.HTML object>"
      ]
     },
     "metadata": {},
     "output_type": "display_data"
    }
   ],
   "source": [
    "piura_shp = ee.FeatureCollection('projects/envr451-2024/assets/piura').geometry()\n",
    "basemap = ee.ImageCollection('projects/planet-nicfi/assets/basemaps/americas').filter(ee.Filter.date('2015-01-01', '2024-12-31')) \\\n",
    "            .map(lambda image: image.clip(piura_shp))\n",
    "\n",
    "# Define the years for which you want to calculate geometric medians.\n",
    "years = ee.List.sequence(2015, 2024)\n",
    "\n",
    "# Function to calculate geometric median for each year.\n",
    "def calculate_median(year):\n",
    "    start_date = ee.Date.fromYMD(year, 1, 1)\n",
    "    end_date = ee.Date.fromYMD(year, 12, 31)\n",
    "    yearly_collection = basemap.filterDate(start_date, end_date)\n",
    "    median = yearly_collection.reduce(ee.Reducer.median())\n",
    "    return median.set('year', year)\n",
    "\n",
    "# Map over the list of years and calculate geometric medians.\n",
    "yearly_medians = ee.ImageCollection(years.map(calculate_median)).map(lambda image: image.clip(piura_shp))\n",
    "yearly_medians_list = yearly_medians.toList(yearly_medians.size())\n",
    "\n",
    "# Get the number of images.\n",
    "num_images = yearly_medians_list.size().getInfo()\n",
    "\n",
    "# Loop over the list and export each image.\n",
    "for i in range(num_images):\n",
    "    year = years.get(i).getInfo()\n",
    "    task = ee.batch.Export.image.toDrive(\n",
    "        image=ee.Image(yearly_medians_list.get(i)),\n",
    "        description = 'Planet_Satellite_5m_median_' + str(year),\n",
    "        fileNamePrefix = 'Planet_Satellite_5m_median_' + str(year),\n",
    "        region=piura_shp,\n",
    "        scale=5,\n",
    "        maxPixels=1e13\n",
    "    )\n",
    "    task.start()\n",
    "\n",
    "# vis_basemap = {'bands': ['R_median', 'G_median', 'B_median'], 'min': 64, 'max': 5454, 'gamma': 1.8}\n",
    "# Map = geemap.Map()\n",
    "# Map.centerObject(piura_shp, 13)\n",
    "# Map.addLayer(yearly_medians.first(), vis_basemap, 'last_image')\n",
    "# Map"
   ]
  },
  {
   "cell_type": "markdown",
   "id": "a9df69cf-4786-4b1c-81f8-679ab4f5c51d",
   "metadata": {},
   "source": [
    "# Copernicus Land Cover\n",
    "100m resolution\n",
    "2015-01-01 to 2019-12-31\n",
    "\n",
    "https://developers.google.com/earth-engine/datasets/catalog/COPERNICUS_Landcover_100m_Proba-V-C3_Global#description"
   ]
  },
  {
   "cell_type": "code",
   "execution_count": null,
   "id": "964c8349-a48e-4050-94d6-ab42c0590b4f",
   "metadata": {},
   "outputs": [],
   "source": [
    "dataset = ee.Image('COPERNICUS/Landcover/100m/Proba-V-C3/Global/2019')\n",
    ".select('discrete_classification')"
   ]
  },
  {
   "cell_type": "markdown",
   "id": "65717085-92b8-482c-9bcf-c5ff5e496964",
   "metadata": {},
   "source": [
    "# Landsat\n",
    "Landsat provides 30m resolution from 1985 to today.\n",
    "\n",
    "An annual composite is made to correct for cloud coverage, with instructions from the following video: https://www.youtube.com/watch?v=GzQ9HSXz9vE\n"
   ]
  },
  {
   "cell_type": "code",
   "execution_count": 286,
   "id": "c49f8918-c62d-4413-9280-5ddd4474fade",
   "metadata": {},
   "outputs": [
    {
     "data": {
      "text/html": [
       "\n",
       "            <style>\n",
       "                .geemap-dark {\n",
       "                    --jp-widgets-color: white;\n",
       "                    --jp-widgets-label-color: white;\n",
       "                    --jp-ui-font-color1: white;\n",
       "                    --jp-layout-color2: #454545;\n",
       "                    background-color: #383838;\n",
       "                }\n",
       "                    \n",
       "                .geemap-dark .jupyter-button {\n",
       "                    --jp-layout-color3: #383838;\n",
       "                }\n",
       "                \n",
       "                .geemap-colab {\n",
       "                    background-color: var(--colab-primary-surface-color, white);\n",
       "                }\n",
       "                    \n",
       "                .geemap-colab .jupyter-button {\n",
       "                    --jp-layout-color3: var(--colab-primary-surface-color, white);\n",
       "                }\n",
       "            </style>\n",
       "            "
      ],
      "text/plain": [
       "<IPython.core.display.HTML object>"
      ]
     },
     "metadata": {},
     "output_type": "display_data"
    }
   ],
   "source": [
    "L5coll = (ee.ImageCollection('LANDSAT/LT05/C01/T1_SR')\n",
    "          .filter(ee.Filter.lt('CLOUD_COVER',25))\n",
    "          .select(['B3', 'B2', 'B1'])\n",
    "          .filterBounds(piura_shp))\n",
    "\n",
    "def blend_image(image):\n",
    "    filled1a = image.focal_mean(2, 'square', 'pixels', 1)\n",
    "    return filled1a.blend(image)\n",
    "\n",
    "L7coll = (ee.ImageCollection('LANDSAT/LE07/C01/T1_SR')\n",
    "          .filter(ee.Filter.lt('CLOUD_COVER',25))\n",
    "          .select(['B3', 'B2', 'B1'])\n",
    "          .filterBounds(piura_shp)\n",
    "          .map(blend_image))\n",
    "\n",
    "def rename_bands(image):\n",
    "    return image.rename(['B0', 'B1', 'B2', 'B3', 'B4', 'B5', 'B6', 'B7', 'B8', 'B9', 'B10', 'B11'])\n",
    "\n",
    "L8coll = (ee.ImageCollection('LANDSAT/LC08/C01/T1_SR')\n",
    "          .filter(ee.Filter.lt('CLOUD_COVER',5))\n",
    "          .filterBounds(piura_shp)\n",
    "          .map(rename_bands)\n",
    "          .select(['B3', 'B2', 'B1']))\n",
    "\n",
    "\n",
    "years = ee.List.sequence(1984, 2024)\n",
    "\n",
    "landsat_basemap = ee.ImageCollection(L5coll.merge(L7coll.merge(L8coll)))\n",
    "# # Function to calculate geometric median for each year.\n",
    "# def calculate_median(year):\n",
    "#     start_date = ee.Date.fromYMD(year, 1, 1)\n",
    "#     end_date = ee.Date.fromYMD(year, 12, 31)\n",
    "#     yearly_collection = landsat_basemap.filterDate(start_date, end_date)\n",
    "#     median = yearly_collection.reduce(ee.Reducer.mean())\n",
    "#     return median.set('year', year)\n",
    "\n",
    "# # Map over the list of years and calculate geometric medians.\n",
    "# yearly_medians = ee.ImageCollection(years.map(calculate_median)).map(lambda image: image.clip(piura_shp))\n",
    "# yearly_medians"
   ]
  },
  {
   "cell_type": "code",
   "execution_count": 298,
   "id": "81cc8fbd-1cba-41c8-a633-1bd9e2ff2d9d",
   "metadata": {},
   "outputs": [
    {
     "data": {
      "text/html": [
       "\n",
       "            <style>\n",
       "                .geemap-dark {\n",
       "                    --jp-widgets-color: white;\n",
       "                    --jp-widgets-label-color: white;\n",
       "                    --jp-ui-font-color1: white;\n",
       "                    --jp-layout-color2: #454545;\n",
       "                    background-color: #383838;\n",
       "                }\n",
       "                    \n",
       "                .geemap-dark .jupyter-button {\n",
       "                    --jp-layout-color3: #383838;\n",
       "                }\n",
       "                \n",
       "                .geemap-colab {\n",
       "                    background-color: var(--colab-primary-surface-color, white);\n",
       "                }\n",
       "                    \n",
       "                .geemap-colab .jupyter-button {\n",
       "                    --jp-layout-color3: var(--colab-primary-surface-color, white);\n",
       "                }\n",
       "            </style>\n",
       "            "
      ],
      "text/plain": [
       "<IPython.core.display.HTML object>"
      ]
     },
     "metadata": {},
     "output_type": "display_data"
    }
   ],
   "source": [
    "# Define the date range\n",
    "start_date = '1985-01-01'\n",
    "end_date = '2024-03-03'\n",
    "\n",
    "L5coll = (ee.ImageCollection('LANDSAT/LT05/C01/T1_SR')\n",
    "          .filter(ee.Filter.lt('CLOUD_COVER',25))\n",
    "          .filterDate(start_date, end_date)\n",
    "          .select(['B3', 'B2', 'B1'])\n",
    "          .filterBounds(piura_shp))\n",
    "\n",
    "def blend_image(image):\n",
    "    filled1a = image.focal_mean(2, 'square', 'pixels', 1)\n",
    "    return filled1a.blend(image)\n",
    "\n",
    "L7coll = (ee.ImageCollection('LANDSAT/LE07/C01/T1_SR')\n",
    "          .filterDate(start_date, end_date)\n",
    "          .select(['B3', 'B2', 'B1'])\n",
    "          .filterBounds(piura_shp)\n",
    "          .map(blend_image))\n",
    "\n",
    "def rename_bands(image):\n",
    "    return image.rename(['B0', 'B1', 'B2', 'B3', 'B4', 'B5', 'B6', 'B7', 'B8', 'B9', 'B10', 'B11'])\n",
    "\n",
    "L8coll = (ee.ImageCollection('LANDSAT/LC08/C01/T1_SR')\n",
    "          .filterDate(start_date, end_date)\n",
    "          .filterBounds(piura_shp)\n",
    "          .map(rename_bands)\n",
    "          .select(['B3', 'B2', 'B1']))\n",
    "\n",
    "def mask_l8_sr(image):\n",
    "    # Bits 3 and 5 are cloud shadow and cloud, respectively.\n",
    "    cloud_shadow_bit_mask = (1 << 3)\n",
    "    clouds_bit_mask = (1 << 5)\n",
    "    # Get the pixel QA band.\n",
    "    qa = image.select('pixel_qa')\n",
    "    # Both flags should be set to zero, indicating clear conditions.\n",
    "    mask = qa.bitwiseAnd(cloud_shadow_bit_mask).eq(0) and (qa.bitwiseAnd(clouds_bit_mask).eq(0))\n",
    "    return image.updateMask(mask)\n",
    "\n",
    "SATELLITE_SR = 'LANDSAT/LC08/C01/T1_SR'\n",
    "RGB = ['B4', 'B3', 'B2']\n",
    "dataset = ee.ImageCollection(SATELLITE_SR).filterBounds(piura_shp).filterDate(start_date, end_date).map(\n",
    "    mask_l8_sr).select(RGB)\n",
    "\n",
    "# Function to calculate geometric median for each year.\n",
    "def calculate_median(year):\n",
    "    start_date = ee.Date.fromYMD(year, 1, 1)\n",
    "    end_date = ee.Date.fromYMD(year, 12, 31)\n",
    "    yearly_collection = dataset.filterDate(start_date, end_date)\n",
    "    median = yearly_collection.reduce(ee.Reducer.median())\n",
    "    return median.set('year', year)\n",
    "\n",
    "# Map over the list of years and calculate geometric medians.\n",
    "yearly_medians = ee.ImageCollection(years.map(calculate_median))\n"
   ]
  },
  {
   "cell_type": "markdown",
   "id": "565eddec-2019-424c-aac9-ce285126fa92",
   "metadata": {},
   "source": [
    "# Dynamic World\n",
    "10m land use, from 2015-06-27 to today. Near real time.\n",
    "\n",
    "\n",
    "https://developers.google.com/earth-engine/datasets/catalog/GOOGLE_DYNAMICWORLD_V1#colab-python\n"
   ]
  },
  {
   "cell_type": "markdown",
   "id": "fc33074e-9398-4413-bb5d-64cf7f2269b2",
   "metadata": {},
   "source": [
    "# ESA WorldCover\n",
    "10m resolution\n",
    "2020-01-01 - 2022-12-31\n",
    "\n",
    "https://developers.google.com/earth-engine/datasets/catalog/ESA_WorldCover_v100\n",
    "https://developers.google.com/earth-engine/datasets/catalog/ESA_WorldCover_v200"
   ]
  },
  {
   "cell_type": "code",
   "execution_count": 316,
   "id": "274c6fa9-0f27-4308-8569-da58dbb32106",
   "metadata": {},
   "outputs": [
    {
     "data": {
      "text/html": [
       "\n",
       "            <style>\n",
       "                .geemap-dark {\n",
       "                    --jp-widgets-color: white;\n",
       "                    --jp-widgets-label-color: white;\n",
       "                    --jp-ui-font-color1: white;\n",
       "                    --jp-layout-color2: #454545;\n",
       "                    background-color: #383838;\n",
       "                }\n",
       "                    \n",
       "                .geemap-dark .jupyter-button {\n",
       "                    --jp-layout-color3: #383838;\n",
       "                }\n",
       "                \n",
       "                .geemap-colab {\n",
       "                    background-color: var(--colab-primary-surface-color, white);\n",
       "                }\n",
       "                    \n",
       "                .geemap-colab .jupyter-button {\n",
       "                    --jp-layout-color3: var(--colab-primary-surface-color, white);\n",
       "                }\n",
       "            </style>\n",
       "            "
      ],
      "text/plain": [
       "<IPython.core.display.HTML object>"
      ]
     },
     "metadata": {},
     "output_type": "display_data"
    },
    {
     "data": {
      "text/html": [
       "<div><style>:root {\n",
       "  --font-color-primary: var(--jp-content-font-color0, rgba(0, 0, 0, 1));\n",
       "  --font-color-secondary: var(--jp-content-font-color2, rgba(0, 0, 0, 0.6));\n",
       "  --font-color-accent: rgba(123, 31, 162, 1);\n",
       "  --border-color: var(--jp-border-color2, #e0e0e0);\n",
       "  --background-color: var(--jp-layout-color0, white);\n",
       "  --background-color-row-even: var(--jp-layout-color1, white);\n",
       "  --background-color-row-odd: var(--jp-layout-color2, #eeeeee);\n",
       "}\n",
       "\n",
       "html[theme=\"dark\"],\n",
       "body[data-theme=\"dark\"],\n",
       "body.vscode-dark {\n",
       "  --font-color-primary: rgba(255, 255, 255, 1);\n",
       "  --font-color-secondary: rgba(255, 255, 255, 0.6);\n",
       "  --font-color-accent: rgb(173, 132, 190);\n",
       "  --border-color: #2e2e2e;\n",
       "  --background-color: #111111;\n",
       "  --background-color-row-even: #111111;\n",
       "  --background-color-row-odd: #313131;\n",
       "}\n",
       "\n",
       ".ee {\n",
       "  padding: 1em;\n",
       "  line-height: 1.5em;\n",
       "  min-width: 300px;\n",
       "  max-width: 1200px;\n",
       "  overflow-y: scroll;\n",
       "  max-height: 600px;\n",
       "  border: 1px solid var(--border-color);\n",
       "  font-family: monospace;\n",
       "}\n",
       "\n",
       ".ee li {\n",
       "  list-style-type: none;\n",
       "}\n",
       "\n",
       ".ee ul {\n",
       "  padding-left: 1.5em !important;\n",
       "  margin: 0;\n",
       "}\n",
       "\n",
       ".ee > ul {\n",
       "  padding-left: 0 !important;\n",
       "}\n",
       "\n",
       ".ee-open,\n",
       ".ee-shut {\n",
       "  color: var(--font-color-secondary);\n",
       "  cursor: pointer;\n",
       "  margin: 0;\n",
       "}\n",
       "\n",
       ".ee-open:hover,\n",
       ".ee-shut:hover {\n",
       "  color: var(--font-color-primary);\n",
       "}\n",
       "\n",
       ".ee-k {\n",
       "  color: var(--font-color-accent);\n",
       "  margin-right: 6px;\n",
       "}\n",
       "\n",
       ".ee-v {\n",
       "  color: var(--font-color-primary);\n",
       "}\n",
       "\n",
       ".ee-toggle {\n",
       "  display: none;\n",
       "}\n",
       "\n",
       ".ee-shut + ul {\n",
       "  display: none;\n",
       "}\n",
       "\n",
       ".ee-open + ul {\n",
       "  display: block;\n",
       "}\n",
       "\n",
       ".ee-shut::before {\n",
       "  display: inline-block;\n",
       "  content: \"▼\";\n",
       "  margin-right: 6px;\n",
       "  transform: rotate(-90deg);\n",
       "  transition: transform 0.2s;\n",
       "}\n",
       "\n",
       ".ee-open::before {\n",
       "  transform: rotate(0deg);\n",
       "  display: inline-block;\n",
       "  content: \"▼\";\n",
       "  margin-right: 6px;\n",
       "  transition: transform 0.2s;\n",
       "}\n",
       "</style><div class='ee'><ul><li><label class='ee-shut'>ImageCollection ESA/WorldCover/v100  (1 element)<input type='checkbox' class='ee-toggle'></label><ul><li><span class='ee-k'>type:</span><span class='ee-v'>ImageCollection</span></li><li><span class='ee-k'>id:</span><span class='ee-v'>ESA/WorldCover/v100</span></li><li><span class='ee-k'>version:</span><span class='ee-v'>1685065671563344</span></li><li><label class='ee-shut'>bands: []<input type='checkbox' class='ee-toggle'></label><ul></ul></li><li><label class='ee-shut'>properties: Object (13 properties)<input type='checkbox' class='ee-toggle'></label><ul><li><label class='ee-shut'>date_range: [1577836800000, 1609459200000]<input type='checkbox' class='ee-toggle'></label><ul><li><span class='ee-k'>0:</span><span class='ee-v'>1577836800000</span></li><li><span class='ee-k'>1:</span><span class='ee-v'>1609459200000</span></li></ul></li><li><span class='ee-k'>description:</span><span class='ee-v'><p>The European Space Agency (ESA) WorldCover 10 m 2020 product provides a\n",
       "global land cover map for 2020 at 10 m resolution based on Sentinel-1 and\n",
       "Sentinel-2 data. The WorldCover product comes with 11 land cover classes and\n",
       "has been generated in the framework of the ESA WorldCover project, part of the\n",
       "5th Earth Observation Envelope Programme (EOEP-5) of the European Space Agency.</p><p>See also:</p><ul><li><a href=\"https://esa-worldcover.org\">ESA WorldCover website</a></li><li><a href=\"https://esa-worldcover.org/en/data-access\">User Manual and Validation Report</a></li></ul><p><b>Provider: <a href=\"https://esa-worldcover.org/en\">ESA/VITO/Brockmann Consult/CS/GAMMA Remote Sensing/IIASA/WUR</a></b><br><p><b>Resolution</b><br>10 meters\n",
       "</p><p><b>Bands</b><table class=\"eecat\"><tr><th scope=\"col\">Name</th><th scope=\"col\">Description</th></tr><tr><td>Map</td><td><p>Landcover class</p></td></tr></table><p><b>Terms of Use</b><br><p>CC-BY-4.0</p><p><b>Suggested citation(s)</b><ul><li><p>A publication is under preparation.</p></li></ul><style>\n",
       "  table.eecat {\n",
       "  border: 1px solid black;\n",
       "  border-collapse: collapse;\n",
       "  font-size: 13px;\n",
       "  }\n",
       "  table.eecat td, tr, th {\n",
       "  text-align: left; vertical-align: top;\n",
       "  border: 1px solid gray; padding: 3px;\n",
       "  }\n",
       "  td.nobreak { white-space: nowrap; }\n",
       "</style></span></li><li><label class='ee-shut'>keywords: List (5 elements)<input type='checkbox' class='ee-toggle'></label><ul><li><span class='ee-k'>0:</span><span class='ee-v'>esa</span></li><li><span class='ee-k'>1:</span><span class='ee-v'>landcover</span></li><li><span class='ee-k'>2:</span><span class='ee-v'>landuse</span></li><li><span class='ee-k'>3:</span><span class='ee-v'>sentinel1-derived</span></li><li><span class='ee-k'>4:</span><span class='ee-v'>sentinel2-derived</span></li></ul></li><li><span class='ee-k'>max_mirrored_version:</span><span class='ee-v'>1634633454597615</span></li><li><span class='ee-k'>period:</span><span class='ee-v'>0</span></li><li><span class='ee-k'>provider:</span><span class='ee-v'>ESA/VITO/Brockmann Consult/CS/GAMMA Remote Sensing/IIASA/WUR</span></li><li><span class='ee-k'>provider_url:</span><span class='ee-v'>https://esa-worldcover.org/en</span></li><li><span class='ee-k'>sample:</span><span class='ee-v'>https://mw1.google.com/ges/dd/images/ESA_WorldCover_v100_sample.png</span></li><li><label class='ee-shut'>tags: List (5 elements)<input type='checkbox' class='ee-toggle'></label><ul><li><span class='ee-k'>0:</span><span class='ee-v'>esa</span></li><li><span class='ee-k'>1:</span><span class='ee-v'>landcover</span></li><li><span class='ee-k'>2:</span><span class='ee-v'>landuse</span></li><li><span class='ee-k'>3:</span><span class='ee-v'>sentinel1-derived</span></li><li><span class='ee-k'>4:</span><span class='ee-v'>sentinel2-derived</span></li></ul></li><li><span class='ee-k'>title:</span><span class='ee-v'>ESA WorldCover 10m v100</span></li><li><span class='ee-k'>type_name:</span><span class='ee-v'>ImageCollection</span></li><li><span class='ee-k'>visualization_0_bands:</span><span class='ee-v'>Map</span></li><li><span class='ee-k'>visualization_0_name:</span><span class='ee-v'>Landcover</span></li></ul></li><li><label class='ee-shut'>features: List (1 element)<input type='checkbox' class='ee-toggle'></label><ul><li><label class='ee-shut'>0: Image ESA/WorldCover/v100/2020 (1 band)<input type='checkbox' class='ee-toggle'></label><ul><li><span class='ee-k'>type:</span><span class='ee-v'>Image</span></li><li><span class='ee-k'>id:</span><span class='ee-v'>ESA/WorldCover/v100/2020</span></li><li><span class='ee-k'>version:</span><span class='ee-v'>1685065671563344</span></li><li><label class='ee-shut'>bands: List (1 element)<input type='checkbox' class='ee-toggle'></label><ul><li><label class='ee-shut'>0: \"Map\", unsigned int8, EPSG:4326, 775x696 px<input type='checkbox' class='ee-toggle'></label><ul><li><span class='ee-k'>id:</span><span class='ee-v'>Map</span></li><li><span class='ee-k'>crs:</span><span class='ee-v'>EPSG:4326</span></li><li><label class='ee-shut'>crs_transform: List (6 elements)<input type='checkbox' class='ee-toggle'></label><ul><li><span class='ee-k'>0:</span><span class='ee-v'>8.333333333333333e-05</span></li><li><span class='ee-k'>1:</span><span class='ee-v'>0</span></li><li><span class='ee-k'>2:</span><span class='ee-v'>-180</span></li><li><span class='ee-k'>3:</span><span class='ee-v'>0</span></li><li><span class='ee-k'>4:</span><span class='ee-v'>-8.333333333333333e-05</span></li><li><span class='ee-k'>5:</span><span class='ee-v'>84</span></li></ul></li><li><label class='ee-shut'>data_type: unsigned int8<input type='checkbox' class='ee-toggle'></label><ul><li><span class='ee-k'>type:</span><span class='ee-v'>PixelType</span></li><li><span class='ee-k'>max:</span><span class='ee-v'>255</span></li><li><span class='ee-k'>min:</span><span class='ee-v'>0</span></li><li><span class='ee-k'>precision:</span><span class='ee-v'>int</span></li></ul></li><li><label class='ee-shut'>dimensions: [775, 696]<input type='checkbox' class='ee-toggle'></label><ul><li><span class='ee-k'>0:</span><span class='ee-v'>775</span></li><li><span class='ee-k'>1:</span><span class='ee-v'>696</span></li></ul></li><li><label class='ee-shut'>origin: [1187514, 905462]<input type='checkbox' class='ee-toggle'></label><ul><li><span class='ee-k'>0:</span><span class='ee-v'>1187514</span></li><li><span class='ee-k'>1:</span><span class='ee-v'>905462</span></li></ul></li></ul></li></ul></li><li><label class='ee-shut'>properties: Object (8 properties)<input type='checkbox' class='ee-toggle'></label><ul><li><label class='ee-shut'>Map_class_names: List (11 elements)<input type='checkbox' class='ee-toggle'></label><ul><li><span class='ee-k'>0:</span><span class='ee-v'>Tree cover</span></li><li><span class='ee-k'>1:</span><span class='ee-v'>Shrubland</span></li><li><span class='ee-k'>2:</span><span class='ee-v'>Grassland</span></li><li><span class='ee-k'>3:</span><span class='ee-v'>Cropland</span></li><li><span class='ee-k'>4:</span><span class='ee-v'>Built-up</span></li><li><span class='ee-k'>5:</span><span class='ee-v'>Bare / sparse vegetation</span></li><li><span class='ee-k'>6:</span><span class='ee-v'>Snow and ice</span></li><li><span class='ee-k'>7:</span><span class='ee-v'>Permanent water bodies</span></li><li><span class='ee-k'>8:</span><span class='ee-v'>Herbaceous wetland</span></li><li><span class='ee-k'>9:</span><span class='ee-v'>Mangroves</span></li><li><span class='ee-k'>10:</span><span class='ee-v'>Moss and lichen</span></li></ul></li><li><label class='ee-shut'>Map_class_palette: List (11 elements)<input type='checkbox' class='ee-toggle'></label><ul><li><span class='ee-k'>0:</span><span class='ee-v'>006400</span></li><li><span class='ee-k'>1:</span><span class='ee-v'>ffbb22</span></li><li><span class='ee-k'>2:</span><span class='ee-v'>ffff4c</span></li><li><span class='ee-k'>3:</span><span class='ee-v'>f096ff</span></li><li><span class='ee-k'>4:</span><span class='ee-v'>fa0000</span></li><li><span class='ee-k'>5:</span><span class='ee-v'>b4b4b4</span></li><li><span class='ee-k'>6:</span><span class='ee-v'>f0f0f0</span></li><li><span class='ee-k'>7:</span><span class='ee-v'>0064c8</span></li><li><span class='ee-k'>8:</span><span class='ee-v'>0096a0</span></li><li><span class='ee-k'>9:</span><span class='ee-v'>00cf75</span></li><li><span class='ee-k'>10:</span><span class='ee-v'>fae6a0</span></li></ul></li><li><label class='ee-shut'>Map_class_values: [10, 20, 30, 40, 50, 60, 70, 80, 90, 95, 100]<input type='checkbox' class='ee-toggle'></label><ul><li><span class='ee-k'>0:</span><span class='ee-v'>10</span></li><li><span class='ee-k'>1:</span><span class='ee-v'>20</span></li><li><span class='ee-k'>2:</span><span class='ee-v'>30</span></li><li><span class='ee-k'>3:</span><span class='ee-v'>40</span></li><li><span class='ee-k'>4:</span><span class='ee-v'>50</span></li><li><span class='ee-k'>5:</span><span class='ee-v'>60</span></li><li><span class='ee-k'>6:</span><span class='ee-v'>70</span></li><li><span class='ee-k'>7:</span><span class='ee-v'>80</span></li><li><span class='ee-k'>8:</span><span class='ee-v'>90</span></li><li><span class='ee-k'>9:</span><span class='ee-v'>95</span></li><li><span class='ee-k'>10:</span><span class='ee-v'>100</span></li></ul></li><li><span class='ee-k'>system:asset_size:</span><span class='ee-v'>109355097577</span></li><li><label class='ee-shut'>system:footprint: Polygon (25 vertices)<input type='checkbox' class='ee-toggle'></label><ul><li><span class='ee-k'>type:</span><span class='ee-v'>Polygon</span></li><li><label class='ee-shut'>coordinates: List (1 element)<input type='checkbox' class='ee-toggle'></label><ul><li><label class='ee-shut'>0: List (25 elements)<input type='checkbox' class='ee-toggle'></label><ul><li><label class='ee-shut'>0: [-81.04040705040136, 8.51956291969428]<input type='checkbox' class='ee-toggle'></label><ul><li><span class='ee-k'>0:</span><span class='ee-v'>-81.04040705040136</span></li><li><span class='ee-k'>1:</span><span class='ee-v'>8.51956291969428</span></li></ul></li><li><label class='ee-shut'>1: [-81.03986756180058, 8.513507437337905]<input type='checkbox' class='ee-toggle'></label><ul><li><span class='ee-k'>0:</span><span class='ee-v'>-81.03986756180058</span></li><li><span class='ee-k'>1:</span><span class='ee-v'>8.513507437337905</span></li></ul></li><li><label class='ee-shut'>2: [-81.03330822030645, 8.505003982661146]<input type='checkbox' class='ee-toggle'></label><ul><li><span class='ee-k'>0:</span><span class='ee-v'>-81.03330822030645</span></li><li><span class='ee-k'>1:</span><span class='ee-v'>8.505003982661146</span></li></ul></li><li><label class='ee-shut'>3: [-81.02880002549489, 8.489945562270556]<input type='checkbox' class='ee-toggle'></label><ul><li><span class='ee-k'>0:</span><span class='ee-v'>-81.02880002549489</span></li><li><span class='ee-k'>1:</span><span class='ee-v'>8.489945562270556</span></li></ul></li><li><label class='ee-shut'>4: [-81.02205789675563, 8.487916717614238]<input type='checkbox' class='ee-toggle'></label><ul><li><span class='ee-k'>0:</span><span class='ee-v'>-81.02205789675563</span></li><li><span class='ee-k'>1:</span><span class='ee-v'>8.487916717614238</span></li></ul></li><li><label class='ee-shut'>5: [-81.01585973626474, 8.486891135890106]<input type='checkbox' class='ee-toggle'></label><ul><li><span class='ee-k'>0:</span><span class='ee-v'>-81.01585973626474</span></li><li><span class='ee-k'>1:</span><span class='ee-v'>8.486891135890106</span></li></ul></li><li><label class='ee-shut'>6: [-81.01324224422623, 8.486886659364755]<input type='checkbox' class='ee-toggle'></label><ul><li><span class='ee-k'>0:</span><span class='ee-v'>-81.01324224422623</span></li><li><span class='ee-k'>1:</span><span class='ee-v'>8.486886659364755</span></li></ul></li><li><label class='ee-shut'>7: [-80.99740353678646, 8.488433965416835]<input type='checkbox' class='ee-toggle'></label><ul><li><span class='ee-k'>0:</span><span class='ee-v'>-80.99740353678646</span></li><li><span class='ee-k'>1:</span><span class='ee-v'>8.488433965416835</span></li></ul></li><li><label class='ee-shut'>8: [-80.97598642201157, 8.502038679679663]<input type='checkbox' class='ee-toggle'></label><ul><li><span class='ee-k'>0:</span><span class='ee-v'>-80.97598642201157</span></li><li><span class='ee-k'>1:</span><span class='ee-v'>8.502038679679663</span></li></ul></li><li><label class='ee-shut'>9: [-80.97731527477903, 8.504718598010411]<input type='checkbox' class='ee-toggle'></label><ul><li><span class='ee-k'>0:</span><span class='ee-v'>-80.97731527477903</span></li><li><span class='ee-k'>1:</span><span class='ee-v'>8.504718598010411</span></li></ul></li><li><label class='ee-shut'>10: [-80.98001751857188, 8.507982634648096]<input type='checkbox' class='ee-toggle'></label><ul><li><span class='ee-k'>0:</span><span class='ee-v'>-80.98001751857188</span></li><li><span class='ee-k'>1:</span><span class='ee-v'>8.507982634648096</span></li></ul></li><li><label class='ee-shut'>11: [-80.98098955162035, 8.513074945786745]<input type='checkbox' class='ee-toggle'></label><ul><li><span class='ee-k'>0:</span><span class='ee-v'>-80.98098955162035</span></li><li><span class='ee-k'>1:</span><span class='ee-v'>8.513074945786745</span></li></ul></li><li><label class='ee-shut'>12: [-80.98163610550338, 8.51942469096169]<input type='checkbox' class='ee-toggle'></label><ul><li><span class='ee-k'>0:</span><span class='ee-v'>-80.98163610550338</span></li><li><span class='ee-k'>1:</span><span class='ee-v'>8.51942469096169</span></li></ul></li><li><label class='ee-shut'>13: [-80.98118129232938, 8.529961585479679]<input type='checkbox' class='ee-toggle'></label><ul><li><span class='ee-k'>0:</span><span class='ee-v'>-80.98118129232938</span></li><li><span class='ee-k'>1:</span><span class='ee-v'>8.529961585479679</span></li></ul></li><li><label class='ee-shut'>14: [-80.98195718820129, 8.53712734158279]<input type='checkbox' class='ee-toggle'></label><ul><li><span class='ee-k'>0:</span><span class='ee-v'>-80.98195718820129</span></li><li><span class='ee-k'>1:</span><span class='ee-v'>8.53712734158279</span></li></ul></li><li><label class='ee-shut'>15: [-80.98195718820129, 8.537296747298097]<input type='checkbox' class='ee-toggle'></label><ul><li><span class='ee-k'>0:</span><span class='ee-v'>-80.98195718820129</span></li><li><span class='ee-k'>1:</span><span class='ee-v'>8.537296747298097</span></li></ul></li><li><label class='ee-shut'>16: [-80.98195271935965, 8.537528654168984]<input type='checkbox' class='ee-toggle'></label><ul><li><span class='ee-k'>0:</span><span class='ee-v'>-80.98195271935965</span></li><li><span class='ee-k'>1:</span><span class='ee-v'>8.537528654168984</span></li></ul></li><li><label class='ee-shut'>17: [-80.9852301674505, 8.543156035912627]<input type='checkbox' class='ee-toggle'></label><ul><li><span class='ee-k'>0:</span><span class='ee-v'>-80.9852301674505</span></li><li><span class='ee-k'>1:</span><span class='ee-v'>8.543156035912627</span></li></ul></li><li><label class='ee-shut'>18: [-80.99611481247727, 8.544467010165729]<input type='checkbox' class='ee-toggle'></label><ul><li><span class='ee-k'>0:</span><span class='ee-v'>-80.99611481247727</span></li><li><span class='ee-k'>1:</span><span class='ee-v'>8.544467010165729</span></li></ul></li><li><label class='ee-shut'>19: [-81.01012981378848, 8.54476128179716]<input type='checkbox' class='ee-toggle'></label><ul><li><span class='ee-k'>0:</span><span class='ee-v'>-81.01012981378848</span></li><li><span class='ee-k'>1:</span><span class='ee-v'>8.54476128179716</span></li></ul></li><li><label class='ee-shut'>20: [-81.01719744207682, 8.544221719511112]<input type='checkbox' class='ee-toggle'></label><ul><li><span class='ee-k'>0:</span><span class='ee-v'>-81.01719744207682</span></li><li><span class='ee-k'>1:</span><span class='ee-v'>8.544221719511112</span></li></ul></li><li><label class='ee-shut'>21: [-81.03209533062102, 8.543298751017117]<input type='checkbox' class='ee-toggle'></label><ul><li><span class='ee-k'>0:</span><span class='ee-v'>-81.03209533062102</span></li><li><span class='ee-k'>1:</span><span class='ee-v'>8.543298751017117</span></li></ul></li><li><label class='ee-shut'>22: [-81.03808831009582, 8.54338788138222]<input type='checkbox' class='ee-toggle'></label><ul><li><span class='ee-k'>0:</span><span class='ee-v'>-81.03808831009582</span></li><li><span class='ee-k'>1:</span><span class='ee-v'>8.54338788138222</span></li></ul></li><li><label class='ee-shut'>23: [-81.03949295923087, 8.526108854990415]<input type='checkbox' class='ee-toggle'></label><ul><li><span class='ee-k'>0:</span><span class='ee-v'>-81.03949295923087</span></li><li><span class='ee-k'>1:</span><span class='ee-v'>8.526108854990415</span></li></ul></li><li><label class='ee-shut'>24: [-81.04040705040136, 8.51956291969428]<input type='checkbox' class='ee-toggle'></label><ul><li><span class='ee-k'>0:</span><span class='ee-v'>-81.04040705040136</span></li><li><span class='ee-k'>1:</span><span class='ee-v'>8.51956291969428</span></li></ul></li></ul></li></ul></li></ul></li><li><span class='ee-k'>system:index:</span><span class='ee-v'>2020</span></li><li><span class='ee-k'>system:time_end:</span><span class='ee-v'>1609459200000</span></li><li><span class='ee-k'>system:time_start:</span><span class='ee-v'>1577836800000</span></li></ul></li></ul></li></ul></li></ul></li></ul></div><script>function toggleHeader() {\n",
       "    const parent = this.parentElement;\n",
       "    parent.className = parent.className === \"ee-open\" ? \"ee-shut\" : \"ee-open\";\n",
       "}\n",
       "\n",
       "for (let c of document.getElementsByClassName(\"ee-toggle\")) {\n",
       "    c.onclick = toggleHeader;\n",
       "}</script></div>"
      ],
      "text/plain": [
       "<ee.imagecollection.ImageCollection at 0x229aa87d6d0>"
      ]
     },
     "execution_count": 316,
     "metadata": {},
     "output_type": "execute_result"
    }
   ],
   "source": [
    "dataset = ee.ImageCollection('ESA/WorldCover/v100').map(lambda image: image.clip(piura_shp))\n",
    "dataset\n",
    "\n",
    "# visualization = {\n",
    "#     'bands': ['Map'],\n",
    "# }\n",
    "\n",
    "# m = geemap.Map()\n",
    "# m.center_object(dataset)\n",
    "# m.add_layer(dataset, visualization, 'Landcover')\n",
    "# m"
   ]
  },
  {
   "cell_type": "markdown",
   "id": "0ac469de-6dbb-4b78-b8b8-62136a8f4811",
   "metadata": {},
   "source": [
    "# ESRI Land Use Land Cover\n",
    "\n",
    "https://livingatlas.arcgis.com/landcover/"
   ]
  },
  {
   "cell_type": "code",
   "execution_count": null,
   "id": "312dc1a2-4736-4a86-a5f6-ecad1aa78ffd",
   "metadata": {},
   "outputs": [],
   "source": [
    "esri_lulc2020 = ee.ImageCollection(\"projects/sat-io/open-datasets/landcover/ESRI_Global-LULC_10m\")\n"
   ]
  },
  {
   "cell_type": "markdown",
   "id": "048fd886-ce3d-40b4-91ac-69ee4159b107",
   "metadata": {},
   "source": [
    "# ESRI Topography\n",
    "\n",
    "All of these should have a finely traced but properly scaled grid with tick marks corresponding to decimal long./lat. degrees."
   ]
  },
  {
   "cell_type": "markdown",
   "id": "86af0703-7058-47ea-990a-eab316ad86ee",
   "metadata": {},
   "source": [
    "# NASA Elevation"
   ]
  },
  {
   "cell_type": "code",
   "execution_count": 128,
   "id": "04a8d65a-162a-473d-94b2-b7d3fdee0b25",
   "metadata": {},
   "outputs": [
    {
     "data": {
      "text/html": [
       "\n",
       "            <style>\n",
       "                .geemap-dark {\n",
       "                    --jp-widgets-color: white;\n",
       "                    --jp-widgets-label-color: white;\n",
       "                    --jp-ui-font-color1: white;\n",
       "                    --jp-layout-color2: #454545;\n",
       "                    background-color: #383838;\n",
       "                }\n",
       "                    \n",
       "                .geemap-dark .jupyter-button {\n",
       "                    --jp-layout-color3: #383838;\n",
       "                }\n",
       "                \n",
       "                .geemap-colab {\n",
       "                    background-color: var(--colab-primary-surface-color, white);\n",
       "                }\n",
       "                    \n",
       "                .geemap-colab .jupyter-button {\n",
       "                    --jp-layout-color3: var(--colab-primary-surface-color, white);\n",
       "                }\n",
       "            </style>\n",
       "            "
      ],
      "text/plain": [
       "<IPython.core.display.HTML object>"
      ]
     },
     "metadata": {},
     "output_type": "display_data"
    },
    {
     "data": {
      "application/vnd.jupyter.widget-view+json": {
       "model_id": "25d1d946e954421c8f5820c5bfde573f",
       "version_major": 2,
       "version_minor": 0
      },
      "text/plain": [
       "Map(center=[8.517382416611035, -81.00936813268046], controls=(WidgetControl(options=['position', 'transparent_…"
      ]
     },
     "execution_count": 128,
     "metadata": {},
     "output_type": "execute_result"
    }
   ],
   "source": [
    "# Import the dataset and select the elevation band.\n",
    "dataset = ee.Image('NASA/NASADEM_HGT/001')\n",
    "elevation = dataset.select('elevation')\n",
    "\n",
    "# Add a white background image to the map.\n",
    "background = ee.Image(1)\n",
    "background_vis = {'min': 0, 'max': 1}\n",
    "background_layer = background.visualize(**background_vis)\n",
    "\n",
    "# Set elevation visualization properties.\n",
    "elevation_vis = {'min': 0, 'max': 2000}\n",
    "\n",
    "# Set elevation <= 0 as transparent.\n",
    "elevation_masked = elevation.updateMask(elevation.gt(0)).clip(piura_shp)\n",
    "elevation_masked\n",
    "Map = geemap.Map()\n",
    "Map.addLayer(background_layer, {}, 'Background')\n",
    "Map.addLayer(elevation_masked, elevation_vis, 'Elevation')\n",
    "Map.centerObject(piura_shp, 12)\n",
    "Map"
   ]
  },
  {
   "cell_type": "markdown",
   "id": "1b03a470-179f-446a-9b23-2bddfe498744",
   "metadata": {},
   "source": [
    "# Hydrology\n",
    "\n",
    "https://developers.google.com/earth-engine/datasets/catalog/MERIT_Hydro_v1_0_1"
   ]
  },
  {
   "cell_type": "code",
   "execution_count": 132,
   "id": "b6028734-cc3e-480e-ad02-6bc447a9a75d",
   "metadata": {},
   "outputs": [
    {
     "data": {
      "text/html": [
       "\n",
       "            <style>\n",
       "                .geemap-dark {\n",
       "                    --jp-widgets-color: white;\n",
       "                    --jp-widgets-label-color: white;\n",
       "                    --jp-ui-font-color1: white;\n",
       "                    --jp-layout-color2: #454545;\n",
       "                    background-color: #383838;\n",
       "                }\n",
       "                    \n",
       "                .geemap-dark .jupyter-button {\n",
       "                    --jp-layout-color3: #383838;\n",
       "                }\n",
       "                \n",
       "                .geemap-colab {\n",
       "                    background-color: var(--colab-primary-surface-color, white);\n",
       "                }\n",
       "                    \n",
       "                .geemap-colab .jupyter-button {\n",
       "                    --jp-layout-color3: var(--colab-primary-surface-color, white);\n",
       "                }\n",
       "            </style>\n",
       "            "
      ],
      "text/plain": [
       "<IPython.core.display.HTML object>"
      ]
     },
     "metadata": {},
     "output_type": "display_data"
    },
    {
     "data": {
      "application/vnd.jupyter.widget-view+json": {
       "model_id": "25d1d946e954421c8f5820c5bfde573f",
       "version_major": 2,
       "version_minor": 0
      },
      "text/plain": [
       "Map(bottom=499687.0, center=[8.517382416611035, -81.00936813268046], controls=(WidgetControl(options=['positio…"
      ]
     },
     "execution_count": 132,
     "metadata": {},
     "output_type": "execute_result"
    }
   ],
   "source": [
    "dataset = ee.Image('MERIT/Hydro/v1_0_1').clip(piura_shp)\n",
    "\n",
    "visualization = {'bands': ['viswth']}\n",
    "\n",
    "Map.centerObject(piura_shp, 12)\n",
    "\n",
    "Map.addLayer(dataset, visualization, 'River width')\n",
    "Map"
   ]
  }
 ],
 "metadata": {
  "kernelspec": {
   "display_name": "Python 3 (ipykernel)",
   "language": "python",
   "name": "python3"
  },
  "language_info": {
   "codemirror_mode": {
    "name": "ipython",
    "version": 3
   },
   "file_extension": ".py",
   "mimetype": "text/x-python",
   "name": "python",
   "nbconvert_exporter": "python",
   "pygments_lexer": "ipython3",
   "version": "3.11.5"
  }
 },
 "nbformat": 4,
 "nbformat_minor": 5
}
