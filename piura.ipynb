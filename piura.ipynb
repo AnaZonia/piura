{
 "cells": [
  {
   "cell_type": "markdown",
   "id": "3c834077-069e-4e2b-9514-8f43f11ce06f",
   "metadata": {
    "jp-MarkdownHeadingCollapsed": true
   },
   "source": [
    "# Initial Setup\n",
    "- Initializing and authenticating google earth engine\n",
    "- Setting up folium"
   ]
  },
  {
   "cell_type": "code",
   "execution_count": 5,
   "id": "3ffab226-3513-4f89-83c3-6761db5c74e6",
   "metadata": {},
   "outputs": [
    {
     "data": {
      "text/html": [
       "\n",
       "            <style>\n",
       "                .geemap-dark {\n",
       "                    --jp-widgets-color: white;\n",
       "                    --jp-widgets-label-color: white;\n",
       "                    --jp-ui-font-color1: white;\n",
       "                    --jp-layout-color2: #454545;\n",
       "                    background-color: #383838;\n",
       "                }\n",
       "                    \n",
       "                .geemap-dark .jupyter-button {\n",
       "                    --jp-layout-color3: #383838;\n",
       "                }\n",
       "                \n",
       "                .geemap-colab {\n",
       "                    background-color: var(--colab-primary-surface-color, white);\n",
       "                }\n",
       "                    \n",
       "                .geemap-colab .jupyter-button {\n",
       "                    --jp-layout-color3: var(--colab-primary-surface-color, white);\n",
       "                }\n",
       "            </style>\n",
       "            "
      ],
      "text/plain": [
       "<IPython.core.display.HTML object>"
      ]
     },
     "metadata": {},
     "output_type": "display_data"
    }
   ],
   "source": [
    "import ee\n",
    "import geemap\n",
    "import os\n",
    "import numpy as np\n",
    "import branca\n",
    "import folium\n",
    "\n",
    "# Authenticate to Earth Engine\n",
    "try:\n",
    "  ee.Initialize(project='envr451-2024')\n",
    "except Exception as e:\n",
    "  ee.Authenticate()\n",
    "  ee.Initialize(project='envr451-2024')"
   ]
  },
  {
   "cell_type": "code",
   "execution_count": null,
   "id": "dd760480-928f-4f00-84cd-de54614687f2",
   "metadata": {},
   "outputs": [],
   "source": [
    "# Add custom basemaps to folium\n",
    "basemaps = {\n",
    "    'Google Maps': folium.TileLayer(\n",
    "        tiles = 'https://mt1.google.com/vt/lyrs=m&x={x}&y={y}&z={z}',\n",
    "        attr = 'Google',\n",
    "        name = 'Google Maps',\n",
    "        overlay = True,\n",
    "        control = True\n",
    "    ),\n",
    "    'Google Satellite': folium.TileLayer(\n",
    "        tiles = 'https://mt1.google.com/vt/lyrs=s&x={x}&y={y}&z={z}',\n",
    "        attr = 'Google',\n",
    "        name = 'Google Satellite',\n",
    "        overlay = True,\n",
    "        control = True\n",
    "    ),\n",
    "    'Google Terrain': folium.TileLayer(\n",
    "        tiles = 'https://mt1.google.com/vt/lyrs=p&x={x}&y={y}&z={z}',\n",
    "        attr = 'Google',\n",
    "        name = 'Google Terrain',\n",
    "        overlay = True,\n",
    "        control = True\n",
    "    ),\n",
    "    'Google Satellite Hybrid': folium.TileLayer(\n",
    "        tiles = 'https://mt1.google.com/vt/lyrs=y&x={x}&y={y}&z={z}',\n",
    "        attr = 'Google',\n",
    "        name = 'Google Satellite',\n",
    "        overlay = True,\n",
    "        control = True\n",
    "    ),\n",
    "    'Esri Satellite': folium.TileLayer(\n",
    "        tiles = 'https://server.arcgisonline.com/ArcGIS/rest/services/World_Imagery/MapServer/tile/{z}/{y}/{x}',\n",
    "        attr = 'Esri',\n",
    "        name = 'Esri Satellite',\n",
    "        overlay = True,\n",
    "        control = True\n",
    "    )\n",
    "}\n",
    "\n",
    "# Define a method for displaying Earth Engine image tiles on a folium map.\n",
    "def add_ee_layer(self, ee_object, vis_params, name):\n",
    "    \n",
    "    try:    \n",
    "        # display ee.Image()\n",
    "        if isinstance(ee_object, ee.image.Image):    \n",
    "            map_id_dict = ee.Image(ee_object).getMapId(vis_params)\n",
    "            folium.raster_layers.TileLayer(\n",
    "            tiles = map_id_dict['tile_fetcher'].url_format,\n",
    "            attr = 'Google Earth Engine',\n",
    "            name = name,\n",
    "            overlay = True,\n",
    "            control = True\n",
    "            ).add_to(self)\n",
    "        # display ee.ImageCollection()\n",
    "        elif isinstance(ee_object, ee.imagecollection.ImageCollection):    \n",
    "            ee_object_new = ee_object.mosaic()\n",
    "            map_id_dict = ee.Image(ee_object_new).getMapId(vis_params)\n",
    "            folium.raster_layers.TileLayer(\n",
    "            tiles = map_id_dict['tile_fetcher'].url_format,\n",
    "            attr = 'Google Earth Engine',\n",
    "            name = name,\n",
    "            overlay = True,\n",
    "            control = True\n",
    "            ).add_to(self)\n",
    "        # display ee.Geometry()\n",
    "        elif isinstance(ee_object, ee.geometry.Geometry):    \n",
    "            folium.GeoJson(\n",
    "            data = ee_object.getInfo(),\n",
    "            name = name,\n",
    "            overlay = True,\n",
    "            control = True\n",
    "        ).add_to(self)\n",
    "        # display ee.FeatureCollection()\n",
    "        elif isinstance(ee_object, ee.featurecollection.FeatureCollection):  \n",
    "            ee_object_new = ee.Image().paint(ee_object, 0, 2)\n",
    "            map_id_dict = ee.Image(ee_object_new).getMapId(vis_params)\n",
    "            folium.raster_layers.TileLayer(\n",
    "            tiles = map_id_dict['tile_fetcher'].url_format,\n",
    "            attr = 'Google Earth Engine',\n",
    "            name = name,\n",
    "            overlay = True,\n",
    "            control = True\n",
    "        ).add_to(self)\n",
    "    \n",
    "    except:\n",
    "        print(\"Could not display {}\".format(name))\n",
    "    \n",
    "# Add EE drawing method to folium.\n",
    "folium.Map.add_ee_layer = add_ee_layer\n"
   ]
  },
  {
   "cell_type": "markdown",
   "id": "012ea195-5387-46f3-bae8-9f5329955bf8",
   "metadata": {},
   "source": [
    "# Planet\n",
    "Planet provides us with 4.77m resolution all the way to Jan 2016.\n",
    "https://developers.google.com/earth-engine/datasets/catalog/projects_planet-nicfi_assets_basemaps_americas\n",
    "\n",
    "Note - with the NICFI project, we can only get biannual images up until 2020; in 2020 we get\n",
    "planet_medres_normalized_analytic_2020-06_2020-08_mosaic\r\n",
    "planet_medres_normalized_analytic_2020-09_mosaic\r\n",
    "planet_medres_normalized_analytic_2020-10_mosaic\r\n",
    "planet_medres_normalized_analytic_2020-11_mosaic\r\n",
    "planet_medres_normalized_analytic_2020-12_mo\n",
    "\n",
    "Here, I am considering medians for all years. Consider, however, that some images have clouds, and we expect worse quality for the images from 2015-2020 since 2015-2019 only has 2 images per year, and 2020 has 5, while for 2021-2024 we get all 12 images for the year.\n",
    "\n",
    "This can be improved once we get all images from McGill. Also, these should be at 3.7m resolution.saic"
   ]
  },
  {
   "cell_type": "code",
   "execution_count": 488,
   "id": "17e77755-6934-473f-b7e6-fa6097f1f3e9",
   "metadata": {},
   "outputs": [
    {
     "data": {
      "text/html": [
       "\n",
       "            <style>\n",
       "                .geemap-dark {\n",
       "                    --jp-widgets-color: white;\n",
       "                    --jp-widgets-label-color: white;\n",
       "                    --jp-ui-font-color1: white;\n",
       "                    --jp-layout-color2: #454545;\n",
       "                    background-color: #383838;\n",
       "                }\n",
       "                    \n",
       "                .geemap-dark .jupyter-button {\n",
       "                    --jp-layout-color3: #383838;\n",
       "                }\n",
       "                \n",
       "                .geemap-colab {\n",
       "                    background-color: var(--colab-primary-surface-color, white);\n",
       "                }\n",
       "                    \n",
       "                .geemap-colab .jupyter-button {\n",
       "                    --jp-layout-color3: var(--colab-primary-surface-color, white);\n",
       "                }\n",
       "            </style>\n",
       "            "
      ],
      "text/plain": [
       "<IPython.core.display.HTML object>"
      ]
     },
     "metadata": {},
     "output_type": "display_data"
    }
   ],
   "source": [
    "piura = ee.FeatureCollection(ee.FeatureCollection('projects/envr451-2024/assets/piura').geometry().bounds())\n",
    "# task = ee.batch.Export.table.toDrive(\n",
    "#     collection=piura,\n",
    "#     description = 'piura_region',\n",
    "#     fileNamePrefix = 'piura_region',\n",
    "#     fileFormat = 'kmz'\n",
    "# )\n",
    "# task.start()\n",
    "basemap = ee.ImageCollection('projects/planet-nicfi/assets/basemaps/americas').filter(ee.Filter.date('2015-01-01', '2024-12-31')) \\\n",
    "            .map(lambda image: image.clip(piura))\n",
    "\n",
    "# Define the years for which you want to calculate geometric medians.\n",
    "years = ee.List.sequence(2015, 2024)\n",
    "\n",
    "# Function to calculate geometric median for each year.\n",
    "def calculate_median(year):\n",
    "    start_date = ee.Date.fromYMD(year, 1, 1)\n",
    "    end_date = ee.Date.fromYMD(year, 12, 31)\n",
    "    yearly_collection = basemap.filterDate(start_date, end_date)\n",
    "    median = yearly_collection.reduce(ee.Reducer.median())\n",
    "    return median.set('year', year)\n",
    "\n",
    "# Map over the list of years and calculate geometric medians.\n",
    "yearly_medians = ee.ImageCollection(years.map(calculate_median)).map(lambda image: image.clip(piura))\n",
    "yearly_medians_list = yearly_medians.toList(yearly_medians.size())\n"
   ]
  },
  {
   "cell_type": "code",
   "execution_count": null,
   "id": "4ea0a0f4-e033-4889-94cc-04786962d7cd",
   "metadata": {},
   "outputs": [],
   "source": [
    "vis_basemap = {'bands': ['R_median', 'G_median', 'B_median'], 'min': 64, 'max': 5454, 'gamma': 1.8}\n",
    "\n",
    "# # Get the number of images.\n",
    "# num_images = yearly_medians_list.size().getInfo()\n",
    "\n",
    "# # Loop over the list and export each image.\n",
    "# for i in range(num_images):\n",
    "image = ee.Image(yearly_medians_list.get(1))\n",
    "\n",
    "m = folium.Map(location = [8.5, -81], tiles=\"openstreetmap\", zoom_start=13.4,\n",
    "               zoom_control=False, scrollWheelZoom=False, dragging=False)\n",
    "f = folium.Figure(width=1000, height=1000)\n",
    "f.add_child(m)\n",
    "\n",
    "# Add custom basemaps\n",
    "basemaps['Esri Satellite'].add_to(m)\n",
    "\n",
    "# Add the elevation model to the map object.\n",
    "m.add_ee_layer(image, vis_basemap)\n",
    "\n",
    "# Define the latitude and longitude intervals\n",
    "lat_interval = 0.01\n",
    "lon_interval = 0.01\n",
    "\n",
    "# Create the grid\n",
    "for lat in np.arange(8, 9, lat_interval):\n",
    "    for lon in np.arange(-82, -80, lon_interval):\n",
    "        # Convert numpy.float64 to float\n",
    "        lat, lon = float(lat), float(lon)\n",
    "        # Create a box for each grid cell\n",
    "        grid_cell = folium.Polygon(\n",
    "            locations=[(lat, lon), (lat, lon + lon_interval), \n",
    "                       (lat + lat_interval, lon + lon_interval), (lat + lat_interval, lon)],\n",
    "            color=\"#000000\",  # Line color\n",
    "            fill=False,  # Defines if the polygon is filled\n",
    "            weight=1,  # Line weight\n",
    "        )\n",
    "        # Add the grid cell to the map\n",
    "        m.add_child(grid_cell)\n",
    "        \n",
    "# Get the number of images.\n",
    "# num_images = yearly_medians_list.size().getInfo()\n",
    "\n",
    "# # Loop over the list and export each image.\n",
    "# for i in range(num_images):\n",
    "#     year = years.get(i).getInfo()\n",
    "#     task = ee.batch.Export.image.toDrive(\n",
    "#         image=ee.Image(yearly_medians_list.get(i)),\n",
    "#         description = 'Planet_Satellite_5m_median_' + str(year),\n",
    "#         fileNamePrefix = 'Planet_Satellite_5m_median_' + str(year),\n",
    "#         region=piura,\n",
    "#         scale=5,\n",
    "#         maxPixels=1e13\n",
    "#     )\n",
    "#     task.start()\n",
    "\n",
    "# Map = geemap.Map()\n",
    "# Map.centerObject(piura, 13)\n",
    "# Map.addLayer(yearly_medians.first(), vis_basemap, 'last_image')\n",
    "# Map"
   ]
  },
  {
   "cell_type": "markdown",
   "id": "a9df69cf-4786-4b1c-81f8-679ab4f5c51d",
   "metadata": {},
   "source": [
    "# Copernicus Land Cover\n",
    "100m resolution\n",
    "2015-01-01 to 2019-12-31\n",
    "\n",
    "https://developers.google.com/earth-engine/datasets/catalog/COPERNICUS_Landcover_100m_Proba-V-C3_Global#description"
   ]
  },
  {
   "cell_type": "code",
   "execution_count": 454,
   "id": "964c8349-a48e-4050-94d6-ab42c0590b4f",
   "metadata": {},
   "outputs": [
    {
     "data": {
      "text/html": [
       "\n",
       "            <style>\n",
       "                .geemap-dark {\n",
       "                    --jp-widgets-color: white;\n",
       "                    --jp-widgets-label-color: white;\n",
       "                    --jp-ui-font-color1: white;\n",
       "                    --jp-layout-color2: #454545;\n",
       "                    background-color: #383838;\n",
       "                }\n",
       "                    \n",
       "                .geemap-dark .jupyter-button {\n",
       "                    --jp-layout-color3: #383838;\n",
       "                }\n",
       "                \n",
       "                .geemap-colab {\n",
       "                    background-color: var(--colab-primary-surface-color, white);\n",
       "                }\n",
       "                    \n",
       "                .geemap-colab .jupyter-button {\n",
       "                    --jp-layout-color3: var(--colab-primary-surface-color, white);\n",
       "                }\n",
       "            </style>\n",
       "            "
      ],
      "text/plain": [
       "<IPython.core.display.HTML object>"
      ]
     },
     "metadata": {},
     "output_type": "display_data"
    }
   ],
   "source": [
    "dataset = ee.Image('COPERNICUS/Landcover/100m/Proba-V-C3/Global/2019').select('discrete_classification').clip(piura)\n",
    "\n",
    "palette = [\n",
    "  '006400', # forest (10)\n",
    "  'ffbb22', # shrubland (20)\n",
    "  'ffff4c', # grassland (30)\n",
    "  'f096ff', # cropland (40)\n",
    "  'fa0000', # urban (50)\n",
    "  'b4b4b4', # bare/sparse (60)\n",
    "  'f0f0f0', # snow (70)\n",
    "  '0064c8' # water (80)\n",
    "]\n",
    "\n",
    "visualization = {\n",
    "    'min':10, 'max': 80, 'palette': palette,\n",
    "}\n",
    "grid = geemap.latlon_grid(\n",
    "    lat_step=0.01, lon_step=0.01, west=-81.25, east=-80.75, south=8.25, north=9.25\n",
    ")\n",
    "\n",
    "m = geemap.Map()\n",
    "m.center_object(dataset1)\n",
    "m.add_layer(dataset1, visualization, 'Landcover')\n",
    "m.add_layer(dataset2, visualization, 'Landcover2')\n",
    "m.addLayer(grid, {}, \"Coordinate Grid\")\n",
    "# m"
   ]
  },
  {
   "cell_type": "markdown",
   "id": "fc33074e-9398-4413-bb5d-64cf7f2269b2",
   "metadata": {},
   "source": [
    "# ESA WorldCover\n",
    "10m resolution\n",
    "2020-01-01 - 2022-12-31\n",
    "\n",
    "https://developers.google.com/earth-engine/datasets/catalog/ESA_WorldCover_v100\n",
    "https://developers.google.com/earth-engine/datasets/catalog/ESA_WorldCover_v200"
   ]
  },
  {
   "cell_type": "code",
   "execution_count": 330,
   "id": "274c6fa9-0f27-4308-8569-da58dbb32106",
   "metadata": {},
   "outputs": [
    {
     "data": {
      "text/html": [
       "\n",
       "            <style>\n",
       "                .geemap-dark {\n",
       "                    --jp-widgets-color: white;\n",
       "                    --jp-widgets-label-color: white;\n",
       "                    --jp-ui-font-color1: white;\n",
       "                    --jp-layout-color2: #454545;\n",
       "                    background-color: #383838;\n",
       "                }\n",
       "                    \n",
       "                .geemap-dark .jupyter-button {\n",
       "                    --jp-layout-color3: #383838;\n",
       "                }\n",
       "                \n",
       "                .geemap-colab {\n",
       "                    background-color: var(--colab-primary-surface-color, white);\n",
       "                }\n",
       "                    \n",
       "                .geemap-colab .jupyter-button {\n",
       "                    --jp-layout-color3: var(--colab-primary-surface-color, white);\n",
       "                }\n",
       "            </style>\n",
       "            "
      ],
      "text/plain": [
       "<IPython.core.display.HTML object>"
      ]
     },
     "metadata": {},
     "output_type": "display_data"
    }
   ],
   "source": [
    "dataset1 = ee.ImageCollection('ESA/WorldCover/v100').map(lambda image: image.clip(piura))\n",
    "dataset2 = ee.ImageCollection('ESA/WorldCover/v200').map(lambda image: image.clip(piura))\n",
    "\n",
    "palette = [\n",
    "  '006400', # forest (10)\n",
    "  'ffbb22', # shrubland (20)\n",
    "  'ffff4c', # grassland (30)\n",
    "  'f096ff', # cropland (40)\n",
    "  'fa0000', # urban (50)\n",
    "  'b4b4b4', # bare/sparse (60)\n",
    "  'f0f0f0', # snow (70)\n",
    "  '0064c8' # water (80)\n",
    "]\n",
    "\n",
    "visualization = {\n",
    "    'min':10, 'max': 80, 'palette': palette,\n",
    "}\n",
    "\n",
    "# m = geemap.Map()\n",
    "# m.center_object(dataset1)\n",
    "# m.add_layer(dataset1, visualization, 'Landcover')\n",
    "# m.add_layer(dataset2, visualization, 'Landcover2')\n",
    "# m"
   ]
  },
  {
   "cell_type": "markdown",
   "id": "0ac469de-6dbb-4b78-b8b8-62136a8f4811",
   "metadata": {},
   "source": [
    "# ESRI Land Use Land Cover\n",
    "\n",
    "https://livingatlas.arcgis.com/landcover/"
   ]
  },
  {
   "cell_type": "code",
   "execution_count": 456,
   "id": "312dc1a2-4736-4a86-a5f6-ecad1aa78ffd",
   "metadata": {},
   "outputs": [
    {
     "data": {
      "text/html": [
       "\n",
       "            <style>\n",
       "                .geemap-dark {\n",
       "                    --jp-widgets-color: white;\n",
       "                    --jp-widgets-label-color: white;\n",
       "                    --jp-ui-font-color1: white;\n",
       "                    --jp-layout-color2: #454545;\n",
       "                    background-color: #383838;\n",
       "                }\n",
       "                    \n",
       "                .geemap-dark .jupyter-button {\n",
       "                    --jp-layout-color3: #383838;\n",
       "                }\n",
       "                \n",
       "                .geemap-colab {\n",
       "                    background-color: var(--colab-primary-surface-color, white);\n",
       "                }\n",
       "                    \n",
       "                .geemap-colab .jupyter-button {\n",
       "                    --jp-layout-color3: var(--colab-primary-surface-color, white);\n",
       "                }\n",
       "            </style>\n",
       "            "
      ],
      "text/plain": [
       "<IPython.core.display.HTML object>"
      ]
     },
     "metadata": {},
     "output_type": "display_data"
    }
   ],
   "source": [
    "esri_lulc2020 = ee.ImageCollection(\"projects/sat-io/open-datasets/landcover/ESRI_Global-LULC_10m\").mosaic().clip(piura)\n",
    "\n",
    "dict = {\n",
    "  \"names\": [\n",
    "    \"Water\", \"Trees\", \"Grass\",\"Flooded Vegetation\",\"Crops\",\"Scrub/Shrub\",\n",
    "    \"Built Area\",\"Bare Ground\",\"Snow/Ice\",\"Clouds\"\n",
    "  ],\n",
    "  \"colors\": [\n",
    "    \"1A5BAB\",\"358221\",\"A7D282\",\"87D19E\",\"FFDB5C\",\"EECFA8\",\n",
    "    \"ED022A\",\"EDE9E4\",\"F2FAFF\",\"C8C8C8\"\n",
    "  ]\n",
    "}\n",
    "\n",
    "# Create a palette from the dict object\n",
    "palette = dict['colors']\n",
    "\n",
    "# Create a visualization parameter object\n",
    "visualization = {'min': 1, 'max': len(dict['names']), 'palette': palette}\n"
   ]
  },
  {
   "cell_type": "markdown",
   "id": "86af0703-7058-47ea-990a-eab316ad86ee",
   "metadata": {},
   "source": [
    "# NASA Elevation and Sentinel Radar"
   ]
  },
  {
   "cell_type": "code",
   "execution_count": 501,
   "id": "04a8d65a-162a-473d-94b2-b7d3fdee0b25",
   "metadata": {},
   "outputs": [
    {
     "data": {
      "text/html": [
       "\n",
       "            <style>\n",
       "                .geemap-dark {\n",
       "                    --jp-widgets-color: white;\n",
       "                    --jp-widgets-label-color: white;\n",
       "                    --jp-ui-font-color1: white;\n",
       "                    --jp-layout-color2: #454545;\n",
       "                    background-color: #383838;\n",
       "                }\n",
       "                    \n",
       "                .geemap-dark .jupyter-button {\n",
       "                    --jp-layout-color3: #383838;\n",
       "                }\n",
       "                \n",
       "                .geemap-colab {\n",
       "                    background-color: var(--colab-primary-surface-color, white);\n",
       "                }\n",
       "                    \n",
       "                .geemap-colab .jupyter-button {\n",
       "                    --jp-layout-color3: var(--colab-primary-surface-color, white);\n",
       "                }\n",
       "            </style>\n",
       "            "
      ],
      "text/plain": [
       "<IPython.core.display.HTML object>"
      ]
     },
     "metadata": {},
     "output_type": "display_data"
    }
   ],
   "source": [
    "# Import the dataset and select the elevation band.\n",
    "dataset = ee.Image('NASA/NASADEM_HGT/001')\n",
    "elevation = dataset.select('elevation')\n",
    "\n",
    "# Set elevation visualization properties.\n",
    "elevation_vis = {'min': 0, 'max': 2500, 'palette': ['green', 'red']}\n",
    "\n",
    "# Set elevation <= 0 as transparent.\n",
    "elevation_masked = elevation.updateMask(elevation.gt(0)).clip(piura)"
   ]
  },
  {
   "cell_type": "code",
   "execution_count": 499,
   "id": "af05dae7-533a-4527-88a7-9497a631471d",
   "metadata": {},
   "outputs": [
    {
     "data": {
      "text/html": [
       "\n",
       "            <style>\n",
       "                .geemap-dark {\n",
       "                    --jp-widgets-color: white;\n",
       "                    --jp-widgets-label-color: white;\n",
       "                    --jp-ui-font-color1: white;\n",
       "                    --jp-layout-color2: #454545;\n",
       "                    background-color: #383838;\n",
       "                }\n",
       "                    \n",
       "                .geemap-dark .jupyter-button {\n",
       "                    --jp-layout-color3: #383838;\n",
       "                }\n",
       "                \n",
       "                .geemap-colab {\n",
       "                    background-color: var(--colab-primary-surface-color, white);\n",
       "                }\n",
       "                    \n",
       "                .geemap-colab .jupyter-button {\n",
       "                    --jp-layout-color3: var(--colab-primary-surface-color, white);\n",
       "                }\n",
       "            </style>\n",
       "            "
      ],
      "text/plain": [
       "<IPython.core.display.HTML object>"
      ]
     },
     "metadata": {},
     "output_type": "display_data"
    },
    {
     "data": {
      "application/vnd.jupyter.widget-view+json": {
       "model_id": "da6cdc32e97d4199830314078a79e2a8",
       "version_major": 2,
       "version_minor": 0
      },
      "text/plain": [
       "Map(center=[0, 0], controls=(WidgetControl(options=['position', 'transparent_bg'], widget=SearchDataGUI(childr…"
      ]
     },
     "execution_count": 499,
     "metadata": {},
     "output_type": "execute_result"
    }
   ],
   "source": [
    "def mask_edge(image):\n",
    "  edge = image.lt(-30.0)\n",
    "  masked_image = image.mask().And(edge.Not())\n",
    "  return image.updateMask(masked_image)\n",
    "\n",
    "img_vv = (\n",
    "    ee.ImageCollection('COPERNICUS/S1_GRD')\n",
    "    .filter(ee.Filter.listContains('transmitterReceiverPolarisation', 'VV'))\n",
    "    .filter(ee.Filter.eq('instrumentMode', 'IW'))\n",
    "    .select('VV')\n",
    "    .map(mask_edge)\n",
    ")\n",
    "\n",
    "# desc = img_vv.filter(ee.Filter.eq('orbitProperties_pass', 'DESCENDING'))\n",
    "asc = img_vv.filter(ee.Filter.eq('orbitProperties_pass', 'ASCENDING'))\n",
    "\n",
    "spring = ee.Filter.date('2015-03-01', '2015-04-20')\n",
    "late_spring = ee.Filter.date('2015-04-21', '2015-06-10')\n",
    "summer = ee.Filter.date('2015-06-11', '2015-08-31')\n",
    "\n",
    "# desc_change = ee.Image.cat(\n",
    "#     desc.filter(spring).mean(),\n",
    "#     desc.filter(late_spring).mean(),\n",
    "#     desc.filter(summer).mean(),\n",
    "# )\n",
    "\n",
    "asc_change = ee.Image.cat(\n",
    "    asc.filter(spring).mean(),\n",
    "    asc.filter(late_spring).mean(),\n",
    "    asc.filter(summer).mean(),\n",
    ").clip(piura)\n",
    "\n",
    "m = geemap.Map()\n",
    "m.centerObject(piura)\n",
    "m.add_layer(asc_change, {'min': -25, 'max': 5}, 'Multi-T Mean ASC', True)\n",
    "# m.add_layer(desc_change, {'min': -25, 'max': 5}, 'Multi-T Mean DESC', True)\n",
    "m.addLayer(elevation_masked, elevation_vis, 'Elevation')\n",
    "# m.add_layer(piura, {})\n",
    "m\n"
   ]
  },
  {
   "cell_type": "code",
   "execution_count": 498,
   "id": "1bdad468-7b2c-4319-967a-3c0426c04963",
   "metadata": {},
   "outputs": [
    {
     "data": {
      "text/html": [
       "\n",
       "            <style>\n",
       "                .geemap-dark {\n",
       "                    --jp-widgets-color: white;\n",
       "                    --jp-widgets-label-color: white;\n",
       "                    --jp-ui-font-color1: white;\n",
       "                    --jp-layout-color2: #454545;\n",
       "                    background-color: #383838;\n",
       "                }\n",
       "                    \n",
       "                .geemap-dark .jupyter-button {\n",
       "                    --jp-layout-color3: #383838;\n",
       "                }\n",
       "                \n",
       "                .geemap-colab {\n",
       "                    background-color: var(--colab-primary-surface-color, white);\n",
       "                }\n",
       "                    \n",
       "                .geemap-colab .jupyter-button {\n",
       "                    --jp-layout-color3: var(--colab-primary-surface-color, white);\n",
       "                }\n",
       "            </style>\n",
       "            "
      ],
      "text/plain": [
       "<IPython.core.display.HTML object>"
      ]
     },
     "metadata": {},
     "output_type": "display_data"
    },
    {
     "data": {
      "text/plain": [
       "['C:\\\\Users\\\\anaca\\\\Desktop\\\\piura\\\\elevation.png']"
      ]
     },
     "execution_count": 498,
     "metadata": {},
     "output_type": "execute_result"
    }
   ],
   "source": [
    "# Print the elevation of Mount Everest.\n",
    "dem = ee.Image('USGS/SRTMGL1_003').clip(piura)\n",
    "\n",
    "# elev = dem.sample(xy, 30).first().get('elevation').getInfo()\n",
    "# print('Mount Everest elevation (m):', elev)\n",
    "\n",
    "# Set visualization parameters.\n",
    "vis_params = {\n",
    "  'min': 0,\n",
    "  'max': 4000,\n",
    "  'palette': ['006633', 'E5FFCC', '662A00', 'D8D8D8', 'F5F5F5']}\n",
    "\n",
    "# Create a folium map object.\n",
    "# my_map = folium.Map()\n",
    "\n",
    "m = folium.Map(location = [8.5, -81], tiles=\"openstreetmap\", zoom_start=13.4,\n",
    "               zoom_control=False, scrollWheelZoom=False, dragging=False)\n",
    "f = folium.Figure(width=1000, height=1000)\n",
    "f.add_child(m)\n",
    "\n",
    "# Add custom basemaps\n",
    "basemaps['Esri Satellite'].add_to(m)\n",
    "\n",
    "# Add the elevation model to the map object.\n",
    "m.add_ee_layer(dem.updateMask(dem.gt(0)), vis_params, 'DEM')\n",
    "\n",
    "# Define the latitude and longitude intervals\n",
    "lat_interval = 0.01  # or any decimal value you want\n",
    "lon_interval = 0.01  # or any decimal value you want\n",
    "\n",
    "# Create the grid\n",
    "for lat in np.arange(8, 9, lat_interval):\n",
    "    for lon in np.arange(-82, -80, lon_interval):\n",
    "        # Convert numpy.float64 to float\n",
    "        lat, lon = float(lat), float(lon)\n",
    "        # Create a box for each grid cell\n",
    "        grid_cell = folium.Polygon(\n",
    "            locations=[(lat, lon), (lat, lon + lon_interval), \n",
    "                       (lat + lat_interval, lon + lon_interval), (lat + lat_interval, lon)],\n",
    "            color=\"#000000\",  # Line color\n",
    "            fill=False,  # Defines if the polygon is filled\n",
    "            weight=1,  # Line weight\n",
    "        )\n",
    "        # Add the grid cell to the map\n",
    "        m.add_child(grid_cell)\n",
    "\n",
    "# Define the legend HTML content\n",
    "legend_html = '''\n",
    "<div style=\"position: fixed; bottom: 50px; left: 50px; z-index:9999; background-color: white; padding: 10px; border: 1px solid black; border-radius: 5px;\">\n",
    "    <b>Elevation Legend</b><br>\n",
    "    <div style=\"background-color: #006633; width: 20px; height: 20px; display: inline-block;\"></div> 0 - 1000 m <br>\n",
    "    <div style=\"background-color: #E5FFCC; width: 20px; height: 20px; display: inline-block;\"></div> 1000 - 2000 m <br>\n",
    "    <div style=\"background-color: #662A00; width: 20px; height: 20px; display: inline-block;\"></div> 2000 - 3000 m <br>\n",
    "    <div style=\"background-color: #D8D8D8; width: 20px; height: 20px; display: inline-block;\"></div> 3000 - 4000 m <br>\n",
    "    <div style=\"background-color: #F5F5F5; width: 20px; height: 20px; display: inline-block;\"></div> No Data <br>\n",
    "</div>\n",
    "'''\n",
    "\n",
    "# Add the legend HTML content to the map as a control\n",
    "m.get_root().html.add_child(folium.Element(legend_html))\n",
    "\n",
    "# Add a layer control panel to the map\n",
    "m.add_child(folium.LayerControl())\n",
    "\n",
    "m.save('map.html')\n",
    "\n",
    "hti = Html2Image(size=(10000, 10000), browser='edge')\n",
    "hti.screenshot(html_file='map.html', save_as='elevation.png')\n",
    "\n"
   ]
  },
  {
   "cell_type": "code",
   "execution_count": 375,
   "id": "a65ea453-a78c-4897-b991-36c484ab1fe1",
   "metadata": {},
   "outputs": [
    {
     "data": {
      "text/html": [
       "\n",
       "            <style>\n",
       "                .geemap-dark {\n",
       "                    --jp-widgets-color: white;\n",
       "                    --jp-widgets-label-color: white;\n",
       "                    --jp-ui-font-color1: white;\n",
       "                    --jp-layout-color2: #454545;\n",
       "                    background-color: #383838;\n",
       "                }\n",
       "                    \n",
       "                .geemap-dark .jupyter-button {\n",
       "                    --jp-layout-color3: #383838;\n",
       "                }\n",
       "                \n",
       "                .geemap-colab {\n",
       "                    background-color: var(--colab-primary-surface-color, white);\n",
       "                }\n",
       "                    \n",
       "                .geemap-colab .jupyter-button {\n",
       "                    --jp-layout-color3: var(--colab-primary-surface-color, white);\n",
       "                }\n",
       "            </style>\n",
       "            "
      ],
      "text/plain": [
       "<IPython.core.display.HTML object>"
      ]
     },
     "metadata": {},
     "output_type": "display_data"
    },
    {
     "data": {
      "text/html": [
       "<pre>&lt;ee.imagecollection.ImageCollection object at 0x00000229AB683390&gt;</pre>"
      ],
      "text/plain": [
       "<ee.imagecollection.ImageCollection at 0x229ab683390>"
      ]
     },
     "execution_count": 375,
     "metadata": {},
     "output_type": "execute_result"
    }
   ],
   "source": [
    "def mask_s2_clouds(image):\n",
    "  \"\"\"Masks clouds in a Sentinel-2 image using the QA band.\n",
    "\n",
    "  Args:\n",
    "      image (ee.Image): A Sentinel-2 image.\n",
    "\n",
    "  Returns:\n",
    "      ee.Image: A cloud-masked Sentinel-2 image.\n",
    "  \"\"\"\n",
    "    \n",
    "  qa = image.select('QA60')\n",
    "\n",
    "  # Bits 10 and 11 are clouds and cirrus, respectively.\n",
    "  cloud_bit_mask = 1 << 10\n",
    "  cirrus_bit_mask = 1 << 11\n",
    "\n",
    "  # Both flags should be set to zero, indicating clear conditions.\n",
    "  mask = (\n",
    "      qa.bitwiseAnd(cloud_bit_mask)\n",
    "      .eq(0)\n",
    "      .And(qa.bitwiseAnd(cirrus_bit_mask).eq(0))\n",
    "  )\n",
    "\n",
    "  return image.updateMask(mask).divide(10000)\n",
    "\n",
    "\n",
    "dataset = (\n",
    "    ee.ImageCollection('COPERNICUS/S2_SR_HARMONIZED')\n",
    "    .filterDate('2020-01-01', '2020-12-30')\n",
    "    # Pre-filter to get less cloudy granules.\n",
    "    .filter(ee.Filter.lt('CLOUDY_PIXEL_PERCENTAGE', 20))\n",
    "    .map(mask_s2_clouds)\n",
    ")\n",
    "dataset\n",
    "\n",
    "# visualization = {\n",
    "#     'min': 0.0,\n",
    "#     'max': 0.3,\n",
    "#     'bands': ['B4', 'B3', 'B2'],\n",
    "# }\n",
    "\n",
    "# m = geemap.Map()\n",
    "# m.centerObject(piura)\n",
    "# m.add_layer(dataset.median(), visualization, 'RGB')\n",
    "# m"
   ]
  },
  {
   "cell_type": "code",
   "execution_count": 389,
   "id": "672521e0-2d30-4a58-805c-59176356c855",
   "metadata": {},
   "outputs": [
    {
     "data": {
      "text/html": [
       "\n",
       "            <style>\n",
       "                .geemap-dark {\n",
       "                    --jp-widgets-color: white;\n",
       "                    --jp-widgets-label-color: white;\n",
       "                    --jp-ui-font-color1: white;\n",
       "                    --jp-layout-color2: #454545;\n",
       "                    background-color: #383838;\n",
       "                }\n",
       "                    \n",
       "                .geemap-dark .jupyter-button {\n",
       "                    --jp-layout-color3: #383838;\n",
       "                }\n",
       "                \n",
       "                .geemap-colab {\n",
       "                    background-color: var(--colab-primary-surface-color, white);\n",
       "                }\n",
       "                    \n",
       "                .geemap-colab .jupyter-button {\n",
       "                    --jp-layout-color3: var(--colab-primary-surface-color, white);\n",
       "                }\n",
       "            </style>\n",
       "            "
      ],
      "text/plain": [
       "<IPython.core.display.HTML object>"
      ]
     },
     "metadata": {},
     "output_type": "display_data"
    }
   ],
   "source": [
    "dataset = ee.Image(\"UMD/hansen/global_forest_change_2022_v1_10\")\n",
    "\n",
    "treeloss_year = dataset.select(['lossyear']).clip(piura)\n",
    "treeLossVisParam = {'min': 0, 'max': 22, 'palette': ['yellow', 'red']}\n",
    "\n",
    "# m = geemap.Map()\n",
    "# m.add_basemap('Esri.WorldImagery')\n",
    "# m.center_object(piura)\n",
    "# m.add_layer(treeloss_year, treeLossVisParam, 'Tree loss year')\n",
    "# m.add_colorbar(treeLossVisParam, label=layer_name, layer_name='Tree loss year')\n",
    "# m.add('layer_manager')\n",
    "# m\n",
    "\n",
    "# task = ee.batch.Export.image.toDrive(\n",
    "#     image=treeloss_year,\n",
    "#     description = 'treeloss_year_2001_2022_30m',\n",
    "#     fileNamePrefix = 'treeloss_year_2001_2022_30m',\n",
    "#     region=piura,\n",
    "#     scale=30,\n",
    "#     maxPixels=1e13\n",
    "# )\n",
    "\n",
    "# task.start()"
   ]
  }
 ],
 "metadata": {
  "kernelspec": {
   "display_name": "Python 3 (ipykernel)",
   "language": "python",
   "name": "python3"
  },
  "language_info": {
   "codemirror_mode": {
    "name": "ipython",
    "version": 3
   },
   "file_extension": ".py",
   "mimetype": "text/x-python",
   "name": "python",
   "nbconvert_exporter": "python",
   "pygments_lexer": "ipython3",
   "version": "3.11.5"
  }
 },
 "nbformat": 4,
 "nbformat_minor": 5
}
