{
 "cells": [
  {
   "cell_type": "code",
   "execution_count": 5,
   "id": "3ffab226-3513-4f89-83c3-6761db5c74e6",
   "metadata": {},
   "outputs": [
    {
     "data": {
      "text/html": [
       "\n",
       "            <style>\n",
       "                .geemap-dark {\n",
       "                    --jp-widgets-color: white;\n",
       "                    --jp-widgets-label-color: white;\n",
       "                    --jp-ui-font-color1: white;\n",
       "                    --jp-layout-color2: #454545;\n",
       "                    background-color: #383838;\n",
       "                }\n",
       "                    \n",
       "                .geemap-dark .jupyter-button {\n",
       "                    --jp-layout-color3: #383838;\n",
       "                }\n",
       "                \n",
       "                .geemap-colab {\n",
       "                    background-color: var(--colab-primary-surface-color, white);\n",
       "                }\n",
       "                    \n",
       "                .geemap-colab .jupyter-button {\n",
       "                    --jp-layout-color3: var(--colab-primary-surface-color, white);\n",
       "                }\n",
       "            </style>\n",
       "            "
      ],
      "text/plain": [
       "<IPython.core.display.HTML object>"
      ]
     },
     "metadata": {},
     "output_type": "display_data"
    }
   ],
   "source": [
    "import ee\n",
    "import geemap\n",
    "import os\n",
    "\n",
    "# Authenticate to Earth Engine\n",
    "try:\n",
    "  ee.Initialize(project='envr451-2024')\n",
    "except Exception as e:\n",
    "  ee.Authenticate()\n",
    "  ee.Initialize(project='envr451-2024')"
   ]
  },
  {
   "cell_type": "markdown",
   "id": "012ea195-5387-46f3-bae8-9f5329955bf8",
   "metadata": {},
   "source": [
    "# Planet\n",
    "Planet provides us with 4.77m resolution all the way to Jan 2016.\n",
    "https://developers.google.com/earth-engine/datasets/catalog/projects_planet-nicfi_assets_basemaps_americas\n",
    "\n",
    "Note - with the NICFI project, we can only get biannual images up until 2020; in 2020 we get\n",
    "planet_medres_normalized_analytic_2020-06_2020-08_mosaic\r\n",
    "planet_medres_normalized_analytic_2020-09_mosaic\r\n",
    "planet_medres_normalized_analytic_2020-10_mosaic\r\n",
    "planet_medres_normalized_analytic_2020-11_mosaic\r\n",
    "planet_medres_normalized_analytic_2020-12_mo\n",
    "\n",
    "Here, I am considering medians for all years. Consider, however, that some images have clouds, and we expect worse quality for the images from 2015-2020 since 2015-2019 only has 2 images per year, and 2020 has 5, while for 2021-2024 we get all 12 images for the year.\n",
    "\n",
    "This can be improved once we get all images from McGill. Also, these should be at 3.7m resolution.saic"
   ]
  },
  {
   "cell_type": "code",
   "execution_count": 260,
   "id": "17e77755-6934-473f-b7e6-fa6097f1f3e9",
   "metadata": {},
   "outputs": [
    {
     "data": {
      "text/html": [
       "\n",
       "            <style>\n",
       "                .geemap-dark {\n",
       "                    --jp-widgets-color: white;\n",
       "                    --jp-widgets-label-color: white;\n",
       "                    --jp-ui-font-color1: white;\n",
       "                    --jp-layout-color2: #454545;\n",
       "                    background-color: #383838;\n",
       "                }\n",
       "                    \n",
       "                .geemap-dark .jupyter-button {\n",
       "                    --jp-layout-color3: #383838;\n",
       "                }\n",
       "                \n",
       "                .geemap-colab {\n",
       "                    background-color: var(--colab-primary-surface-color, white);\n",
       "                }\n",
       "                    \n",
       "                .geemap-colab .jupyter-button {\n",
       "                    --jp-layout-color3: var(--colab-primary-surface-color, white);\n",
       "                }\n",
       "            </style>\n",
       "            "
      ],
      "text/plain": [
       "<IPython.core.display.HTML object>"
      ]
     },
     "metadata": {},
     "output_type": "display_data"
    }
   ],
   "source": [
    "piura_shp = ee.FeatureCollection('projects/envr451-2024/assets/piura').geometry()\n",
    "basemap = ee.ImageCollection('projects/planet-nicfi/assets/basemaps/americas').filter(ee.Filter.date('2015-01-01', '2024-12-31')) \\\n",
    "            .map(lambda image: image.clip(piura_shp))\n",
    "\n",
    "# Define the years for which you want to calculate geometric medians.\n",
    "years = ee.List.sequence(2015, 2024)\n",
    "\n",
    "# Function to calculate geometric median for each year.\n",
    "def calculate_median(year):\n",
    "    start_date = ee.Date.fromYMD(year, 1, 1)\n",
    "    end_date = ee.Date.fromYMD(year, 12, 31)\n",
    "    yearly_collection = basemap.filterDate(start_date, end_date)\n",
    "    median = yearly_collection.reduce(ee.Reducer.median())\n",
    "    return median.set('year', year)\n",
    "\n",
    "# Map over the list of years and calculate geometric medians.\n",
    "yearly_medians = ee.ImageCollection(years.map(calculate_median)).map(lambda image: image.clip(piura_shp))\n",
    "yearly_medians_list = yearly_medians.toList(yearly_medians.size())\n",
    "\n",
    "# Get the number of images.\n",
    "num_images = yearly_medians_list.size().getInfo()\n",
    "\n",
    "# Loop over the list and export each image.\n",
    "for i in range(num_images):\n",
    "    year = years.get(i).getInfo()\n",
    "    task = ee.batch.Export.image.toDrive(\n",
    "        image=ee.Image(yearly_medians_list.get(i)),\n",
    "        description = 'Planet_Satellite_5m_median_' + str(year),\n",
    "        fileNamePrefix = 'Planet_Satellite_5m_median_' + str(year),\n",
    "        region=piura_shp,\n",
    "        scale=5,\n",
    "        maxPixels=1e13\n",
    "    )\n",
    "    task.start()\n",
    "\n",
    "# vis_basemap = {'bands': ['R_median', 'G_median', 'B_median'], 'min': 64, 'max': 5454, 'gamma': 1.8}\n",
    "# Map = geemap.Map()\n",
    "# Map.centerObject(piura_shp, 13)\n",
    "# Map.addLayer(yearly_medians.first(), vis_basemap, 'last_image')\n",
    "# Map"
   ]
  },
  {
   "cell_type": "markdown",
   "id": "65c9a4b5-7035-4cc5-99f6-44f6991dc2c9",
   "metadata": {},
   "source": [
    "\n",
    "# JAXA forest non forest\n",
    "https://developers.google.com/earth-engine/datasets/catalog/JAXA_ALOS_PALSAR_YEARLY_FNF\n",
    "https://developers.google.com/earth-engine/datasets/catalog/JAXA_ALOS_PALSAR_YEARLY_FNF\n"
   ]
  },
  {
   "cell_type": "code",
   "execution_count": 179,
   "id": "2f8f1288-1623-4d39-80d2-5327d6df38cc",
   "metadata": {},
   "outputs": [
    {
     "data": {
      "text/html": [
       "\n",
       "            <style>\n",
       "                .geemap-dark {\n",
       "                    --jp-widgets-color: white;\n",
       "                    --jp-widgets-label-color: white;\n",
       "                    --jp-ui-font-color1: white;\n",
       "                    --jp-layout-color2: #454545;\n",
       "                    background-color: #383838;\n",
       "                }\n",
       "                    \n",
       "                .geemap-dark .jupyter-button {\n",
       "                    --jp-layout-color3: #383838;\n",
       "                }\n",
       "                \n",
       "                .geemap-colab {\n",
       "                    background-color: var(--colab-primary-surface-color, white);\n",
       "                }\n",
       "                    \n",
       "                .geemap-colab .jupyter-button {\n",
       "                    --jp-layout-color3: var(--colab-primary-surface-color, white);\n",
       "                }\n",
       "            </style>\n",
       "            "
      ],
      "text/plain": [
       "<IPython.core.display.HTML object>"
      ]
     },
     "metadata": {},
     "output_type": "display_data"
    }
   ],
   "source": [
    "forest_2017_2020 = ee.ImageCollection('JAXA/ALOS/PALSAR/YEARLY/FNF4').filterDate('2017-01-01', '2020-12-31').map(lambda image: image.clip(piura_shp))\n",
    "forest_2007_2016 = ee.ImageCollection('JAXA/ALOS/PALSAR/YEARLY/FNF').filterDate('2007-01-01', '2016-12-31').map(lambda image: image.clip(piura_shp))\n",
    "\n",
    "video_args_4 = {\n",
    "  'dimensions': 768,\n",
    "  'region': piura_shp,\n",
    "  'framesPerSecond': 2,\n",
    "  'crs': 'EPSG:3857',\n",
    "    'min': 1,\n",
    "    'max': 4,\n",
    "    'palette': ['00b200', '83ef62', 'ffff99', '0000ff']\n",
    "}\n",
    "\n",
    "video_args_3 = {\n",
    "  'dimensions': 768,\n",
    "  'region': piura_shp,\n",
    "  'framesPerSecond': 2,\n",
    "  'crs': 'EPSG:3857',\n",
    "    'min': 1,\n",
    "    'max': 3,\n",
    "    'palette': ['00b200', '83ef62', 'ffff99']\n",
    "}\n",
    "\n",
    "# Get URL that will produce the animation when accessed.\n",
    "gif_url = forest_2007_2016.getVideoThumbURL(video_args_3)\n",
    "# gif_url\n",
    "\n",
    "tst = forest_2017_2020.first()\n",
    "tst = tst.visualize(\n",
    "    bands = 'fnf',\n",
    "    min = 1,\n",
    "    max = 4,\n",
    "    palette = ['00b200', '83ef62', 'ffff99', '0000ff']\n",
    ")\n",
    "\n",
    "\n",
    "Map.addLayer(tst, {}, 'forest_2017_2020')\n",
    "\n",
    "\n",
    "# Export.image.toAsset({\n",
    "#   image: SahelRainfallVis,\n",
    "#   description: 'imageExport',\n",
    "#   assetId: 'rf',\n",
    "#   region: Sahel,\n",
    "# });\n",
    "\n",
    "\n",
    "\n",
    "# geemap.ee_export_image_collection(forest_2017_2020, out_dir=out_dir)\n",
    "# geemap.ee_export_image_collection(forest_2007_2017, out_dir=out_dir)\n",
    "\n",
    "# Define visualization parameters\n",
    "forest_non_forest_vis = {\n",
    "    'min': 1,\n",
    "    'max': 3,\n",
    "    'palette': ['00b200', '83ef62', 'ffff99']\n",
    "}\n",
    "\n",
    "# Set map center\n",
    "Map.centerObject(piura_shp, 12)\n",
    "# Map.addLayer(forest_2007_2016.select('JAXA/ALOS/PALSAR/YEARLY/FNF/2015'), forest_non_forest_vis, 'Forest/Non-Forest')\n",
    "# Map"
   ]
  },
  {
   "cell_type": "markdown",
   "id": "a9df69cf-4786-4b1c-81f8-679ab4f5c51d",
   "metadata": {},
   "source": [
    "# Copernicus Land Cover\n",
    "100m resolution\n",
    "2015-01-01 to 2019-12-31\n",
    "\n",
    "https://developers.google.com/earth-engine/datasets/catalog/COPERNICUS_Landcover_100m_Proba-V-C3_Global#description"
   ]
  },
  {
   "cell_type": "code",
   "execution_count": null,
   "id": "964c8349-a48e-4050-94d6-ab42c0590b4f",
   "metadata": {},
   "outputs": [],
   "source": [
    "dataset = ee.Image('COPERNICUS/Landcover/100m/Proba-V-C3/Global/2019')\n",
    ".select('discrete_classification')"
   ]
  },
  {
   "cell_type": "markdown",
   "id": "65717085-92b8-482c-9bcf-c5ff5e496964",
   "metadata": {},
   "source": [
    "# Landsat\n",
    "Landsat provides 30m resolution from 1985 to today.\n",
    "\n",
    "An annual composite is made to correct for cloud coverage, with instructions from the following video: https://www.youtube.com/watch?v=GzQ9HSXz9vE\n"
   ]
  },
  {
   "cell_type": "code",
   "execution_count": null,
   "id": "c49f8918-c62d-4413-9280-5ddd4474fade",
   "metadata": {},
   "outputs": [],
   "source": [
    "\n",
    "years = ee.List.sequence(1985, 2024)\n",
    "\n",
    "# Map over the list of years and calculate geometric medians.\n",
    "yearly_medians = ee.ImageCollection(years.map(calculate_median)).map(lambda image: image.clip(piura_shp))\n",
    "yearly_medians_list = yearly_medians.toList(yearly_medians.size())\n",
    "\n",
    "# Get the number of images.\n",
    "num_images = yearly_medians_list.size().getInfo()\n",
    "\n",
    "# Loop over the list and export each image.\n",
    "for i in range(num_images):\n",
    "    year = years.get(i).getInfo()\n",
    "    task = ee.batch.Export.image.toDrive(\n",
    "        image=ee.Image(yearly_medians_list.get(i)),\n",
    "        description = 'Landsat_Satellite_30m_median_' + str(year),\n",
    "        fileNamePrefix = 'Landsat_Satellite_30m_median_' + str(year),\n",
    "        region=piura_shp,\n",
    "        scale=3-,\n",
    "        maxPixels=1e13\n",
    "    )\n",
    "    task.start()"
   ]
  },
  {
   "cell_type": "markdown",
   "id": "565eddec-2019-424c-aac9-ce285126fa92",
   "metadata": {},
   "source": [
    "# Dynamic World\n",
    "10m land use, from 2015-06-27 to today. Near real time.\n",
    "\n",
    "\n",
    "https://developers.google.com/earth-engine/datasets/catalog/GOOGLE_DYNAMICWORLD_V1#colab-python\n"
   ]
  },
  {
   "cell_type": "code",
   "execution_count": null,
   "id": "c62d56e4-6253-46ed-a70c-3fe9361a566a",
   "metadata": {},
   "outputs": [],
   "source": [
    "# Construct a collection of corresponding Dynamic World and Sentinel-2 for\n",
    "# inspection. Filter the DW and S2 collections by region and date.\n",
    "START = ee.Date('2021-04-02')\n",
    "END = START.advance(1, 'day')\n",
    "\n",
    "col_filter = ee.Filter.And(\n",
    "    ee.Filter.bounds(ee.Geometry.Point(20.6729, 52.4305)),\n",
    "    ee.Filter.date(START, END),\n",
    ")\n",
    "\n",
    "dw_col = ee.ImageCollection('GOOGLE/DYNAMICWORLD/V1').filter(col_filter)\n",
    "s2_col = ee.ImageCollection('COPERNICUS/S2').filter(col_filter)\n",
    "\n",
    "# Join corresponding DW and S2 images (by system:index).\n",
    "dw_s2_col = ee.Join.saveFirst('s2_img').apply(\n",
    "    dw_col,\n",
    "    s2_col,\n",
    "    ee.Filter.equals(leftField='system:index', rightField='system:index'),\n",
    ")\n",
    "\n",
    "# Extract an example DW image and its source S2 image.\n",
    "dw_image = ee.Image(dw_s2_col.first())\n",
    "s2_image = ee.Image(dw_image.get('s2_img'))\n",
    "\n",
    "# Create a visualization that blends DW class label with probability.\n",
    "# Define list pairs of DW LULC label and color.\n",
    "CLASS_NAMES = [\n",
    "    'water',\n",
    "    'trees',\n",
    "    'grass',\n",
    "    'flooded_vegetation',\n",
    "    'crops',\n",
    "    'shrub_and_scrub',\n",
    "    'built',\n",
    "    'bare',\n",
    "    'snow_and_ice',\n",
    "]\n",
    "\n",
    "VIS_PALETTE = [\n",
    "    '419bdf',\n",
    "    '397d49',\n",
    "    '88b053',\n",
    "    '7a87c6',\n",
    "    'e49635',\n",
    "    'dfc35a',\n",
    "    'c4281b',\n",
    "    'a59b8f',\n",
    "    'b39fe1',\n",
    "]\n",
    "\n",
    "# Create an RGB image of the label (most likely class) on [0, 1].\n",
    "dw_rgb = (\n",
    "    dw_image.select('label')\n",
    "    .visualize(min=0, max=8, palette=VIS_PALETTE)\n",
    "    .divide(255)\n",
    ")\n",
    "\n",
    "# Get the most likely class probability.\n",
    "top1_prob = dw_image.select(CLASS_NAMES).reduce(ee.Reducer.max())\n",
    "\n",
    "# Create a hillshade of the most likely class probability on [0, 1]\n",
    "top1_prob_hillshade = ee.Terrain.hillshade(top1_prob.multiply(100)).divide(255)\n",
    "\n",
    "# Combine the RGB image with the hillshade.\n",
    "dw_rgb_hillshade = dw_rgb.multiply(top1_prob_hillshade)\n",
    "\n",
    "# Display the Dynamic World visualization with the source Sentinel-2 image.\n",
    "m = geemap.Map()\n",
    "m.set_center(20.6729, 52.4305, 12)\n",
    "m.add_layer(\n",
    "    s2_image,\n",
    "    {'min': 0, 'max': 3000, 'bands': ['B4', 'B3', 'B2']},\n",
    "    'Sentinel-2 L1C',\n",
    ")\n",
    "m.add_layer(\n",
    "    dw_rgb_hillshade,\n",
    "    {'min': 0, 'max': 0.65},\n",
    "    'Dynamic World V1 - label hillshade',\n",
    ")\n",
    "m"
   ]
  },
  {
   "cell_type": "markdown",
   "id": "fc33074e-9398-4413-bb5d-64cf7f2269b2",
   "metadata": {},
   "source": [
    "# ESA WorldCover\n",
    "10m resolution\n",
    "2020-01-01 - 2022-12-31\n",
    "\n",
    "https://developers.google.com/earth-engine/datasets/catalog/ESA_WorldCover_v100\n",
    "https://developers.google.com/earth-engine/datasets/catalog/ESA_WorldCover_v200"
   ]
  },
  {
   "cell_type": "markdown",
   "id": "0ac469de-6dbb-4b78-b8b8-62136a8f4811",
   "metadata": {},
   "source": [
    "# ESRI Land Use Land Cover\n",
    "\n",
    "https://livingatlas.arcgis.com/landcover/"
   ]
  },
  {
   "cell_type": "code",
   "execution_count": null,
   "id": "312dc1a2-4736-4a86-a5f6-ecad1aa78ffd",
   "metadata": {},
   "outputs": [],
   "source": [
    "esri_lulc2020 = ee.ImageCollection(\"projects/sat-io/open-datasets/landcover/ESRI_Global-LULC_10m\")\n"
   ]
  },
  {
   "cell_type": "markdown",
   "id": "048fd886-ce3d-40b4-91ac-69ee4159b107",
   "metadata": {},
   "source": [
    "# ESRI Topography\n",
    "\n",
    "All of these should have a finely traced but properly scaled grid with tick marks corresponding to decimal long./lat. degrees."
   ]
  },
  {
   "cell_type": "markdown",
   "id": "86af0703-7058-47ea-990a-eab316ad86ee",
   "metadata": {},
   "source": [
    "# NASA Elevation"
   ]
  },
  {
   "cell_type": "code",
   "execution_count": 128,
   "id": "04a8d65a-162a-473d-94b2-b7d3fdee0b25",
   "metadata": {},
   "outputs": [
    {
     "data": {
      "text/html": [
       "\n",
       "            <style>\n",
       "                .geemap-dark {\n",
       "                    --jp-widgets-color: white;\n",
       "                    --jp-widgets-label-color: white;\n",
       "                    --jp-ui-font-color1: white;\n",
       "                    --jp-layout-color2: #454545;\n",
       "                    background-color: #383838;\n",
       "                }\n",
       "                    \n",
       "                .geemap-dark .jupyter-button {\n",
       "                    --jp-layout-color3: #383838;\n",
       "                }\n",
       "                \n",
       "                .geemap-colab {\n",
       "                    background-color: var(--colab-primary-surface-color, white);\n",
       "                }\n",
       "                    \n",
       "                .geemap-colab .jupyter-button {\n",
       "                    --jp-layout-color3: var(--colab-primary-surface-color, white);\n",
       "                }\n",
       "            </style>\n",
       "            "
      ],
      "text/plain": [
       "<IPython.core.display.HTML object>"
      ]
     },
     "metadata": {},
     "output_type": "display_data"
    },
    {
     "data": {
      "application/vnd.jupyter.widget-view+json": {
       "model_id": "25d1d946e954421c8f5820c5bfde573f",
       "version_major": 2,
       "version_minor": 0
      },
      "text/plain": [
       "Map(center=[8.517382416611035, -81.00936813268046], controls=(WidgetControl(options=['position', 'transparent_…"
      ]
     },
     "execution_count": 128,
     "metadata": {},
     "output_type": "execute_result"
    }
   ],
   "source": [
    "# Import the dataset and select the elevation band.\n",
    "dataset = ee.Image('NASA/NASADEM_HGT/001')\n",
    "elevation = dataset.select('elevation')\n",
    "\n",
    "# Add a white background image to the map.\n",
    "background = ee.Image(1)\n",
    "background_vis = {'min': 0, 'max': 1}\n",
    "background_layer = background.visualize(**background_vis)\n",
    "\n",
    "# Set elevation visualization properties.\n",
    "elevation_vis = {'min': 0, 'max': 2000}\n",
    "\n",
    "# Set elevation <= 0 as transparent.\n",
    "elevation_masked = elevation.updateMask(elevation.gt(0)).clip(piura_shp)\n",
    "elevation_masked\n",
    "Map = geemap.Map()\n",
    "Map.addLayer(background_layer, {}, 'Background')\n",
    "Map.addLayer(elevation_masked, elevation_vis, 'Elevation')\n",
    "Map.centerObject(piura_shp, 12)\n",
    "Map"
   ]
  },
  {
   "cell_type": "markdown",
   "id": "1b03a470-179f-446a-9b23-2bddfe498744",
   "metadata": {},
   "source": [
    "# Hydrology\n",
    "\n",
    "https://developers.google.com/earth-engine/datasets/catalog/MERIT_Hydro_v1_0_1"
   ]
  },
  {
   "cell_type": "code",
   "execution_count": 132,
   "id": "b6028734-cc3e-480e-ad02-6bc447a9a75d",
   "metadata": {},
   "outputs": [
    {
     "data": {
      "text/html": [
       "\n",
       "            <style>\n",
       "                .geemap-dark {\n",
       "                    --jp-widgets-color: white;\n",
       "                    --jp-widgets-label-color: white;\n",
       "                    --jp-ui-font-color1: white;\n",
       "                    --jp-layout-color2: #454545;\n",
       "                    background-color: #383838;\n",
       "                }\n",
       "                    \n",
       "                .geemap-dark .jupyter-button {\n",
       "                    --jp-layout-color3: #383838;\n",
       "                }\n",
       "                \n",
       "                .geemap-colab {\n",
       "                    background-color: var(--colab-primary-surface-color, white);\n",
       "                }\n",
       "                    \n",
       "                .geemap-colab .jupyter-button {\n",
       "                    --jp-layout-color3: var(--colab-primary-surface-color, white);\n",
       "                }\n",
       "            </style>\n",
       "            "
      ],
      "text/plain": [
       "<IPython.core.display.HTML object>"
      ]
     },
     "metadata": {},
     "output_type": "display_data"
    },
    {
     "data": {
      "application/vnd.jupyter.widget-view+json": {
       "model_id": "25d1d946e954421c8f5820c5bfde573f",
       "version_major": 2,
       "version_minor": 0
      },
      "text/plain": [
       "Map(bottom=499687.0, center=[8.517382416611035, -81.00936813268046], controls=(WidgetControl(options=['positio…"
      ]
     },
     "execution_count": 132,
     "metadata": {},
     "output_type": "execute_result"
    }
   ],
   "source": [
    "dataset = ee.Image('MERIT/Hydro/v1_0_1').clip(piura_shp)\n",
    "\n",
    "visualization = {'bands': ['viswth']}\n",
    "\n",
    "Map.centerObject(piura_shp, 12)\n",
    "\n",
    "Map.addLayer(dataset, visualization, 'River width')\n",
    "Map"
   ]
  }
 ],
 "metadata": {
  "kernelspec": {
   "display_name": "Python 3 (ipykernel)",
   "language": "python",
   "name": "python3"
  },
  "language_info": {
   "codemirror_mode": {
    "name": "ipython",
    "version": 3
   },
   "file_extension": ".py",
   "mimetype": "text/x-python",
   "name": "python",
   "nbconvert_exporter": "python",
   "pygments_lexer": "ipython3",
   "version": "3.11.5"
  }
 },
 "nbformat": 4,
 "nbformat_minor": 5
}
