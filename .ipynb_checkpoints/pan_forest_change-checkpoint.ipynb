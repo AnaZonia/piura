{
 "cells": [
  {
   "cell_type": "code",
   "execution_count": 78,
   "id": "99abd0af-60b3-4557-a776-86454dd07f3e",
   "metadata": {},
   "outputs": [
    {
     "data": {
      "text/html": [
       "\n",
       "            <style>\n",
       "                .geemap-dark {\n",
       "                    --jp-widgets-color: white;\n",
       "                    --jp-widgets-label-color: white;\n",
       "                    --jp-ui-font-color1: white;\n",
       "                    --jp-layout-color2: #454545;\n",
       "                    background-color: #383838;\n",
       "                }\n",
       "                    \n",
       "                .geemap-dark .jupyter-button {\n",
       "                    --jp-layout-color3: #383838;\n",
       "                }\n",
       "                \n",
       "                .geemap-colab {\n",
       "                    background-color: var(--colab-primary-surface-color, white);\n",
       "                }\n",
       "                    \n",
       "                .geemap-colab .jupyter-button {\n",
       "                    --jp-layout-color3: var(--colab-primary-surface-color, white);\n",
       "                }\n",
       "            </style>\n",
       "            "
      ],
      "text/plain": [
       "<IPython.core.display.HTML object>"
      ]
     },
     "metadata": {},
     "output_type": "display_data"
    }
   ],
   "source": [
    "import ee\n",
    "import geemap\n",
    "from matplotlib import pyplot as plt\n",
    "import seaborn as sns\n",
    "\n",
    "# Authenticate to Earth Engine\n",
    "try:\n",
    "  ee.Initialize()\n",
    "except Exception as e:\n",
    "  ee.Authenticate()\n",
    "  ee.Initialize(project='ee-ana-zonia')\n",
    "\n",
    "modis = ee.ImageCollection(\"MODIS/061/MCD12Q1\")\n",
    "esa_2020 = ee.ImageCollection(\"ESA/WorldCover/v100\")\n",
    "esa_2021 = ee.ImageCollection(\"ESA/WorldCover/v200\")\n",
    "roi = ee.FeatureCollection(\"projects/ee-ana-zonia/assets/roi_piedra_piura\")\n",
    "\n",
    "districts = ee.FeatureCollection(\"projects/ee-ana-zonia/assets/pan_distritos_2022\")"
   ]
  },
  {
   "cell_type": "code",
   "execution_count": 3,
   "id": "c891e52e",
   "metadata": {},
   "outputs": [
    {
     "data": {
      "text/html": [
       "\n",
       "            <style>\n",
       "                .geemap-dark {\n",
       "                    --jp-widgets-color: white;\n",
       "                    --jp-widgets-label-color: white;\n",
       "                    --jp-ui-font-color1: white;\n",
       "                    --jp-layout-color2: #454545;\n",
       "                    background-color: #383838;\n",
       "                }\n",
       "                    \n",
       "                .geemap-dark .jupyter-button {\n",
       "                    --jp-layout-color3: #383838;\n",
       "                }\n",
       "                \n",
       "                .geemap-colab {\n",
       "                    background-color: var(--colab-primary-surface-color, white);\n",
       "                }\n",
       "                    \n",
       "                .geemap-colab .jupyter-button {\n",
       "                    --jp-layout-color3: var(--colab-primary-surface-color, white);\n",
       "                }\n",
       "            </style>\n",
       "            "
      ],
      "text/plain": [
       "<IPython.core.display.HTML object>"
      ]
     },
     "metadata": {},
     "output_type": "display_data"
    }
   ],
   "source": [
    "def print_info(featcol):\n",
    "  # Get a list of features from the Feature Collection\n",
    "  features = featcol.getInfo()['features']\n",
    "\n",
    "  # Iterate over each feature and print the district and ID if the district is in the Veraguas province\n",
    "  for feature in features:\n",
    "      properties = feature['properties']\n",
    "      if properties.get('PROVINCIA') == \"Veraguas\":\n",
    "        district = properties.get('DISTRITO')\n",
    "        id_dist = properties.get('ID_DIST')\n",
    "        id_prov = properties.get('COD_PROV')\n",
    "        print(f'District: {district}, ID: {id_dist}, ID_Province: {id_prov}')\n",
    "\n",
    "# So, if we want data for Santa Fe in Veraguas only (there's two santa fe in Panama):\n",
    "santa_fe = districts.filter(ee.Filter.eq(\"ID_DIST\", '0909')).geometry()"
   ]
  },
  {
   "cell_type": "code",
   "execution_count": 26,
   "id": "669183d5-c2c3-4089-81c4-d69134733a79",
   "metadata": {},
   "outputs": [
    {
     "data": {
      "text/html": [
       "\n",
       "            <style>\n",
       "                .geemap-dark {\n",
       "                    --jp-widgets-color: white;\n",
       "                    --jp-widgets-label-color: white;\n",
       "                    --jp-ui-font-color1: white;\n",
       "                    --jp-layout-color2: #454545;\n",
       "                    background-color: #383838;\n",
       "                }\n",
       "                    \n",
       "                .geemap-dark .jupyter-button {\n",
       "                    --jp-layout-color3: #383838;\n",
       "                }\n",
       "                \n",
       "                .geemap-colab {\n",
       "                    background-color: var(--colab-primary-surface-color, white);\n",
       "                }\n",
       "                    \n",
       "                .geemap-colab .jupyter-button {\n",
       "                    --jp-layout-color3: var(--colab-primary-surface-color, white);\n",
       "                }\n",
       "            </style>\n",
       "            "
      ],
      "text/plain": [
       "<IPython.core.display.HTML object>"
      ]
     },
     "metadata": {},
     "output_type": "display_data"
    }
   ],
   "source": [
    "# clipping image collections to area of interest\n",
    "esa_2020_pp = esa_2020.map(lambda image: image.clip(roi)).first()\n",
    "esa_2021_pp = esa_2021.map(lambda image: image.clip(roi)).first()\n",
    "\n",
    "# Define visualization parameters\n",
    "visualization = {'bands': ['Map']}\n",
    "\n",
    "# Add layers to the map\n",
    "Map.addLayer(esa_2020_pp, visualization, 'esa_2020_pp')\n",
    "Map.add_legend(title=\"ESA Land Cover\", builtin_legend='ESA_WorldCover')"
   ]
  },
  {
   "cell_type": "markdown",
   "id": "612323c5-b6e6-4d88-9259-a15d6e1a415b",
   "metadata": {},
   "source": [
    "### MODIS"
   ]
  },
  {
   "cell_type": "code",
   "execution_count": 72,
   "id": "c695c6de-85ab-4898-a048-e4ac51984dd4",
   "metadata": {},
   "outputs": [
    {
     "data": {
      "text/html": [
       "\n",
       "            <style>\n",
       "                .geemap-dark {\n",
       "                    --jp-widgets-color: white;\n",
       "                    --jp-widgets-label-color: white;\n",
       "                    --jp-ui-font-color1: white;\n",
       "                    --jp-layout-color2: #454545;\n",
       "                    background-color: #383838;\n",
       "                }\n",
       "                    \n",
       "                .geemap-dark .jupyter-button {\n",
       "                    --jp-layout-color3: #383838;\n",
       "                }\n",
       "                \n",
       "                .geemap-colab {\n",
       "                    background-color: var(--colab-primary-surface-color, white);\n",
       "                }\n",
       "                    \n",
       "                .geemap-colab .jupyter-button {\n",
       "                    --jp-layout-color3: var(--colab-primary-surface-color, white);\n",
       "                }\n",
       "            </style>\n",
       "            "
      ],
      "text/plain": [
       "<IPython.core.display.HTML object>"
      ]
     },
     "metadata": {},
     "output_type": "display_data"
    }
   ],
   "source": [
    "Map = geemap.Map()\n",
    "\n",
    "modis_pp = modis.map(lambda image: image.clip(roi)).select('LC_Type1')\n",
    "\n",
    "igbpLandCoverVis = {\n",
    "    'min': 1.0,\n",
    "    'max': 17.0,\n",
    "    'palette': [\n",
    "        '05450a',\n",
    "        '086a10',\n",
    "        '54a708',\n",
    "        '78d203',\n",
    "        '009900',\n",
    "        'c6b044',\n",
    "        'dcd159',\n",
    "        'dade48',\n",
    "        'fbff13',\n",
    "        'b6ff05',\n",
    "        '27ff87',\n",
    "        'c24f44',\n",
    "        'a5a5a5',\n",
    "        'ff6d4c',\n",
    "        '69fff8',\n",
    "        'f9ffa4',\n",
    "        '1c0dff',\n",
    "    ],\n",
    "}\n",
    "\n",
    "Map.center_object(roi)\n",
    "Map.add_time_slider(modis_pp, igbpLandCoverVis, time_interval = 2)\n",
    "Map.add_legend(title=\"MODIS\", builtin_legend=\"MODIS/006/MCD12Q1\")\n",
    "# Map"
   ]
  },
  {
   "cell_type": "code",
   "execution_count": 74,
   "id": "8226f028-660d-4cba-8bb1-abba78d36228",
   "metadata": {},
   "outputs": [
    {
     "data": {
      "text/html": [
       "\n",
       "            <style>\n",
       "                .geemap-dark {\n",
       "                    --jp-widgets-color: white;\n",
       "                    --jp-widgets-label-color: white;\n",
       "                    --jp-ui-font-color1: white;\n",
       "                    --jp-layout-color2: #454545;\n",
       "                    background-color: #383838;\n",
       "                }\n",
       "                    \n",
       "                .geemap-dark .jupyter-button {\n",
       "                    --jp-layout-color3: #383838;\n",
       "                }\n",
       "                \n",
       "                .geemap-colab {\n",
       "                    background-color: var(--colab-primary-surface-color, white);\n",
       "                }\n",
       "                    \n",
       "                .geemap-colab .jupyter-button {\n",
       "                    --jp-layout-color3: var(--colab-primary-surface-color, white);\n",
       "                }\n",
       "            </style>\n",
       "            "
      ],
      "text/plain": [
       "<IPython.core.display.HTML object>"
      ]
     },
     "metadata": {},
     "output_type": "display_data"
    },
    {
     "name": "stdout",
     "output_type": "stream",
     "text": [
      "Generating URL...\n",
      "Downloading GIF image from https://earthengine.googleapis.com/v1/projects/earthengine-legacy/videoThumbnails/edf6c41fdaa2d42b82659fecb0a6f44c-3349afaa97a4b24b93bfdf5b82c3ffd5:getPixels\n",
      "Please wait ...\n",
      "The GIF image has been saved to: C:\\Users\\anaca\\AppData\\Local\\Temp\\35c45a3c-5c7c-4bf1-a115-54304aae692f.gif\n"
     ]
    },
    {
     "data": {
      "application/vnd.jupyter.widget-view+json": {
       "model_id": "53f64a0ee13640dca436ed23c3a5ed65",
       "version_major": 2,
       "version_minor": 0
      },
      "text/plain": [
       "Output()"
      ]
     },
     "metadata": {},
     "output_type": "display_data"
    }
   ],
   "source": [
    "modis_start_date = '2001-01-01'\n",
    "modis_end_date = '2022-01-01'\n",
    "\n",
    "ts = geemap.create_timeseries(modis_pp, start_date = '2001-01-01', end_date = '2022-01-01')\n",
    "\n",
    "timelapse = geemap.create_timelapse(modis_pp, frames_per_second = 3, region = roi, start_date = '2001-01-01', end_date = '2022-01-01')\n",
    "\n",
    "geemap.show_image(timelapse)"
   ]
  },
  {
   "cell_type": "code",
   "execution_count": 75,
   "id": "f74a07a9-f2ed-472a-a188-ef8127d87dbb",
   "metadata": {
    "scrolled": true
   },
   "outputs": [
    {
     "data": {
      "text/html": [
       "\n",
       "            <style>\n",
       "                .geemap-dark {\n",
       "                    --jp-widgets-color: white;\n",
       "                    --jp-widgets-label-color: white;\n",
       "                    --jp-ui-font-color1: white;\n",
       "                    --jp-layout-color2: #454545;\n",
       "                    background-color: #383838;\n",
       "                }\n",
       "                    \n",
       "                .geemap-dark .jupyter-button {\n",
       "                    --jp-layout-color3: #383838;\n",
       "                }\n",
       "                \n",
       "                .geemap-colab {\n",
       "                    background-color: var(--colab-primary-surface-color, white);\n",
       "                }\n",
       "                    \n",
       "                .geemap-colab .jupyter-button {\n",
       "                    --jp-layout-color3: var(--colab-primary-surface-color, white);\n",
       "                }\n",
       "            </style>\n",
       "            "
      ],
      "text/plain": [
       "<IPython.core.display.HTML object>"
      ]
     },
     "metadata": {},
     "output_type": "display_data"
    },
    {
     "name": "stdout",
     "output_type": "stream",
     "text": [
      "Generating URL...\n",
      "Downloading GIF image from https://earthengine.googleapis.com/v1/projects/earthengine-legacy/videoThumbnails/fe3b0dba6f724a869071e913d7a0a2d6-19ad044593fe85fa007ba56e525145bd:getPixels\n",
      "Please wait ...\n",
      "The GIF image has been saved to: C:\\Users\\anaca\\AppData\\Local\\Temp\\dc0fa184-1196-407d-8089-4903fb9c2dc4.gif\n"
     ]
    },
    {
     "data": {
      "application/vnd.jupyter.widget-view+json": {
       "model_id": "9edd5d9f89434967b90574f5ead0840c",
       "version_major": 2,
       "version_minor": 0
      },
      "text/plain": [
       "Output()"
      ]
     },
     "metadata": {},
     "output_type": "display_data"
    }
   ],
   "source": [
    "timelapse = geemap.landsat_timelapse(\n",
    "    roi,\n",
    "    start_year=2001,\n",
    "    end_year=2022,\n",
    "    start_date='01-01',\n",
    "    end_date='12-31',\n",
    "    bands=['SWIR1', 'NIR', 'Red'],\n",
    "    frames_per_second=3)\n",
    "geemap.show_image(timelapse)"
   ]
  },
  {
   "cell_type": "code",
   "execution_count": 80,
   "id": "18f2091f-8b62-48df-a371-0284794f7b9d",
   "metadata": {},
   "outputs": [
    {
     "data": {
      "text/html": [
       "\n",
       "            <style>\n",
       "                .geemap-dark {\n",
       "                    --jp-widgets-color: white;\n",
       "                    --jp-widgets-label-color: white;\n",
       "                    --jp-ui-font-color1: white;\n",
       "                    --jp-layout-color2: #454545;\n",
       "                    background-color: #383838;\n",
       "                }\n",
       "                    \n",
       "                .geemap-dark .jupyter-button {\n",
       "                    --jp-layout-color3: #383838;\n",
       "                }\n",
       "                \n",
       "                .geemap-colab {\n",
       "                    background-color: var(--colab-primary-surface-color, white);\n",
       "                }\n",
       "                    \n",
       "                .geemap-colab .jupyter-button {\n",
       "                    --jp-layout-color3: var(--colab-primary-surface-color, white);\n",
       "                }\n",
       "            </style>\n",
       "            "
      ],
      "text/plain": [
       "<IPython.core.display.HTML object>"
      ]
     },
     "metadata": {},
     "output_type": "display_data"
    },
    {
     "name": "stdout",
     "output_type": "stream",
     "text": [
      "Generating URL...\n",
      "Downloading GIF image from https://earthengine.googleapis.com/v1/projects/earthengine-legacy/videoThumbnails/6d984de3fb6f3781aefd8acbb7608271-1ea0d396c658a96198773da2103deb5a:getPixels\n",
      "Please wait ...\n",
      "The GIF image has been saved to: C:\\Users\\anaca\\Downloads\\s2_ts_foj.gif\n"
     ]
    },
    {
     "data": {
      "application/vnd.jupyter.widget-view+json": {
       "model_id": "6dc50b713909416c8036345bf073c005",
       "version_major": 2,
       "version_minor": 0
      },
      "text/plain": [
       "Output()"
      ]
     },
     "metadata": {},
     "output_type": "display_data"
    }
   ],
   "source": [
    "timelapse = geemap.sentinel2_timelapse(\n",
    "    roi,\n",
    "    start_year=2017,\n",
    "    end_year=2023,\n",
    "    start_date='01-01',\n",
    "    end_date='12-31',\n",
    "    frequency='year',\n",
    "    bands=['SWIR1', 'NIR', 'Red'],\n",
    "    frames_per_second=3,\n",
    "    title='Sentinel-2 Timelapse',\n",
    ")\n",
    "geemap.show_image(timelapse)"
   ]
  },
  {
   "cell_type": "markdown",
   "id": "62fbe2af-278c-4a2d-b48d-6bbbaa0e00a0",
   "metadata": {},
   "source": [
    "### Dynamic World\n",
    "\n",
    "Sentinel 2 10m resolution"
   ]
  },
  {
   "cell_type": "code",
   "execution_count": 85,
   "id": "903a1972-0ce5-42ea-beca-edc1af9c86d0",
   "metadata": {},
   "outputs": [
    {
     "data": {
      "text/html": [
       "\n",
       "            <style>\n",
       "                .geemap-dark {\n",
       "                    --jp-widgets-color: white;\n",
       "                    --jp-widgets-label-color: white;\n",
       "                    --jp-ui-font-color1: white;\n",
       "                    --jp-layout-color2: #454545;\n",
       "                    background-color: #383838;\n",
       "                }\n",
       "                    \n",
       "                .geemap-dark .jupyter-button {\n",
       "                    --jp-layout-color3: #383838;\n",
       "                }\n",
       "                \n",
       "                .geemap-colab {\n",
       "                    background-color: var(--colab-primary-surface-color, white);\n",
       "                }\n",
       "                    \n",
       "                .geemap-colab .jupyter-button {\n",
       "                    --jp-layout-color3: var(--colab-primary-surface-color, white);\n",
       "                }\n",
       "            </style>\n",
       "            "
      ],
      "text/plain": [
       "<IPython.core.display.HTML object>"
      ]
     },
     "metadata": {},
     "output_type": "display_data"
    },
    {
     "name": "stdout",
     "output_type": "stream",
     "text": [
      "Generating URL...\n",
      "Downloading GIF image from https://earthengine.googleapis.com/v1/projects/earthengine-legacy/videoThumbnails/03fbce7ce3f13463ad9b473f31aa238c-c25222cd2ba96453c102edc499bc3588:getPixels\n",
      "Please wait ...\n",
      "The GIF image has been saved to: C:\\Users\\anaca\\AppData\\Local\\Temp\\b5e3c600-cad8-495a-a038-53239e80d7d6.gif\n"
     ]
    },
    {
     "data": {
      "application/vnd.jupyter.widget-view+json": {
       "model_id": "b186ec36f61e4b1db8ab60204e4c7cf6",
       "version_major": 2,
       "version_minor": 0
      },
      "text/plain": [
       "Output()"
      ]
     },
     "metadata": {},
     "output_type": "display_data"
    }
   ],
   "source": [
    "Map = geemap.Map()\n",
    "dw = ee.ImageCollection(\"GOOGLE/DYNAMICWORLD/V1\").map(lambda image: image.clip(roi).selfMask())\n",
    "\n",
    "start_date = '2015-06-23'\n",
    "end_date = '2023-12-26'\n",
    "\n",
    "dw_vis = {\n",
    "    \"min\": 0,\n",
    "    \"max\": 8,\n",
    "    \"palette\": [\n",
    "        \"#419BDF\",\n",
    "        \"#397D49\",\n",
    "        \"#88B053\",\n",
    "        \"#7A87C6\",\n",
    "        \"#E49635\",\n",
    "        \"#DFC35A\",\n",
    "        \"#C4281B\",\n",
    "        \"#A59B8F\",\n",
    "        \"#B39FE1\",\n",
    "    ],\n",
    "}\n",
    "\n",
    "ts = geemap.create_timeseries(dw, start_date = start_date, end_date = end_date)\n",
    "\n",
    "timelapse = geemap.create_timelapse(dw, frames_per_second = 3, region = roi, start_date = start_date, end_date = end_date)\n",
    "\n",
    "geemap.show_image(timelapse)\n",
    "\n",
    "# Map.add_layer(dw_class, dw_vis, 'DW Land Cover')\n",
    "# Map.add_legend(title=\"Dynamic World Land Cover\", builtin_legend='Dynamic_World')\n",
    "# Map.center_object(roi, 12)\n",
    "# Map"
   ]
  },
  {
   "cell_type": "code",
   "execution_count": 33,
   "id": "6b13240a-be0a-4f10-9ce4-3927460ab74a",
   "metadata": {},
   "outputs": [
    {
     "data": {
      "text/html": [
       "\n",
       "            <style>\n",
       "                .geemap-dark {\n",
       "                    --jp-widgets-color: white;\n",
       "                    --jp-widgets-label-color: white;\n",
       "                    --jp-ui-font-color1: white;\n",
       "                    --jp-layout-color2: #454545;\n",
       "                    background-color: #383838;\n",
       "                }\n",
       "                    \n",
       "                .geemap-dark .jupyter-button {\n",
       "                    --jp-layout-color3: #383838;\n",
       "                }\n",
       "                \n",
       "                .geemap-colab {\n",
       "                    background-color: var(--colab-primary-surface-color, white);\n",
       "                }\n",
       "                    \n",
       "                .geemap-colab .jupyter-button {\n",
       "                    --jp-layout-color3: var(--colab-primary-surface-color, white);\n",
       "                }\n",
       "            </style>\n",
       "            "
      ],
      "text/plain": [
       "<IPython.core.display.HTML object>"
      ]
     },
     "metadata": {},
     "output_type": "display_data"
    }
   ],
   "source": [
    "Map = geemap.Map(basemap='Esri.WorldImagery')\n",
    "\n",
    "left_layer = geemap.ee_tile_layer(esa_2020_pp, visualization, 'esa_2020_pp')\n",
    "right_layer = geemap.ee_tile_layer(dw_class, dw_vis, 'DW Land Cover')\n",
    "\n",
    "Map.split_map(left_layer, right_layer)\n",
    "Map.add_legend(\n",
    "    title=\"ESA Land Cover\", builtin_legend='ESA_WorldCover', position='bottomleft'\n",
    ")\n",
    "\n",
    "Map.add_legend(\n",
    "    title=\"Dynamic World Land Cover\",\n",
    "    builtin_legend='Dynamic_World',\n",
    "    position='bottomright',\n",
    ")\n",
    "\n",
    "Map.center_object(roi)\n",
    "# Map"
   ]
  },
  {
   "cell_type": "code",
   "execution_count": 63,
   "id": "80fd2af6-4f07-4957-9a82-3a3eb90fb5d3",
   "metadata": {},
   "outputs": [
    {
     "data": {
      "text/html": [
       "\n",
       "            <style>\n",
       "                .geemap-dark {\n",
       "                    --jp-widgets-color: white;\n",
       "                    --jp-widgets-label-color: white;\n",
       "                    --jp-ui-font-color1: white;\n",
       "                    --jp-layout-color2: #454545;\n",
       "                    background-color: #383838;\n",
       "                }\n",
       "                    \n",
       "                .geemap-dark .jupyter-button {\n",
       "                    --jp-layout-color3: #383838;\n",
       "                }\n",
       "                \n",
       "                .geemap-colab {\n",
       "                    background-color: var(--colab-primary-surface-color, white);\n",
       "                }\n",
       "                    \n",
       "                .geemap-colab .jupyter-button {\n",
       "                    --jp-layout-color3: var(--colab-primary-surface-color, white);\n",
       "                }\n",
       "            </style>\n",
       "            "
      ],
      "text/plain": [
       "<IPython.core.display.HTML object>"
      ]
     },
     "metadata": {},
     "output_type": "display_data"
    },
    {
     "data": {
      "text/plain": [
       "Text(0.5, 0, 'year')"
      ]
     },
     "execution_count": 63,
     "metadata": {},
     "output_type": "execute_result"
    },
    {
     "data": {
      "image/png": "[encoded data removed]",
      "text/plain": [
       "<Figure size 2400x560 with 1 Axes>"
      ]
     },
     "metadata": {},
     "output_type": "display_data"
    }
   ],
   "source": [
    "m = geemap.Map()\n",
    "dataset = ee.Image(\"UMD/hansen/global_forest_change_2022_v1_10\")\n",
    "m.add_basemap('Esri.WorldImagery')\n",
    "\n",
    "treeloss_year = dataset.select(['lossyear']).clip(roi)\n",
    "treeLossVisParam = {'min': 0, 'max': 22, 'palette': ['yellow', 'red']}\n",
    "layer_name = 'Tree loss year'\n",
    "\n",
    "m.center_object(roi)\n",
    "m.add_layer(treeloss_year, treeLossVisParam, layer_name)\n",
    "m.add_colorbar(treeLossVisParam, label=layer_name, layer_name=layer_name)\n",
    "m.add('layer_manager')\n",
    "# m\n",
    "\n",
    "histogramDictionary = treeloss_year.reduceRegion(**{\n",
    " 'reducer': ee.Reducer.histogram(30),\n",
    " 'geometry': roi,\n",
    " 'scale': 30,\n",
    " 'maxPixels': 1e19\n",
    "})\n",
    "\n",
    "histogram = histogramDictionary.getInfo()\n",
    "bands = list(histogram.keys())\n",
    "\n",
    "y = histogram['lossyear']['histogram']\n",
    "x = []\n",
    "for i in range(len(y)):\n",
    "   x.append(histogram['lossyear']['bucketMin'] + i * histogram['lossyear']['bucketWidth'])\n",
    "data = pd.DataFrame({'x': x, 'y': y})\n",
    "\n",
    "fig, ax = plt.subplots(figsize=(30, 7), dpi=80)\n",
    "sns.barplot(data=data, x='x', y='y', ax=ax)\n",
    "ax.xaxis.set_major_locator(plt.MaxNLocator(10))\n",
    "for patch in ax.patches:\n",
    "   current_height = patch.get_width()\n",
    "   patch.set_width(1)\n",
    "   patch.set_y(patch.get_y() + current_height - 1)\n",
    "plt.title('Histogram for 2001-2022', fontsize=18)\n",
    "plt.ylabel('Frequency (in power 10)', fontsize=18)\n",
    "plt.xlabel('year', fontsize=16)"
   ]
  },
  {
   "cell_type": "code",
   "execution_count": null,
   "id": "003a53ba-06dd-4fa1-aa55-c9f69ecc9088",
   "metadata": {},
   "outputs": [],
   "source": []
  },
  {
   "cell_type": "code",
   "execution_count": null,
   "id": "6d12e1c4-f348-42cb-8c74-c40024bf1b1b",
   "metadata": {},
   "outputs": [],
   "source": []
  }
 ],
 "metadata": {
  "kernelspec": {
   "display_name": "Python 3 (ipykernel)",
   "language": "python",
   "name": "python3"
  },
  "language_info": {
   "codemirror_mode": {
    "name": "ipython",
    "version": 3
   },
   "file_extension": ".py",
   "mimetype": "text/x-python",
   "name": "python",
   "nbconvert_exporter": "python",
   "pygments_lexer": "ipython3",
   "version": "3.11.5"
  }
 },
 "nbformat": 4,
 "nbformat_minor": 5
}
