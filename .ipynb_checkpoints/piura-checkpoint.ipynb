{
 "cells": [
  {
   "cell_type": "code",
   "execution_count": 5,
   "id": "3ffab226-3513-4f89-83c3-6761db5c74e6",
   "metadata": {},
   "outputs": [
    {
     "data": {
      "text/html": [
       "\n",
       "            <style>\n",
       "                .geemap-dark {\n",
       "                    --jp-widgets-color: white;\n",
       "                    --jp-widgets-label-color: white;\n",
       "                    --jp-ui-font-color1: white;\n",
       "                    --jp-layout-color2: #454545;\n",
       "                    background-color: #383838;\n",
       "                }\n",
       "                    \n",
       "                .geemap-dark .jupyter-button {\n",
       "                    --jp-layout-color3: #383838;\n",
       "                }\n",
       "                \n",
       "                .geemap-colab {\n",
       "                    background-color: var(--colab-primary-surface-color, white);\n",
       "                }\n",
       "                    \n",
       "                .geemap-colab .jupyter-button {\n",
       "                    --jp-layout-color3: var(--colab-primary-surface-color, white);\n",
       "                }\n",
       "            </style>\n",
       "            "
      ],
      "text/plain": [
       "<IPython.core.display.HTML object>"
      ]
     },
     "metadata": {},
     "output_type": "display_data"
    }
   ],
   "source": [
    "import ee\n",
    "import geemap\n",
    "import os\n",
    "\n",
    "# Authenticate to Earth Engine\n",
    "try:\n",
    "  ee.Initialize(project='envr451-2024')\n",
    "except Exception as e:\n",
    "  ee.Authenticate()\n",
    "  ee.Initialize(project='envr451-2024')"
   ]
  },
  {
   "cell_type": "markdown",
   "id": "012ea195-5387-46f3-bae8-9f5329955bf8",
   "metadata": {},
   "source": [
    "# Planet\n",
    "Planet provides us with 4.77m resolution all the way to Jan 2016.\n",
    "https://developers.google.com/earth-engine/datasets/catalog/projects_planet-nicfi_assets_basemaps_americas"
   ]
  },
  {
   "cell_type": "code",
   "execution_count": 205,
   "id": "17e77755-6934-473f-b7e6-fa6097f1f3e9",
   "metadata": {},
   "outputs": [
    {
     "data": {
      "text/html": [
       "\n",
       "            <style>\n",
       "                .geemap-dark {\n",
       "                    --jp-widgets-color: white;\n",
       "                    --jp-widgets-label-color: white;\n",
       "                    --jp-ui-font-color1: white;\n",
       "                    --jp-layout-color2: #454545;\n",
       "                    background-color: #383838;\n",
       "                }\n",
       "                    \n",
       "                .geemap-dark .jupyter-button {\n",
       "                    --jp-layout-color3: #383838;\n",
       "                }\n",
       "                \n",
       "                .geemap-colab {\n",
       "                    background-color: var(--colab-primary-surface-color, white);\n",
       "                }\n",
       "                    \n",
       "                .geemap-colab .jupyter-button {\n",
       "                    --jp-layout-color3: var(--colab-primary-surface-color, white);\n",
       "                }\n",
       "            </style>\n",
       "            "
      ],
      "text/plain": [
       "<IPython.core.display.HTML object>"
      ]
     },
     "metadata": {},
     "output_type": "display_data"
    },
    {
     "name": "stdout",
     "output_type": "stream",
     "text": [
      "Total number of images: 37\n",
      "\n",
      "Exporting 1/37: C:\\Users\\anaca\\Downloads\\planet_medres_normalized_analytic_2021-01_mosaic.tif\n",
      "Generating URL ...\n",
      "Downloading data from https://earthengine.googleapis.com/v1/projects/envr451-2024/thumbnails/ab902d493c86c5778ba50da750214a31-a47d147f7759c1a7b27019d2d04057ae:getPixels\n",
      "Please wait ...\n",
      "Data downloaded to C:\\Users\\anaca\\Downloads\\planet_medres_normalized_analytic_2021-01_mosaic.tif\n",
      "\n",
      "\n",
      "Exporting 2/37: C:\\Users\\anaca\\Downloads\\planet_medres_normalized_analytic_2021-02_mosaic.tif\n",
      "Generating URL ...\n",
      "Downloading data from https://earthengine.googleapis.com/v1/projects/envr451-2024/thumbnails/3ac30d408548b9c96be1ed201f0183a6-eba5d9ab40e9579dbbbe8753bec1c2a2:getPixels\n",
      "Please wait ...\n",
      "Data downloaded to C:\\Users\\anaca\\Downloads\\planet_medres_normalized_analytic_2021-02_mosaic.tif\n",
      "\n",
      "\n",
      "Exporting 3/37: C:\\Users\\anaca\\Downloads\\planet_medres_normalized_analytic_2021-03_mosaic.tif\n",
      "Generating URL ...\n",
      "Downloading data from https://earthengine.googleapis.com/v1/projects/envr451-2024/thumbnails/19c74e105772aea11affe9c1ffa7bf58-a649dfae04cb954e0836fdd62ef321ca:getPixels\n",
      "Please wait ...\n",
      "Data downloaded to C:\\Users\\anaca\\Downloads\\planet_medres_normalized_analytic_2021-03_mosaic.tif\n",
      "\n",
      "\n",
      "Exporting 4/37: C:\\Users\\anaca\\Downloads\\planet_medres_normalized_analytic_2021-04_mosaic.tif\n",
      "Generating URL ...\n",
      "Downloading data from https://earthengine.googleapis.com/v1/projects/envr451-2024/thumbnails/ea5bc4257dad0a8c539799f03db9f0d4-ceff3faf74922c0288b59a2c7e5ec6d2:getPixels\n",
      "Please wait ...\n",
      "Data downloaded to C:\\Users\\anaca\\Downloads\\planet_medres_normalized_analytic_2021-04_mosaic.tif\n",
      "\n",
      "\n",
      "Exporting 5/37: C:\\Users\\anaca\\Downloads\\planet_medres_normalized_analytic_2021-05_mosaic.tif\n",
      "Generating URL ...\n",
      "Downloading data from https://earthengine.googleapis.com/v1/projects/envr451-2024/thumbnails/3b50be702b997effba7cd79f718b3bf7-c369deb670bbb403c57b8e80da2b9b63:getPixels\n",
      "Please wait ...\n"
     ]
    },
    {
     "ename": "KeyboardInterrupt",
     "evalue": "",
     "output_type": "error",
     "traceback": [
      "\u001b[1;31m---------------------------------------------------------------------------\u001b[0m",
      "\u001b[1;31mKeyboardInterrupt\u001b[0m                         Traceback (most recent call last)",
      "Cell \u001b[1;32mIn[205], line 25\u001b[0m\n\u001b[0;32m     22\u001b[0m \u001b[38;5;66;03m# Visualization parameters\u001b[39;00m\n\u001b[0;32m     23\u001b[0m vis_basemap \u001b[38;5;241m=\u001b[39m {\u001b[38;5;124m'\u001b[39m\u001b[38;5;124mbands\u001b[39m\u001b[38;5;124m'\u001b[39m: [\u001b[38;5;124m'\u001b[39m\u001b[38;5;124mR_median\u001b[39m\u001b[38;5;124m'\u001b[39m, \u001b[38;5;124m'\u001b[39m\u001b[38;5;124mG_median\u001b[39m\u001b[38;5;124m'\u001b[39m, \u001b[38;5;124m'\u001b[39m\u001b[38;5;124mB_median\u001b[39m\u001b[38;5;124m'\u001b[39m], \u001b[38;5;124m'\u001b[39m\u001b[38;5;124mmin\u001b[39m\u001b[38;5;124m'\u001b[39m: \u001b[38;5;241m64\u001b[39m, \u001b[38;5;124m'\u001b[39m\u001b[38;5;124mmax\u001b[39m\u001b[38;5;124m'\u001b[39m: \u001b[38;5;241m5454\u001b[39m, \u001b[38;5;124m'\u001b[39m\u001b[38;5;124mgamma\u001b[39m\u001b[38;5;124m'\u001b[39m: \u001b[38;5;241m1.8\u001b[39m}\n\u001b[1;32m---> 25\u001b[0m \u001b[43mgeemap\u001b[49m\u001b[38;5;241;43m.\u001b[39;49m\u001b[43mee_export_image_collection\u001b[49m\u001b[43m(\u001b[49m\u001b[43mbasemap_2020_2024\u001b[49m\u001b[43m,\u001b[49m\u001b[43m \u001b[49m\u001b[43mout_dir\u001b[49m\u001b[38;5;241;43m=\u001b[39;49m\u001b[43mout_dir\u001b[49m\u001b[43m)\u001b[49m\n\u001b[0;32m     28\u001b[0m \u001b[38;5;66;03m# image = yearly_medians.first()\u001b[39;00m\n\u001b[0;32m     29\u001b[0m \u001b[38;5;66;03m# export_params = {\u001b[39;00m\n\u001b[0;32m     30\u001b[0m \u001b[38;5;66;03m#     'image': image.visualize({'bands': ['R_median', 'G_median', 'B_median'], 'min': 64, 'max': 5454, 'gamma': 1.8}),\u001b[39;00m\n\u001b[1;32m   (...)\u001b[0m\n\u001b[0;32m     39\u001b[0m \u001b[38;5;66;03m# Map.addLayer(yearly_medians.first(), vis_basemap, 'last_image')\u001b[39;00m\n\u001b[0;32m     40\u001b[0m \u001b[38;5;66;03m# Map\u001b[39;00m\n",
      "File \u001b[1;32m~\\miniconda3\\Lib\\site-packages\\geemap\\common.py:319\u001b[0m, in \u001b[0;36mee_export_image_collection\u001b[1;34m(ee_object, out_dir, scale, crs, crs_transform, region, dimensions, file_per_band, format, unmask_value, filenames, timeout, proxies)\u001b[0m\n\u001b[0;32m    317\u001b[0m         filename \u001b[38;5;241m=\u001b[39m os\u001b[38;5;241m.\u001b[39mpath\u001b[38;5;241m.\u001b[39mjoin(out_dir, filenames[i])\n\u001b[0;32m    318\u001b[0m         \u001b[38;5;28mprint\u001b[39m(\u001b[38;5;124mf\u001b[39m\u001b[38;5;124m\"\u001b[39m\u001b[38;5;124mExporting \u001b[39m\u001b[38;5;132;01m{\u001b[39;00mi\u001b[38;5;250m \u001b[39m\u001b[38;5;241m+\u001b[39m\u001b[38;5;250m \u001b[39m\u001b[38;5;241m1\u001b[39m\u001b[38;5;132;01m}\u001b[39;00m\u001b[38;5;124m/\u001b[39m\u001b[38;5;132;01m{\u001b[39;00mcount\u001b[38;5;132;01m}\u001b[39;00m\u001b[38;5;124m: \u001b[39m\u001b[38;5;132;01m{\u001b[39;00mfilename\u001b[38;5;132;01m}\u001b[39;00m\u001b[38;5;124m\"\u001b[39m)\n\u001b[1;32m--> 319\u001b[0m         \u001b[43mee_export_image\u001b[49m\u001b[43m(\u001b[49m\n\u001b[0;32m    320\u001b[0m \u001b[43m            \u001b[49m\u001b[43mimage\u001b[49m\u001b[43m,\u001b[49m\n\u001b[0;32m    321\u001b[0m \u001b[43m            \u001b[49m\u001b[43mfilename\u001b[49m\u001b[38;5;241;43m=\u001b[39;49m\u001b[43mfilename\u001b[49m\u001b[43m,\u001b[49m\n\u001b[0;32m    322\u001b[0m \u001b[43m            \u001b[49m\u001b[43mscale\u001b[49m\u001b[38;5;241;43m=\u001b[39;49m\u001b[43mscale\u001b[49m\u001b[43m,\u001b[49m\n\u001b[0;32m    323\u001b[0m \u001b[43m            \u001b[49m\u001b[43mcrs\u001b[49m\u001b[38;5;241;43m=\u001b[39;49m\u001b[43mcrs\u001b[49m\u001b[43m,\u001b[49m\n\u001b[0;32m    324\u001b[0m \u001b[43m            \u001b[49m\u001b[43mcrs_transform\u001b[49m\u001b[38;5;241;43m=\u001b[39;49m\u001b[43mcrs_transform\u001b[49m\u001b[43m,\u001b[49m\n\u001b[0;32m    325\u001b[0m \u001b[43m            \u001b[49m\u001b[43mregion\u001b[49m\u001b[38;5;241;43m=\u001b[39;49m\u001b[43mregion\u001b[49m\u001b[43m,\u001b[49m\n\u001b[0;32m    326\u001b[0m \u001b[43m            \u001b[49m\u001b[43mdimensions\u001b[49m\u001b[38;5;241;43m=\u001b[39;49m\u001b[43mdimensions\u001b[49m\u001b[43m,\u001b[49m\n\u001b[0;32m    327\u001b[0m \u001b[43m            \u001b[49m\u001b[43mfile_per_band\u001b[49m\u001b[38;5;241;43m=\u001b[39;49m\u001b[43mfile_per_band\u001b[49m\u001b[43m,\u001b[49m\n\u001b[0;32m    328\u001b[0m \u001b[43m            \u001b[49m\u001b[38;5;28;43mformat\u001b[39;49m\u001b[38;5;241;43m=\u001b[39;49m\u001b[38;5;28;43mformat\u001b[39;49m\u001b[43m,\u001b[49m\n\u001b[0;32m    329\u001b[0m \u001b[43m            \u001b[49m\u001b[43munmask_value\u001b[49m\u001b[38;5;241;43m=\u001b[39;49m\u001b[43munmask_value\u001b[49m\u001b[43m,\u001b[49m\n\u001b[0;32m    330\u001b[0m \u001b[43m            \u001b[49m\u001b[43mtimeout\u001b[49m\u001b[38;5;241;43m=\u001b[39;49m\u001b[43mtimeout\u001b[49m\u001b[43m,\u001b[49m\n\u001b[0;32m    331\u001b[0m \u001b[43m            \u001b[49m\u001b[43mproxies\u001b[49m\u001b[38;5;241;43m=\u001b[39;49m\u001b[43mproxies\u001b[49m\u001b[43m,\u001b[49m\n\u001b[0;32m    332\u001b[0m \u001b[43m        \u001b[49m\u001b[43m)\u001b[49m\n\u001b[0;32m    333\u001b[0m         \u001b[38;5;28mprint\u001b[39m(\u001b[38;5;124m\"\u001b[39m\u001b[38;5;130;01m\\n\u001b[39;00m\u001b[38;5;124m\"\u001b[39m)\n\u001b[0;32m    335\u001b[0m \u001b[38;5;28;01mexcept\u001b[39;00m \u001b[38;5;167;01mException\u001b[39;00m \u001b[38;5;28;01mas\u001b[39;00m e:\n",
      "File \u001b[1;32m~\\miniconda3\\Lib\\site-packages\\geemap\\common.py:227\u001b[0m, in \u001b[0;36mee_export_image\u001b[1;34m(ee_object, filename, scale, crs, crs_transform, region, dimensions, file_per_band, format, unzip, unmask_value, timeout, proxies)\u001b[0m\n\u001b[0;32m    224\u001b[0m \u001b[38;5;66;03m# Need to initialize r to something because of how we currently handle errors\u001b[39;00m\n\u001b[0;32m    225\u001b[0m \u001b[38;5;66;03m# We should aim to refactor the code such that only one try block is needed\u001b[39;00m\n\u001b[0;32m    226\u001b[0m r \u001b[38;5;241m=\u001b[39m \u001b[38;5;28;01mNone\u001b[39;00m\n\u001b[1;32m--> 227\u001b[0m r \u001b[38;5;241m=\u001b[39m \u001b[43mrequests\u001b[49m\u001b[38;5;241;43m.\u001b[39;49m\u001b[43mget\u001b[49m\u001b[43m(\u001b[49m\u001b[43murl\u001b[49m\u001b[43m,\u001b[49m\u001b[43m \u001b[49m\u001b[43mstream\u001b[49m\u001b[38;5;241;43m=\u001b[39;49m\u001b[38;5;28;43;01mTrue\u001b[39;49;00m\u001b[43m,\u001b[49m\u001b[43m \u001b[49m\u001b[43mtimeout\u001b[49m\u001b[38;5;241;43m=\u001b[39;49m\u001b[43mtimeout\u001b[49m\u001b[43m,\u001b[49m\u001b[43m \u001b[49m\u001b[43mproxies\u001b[49m\u001b[38;5;241;43m=\u001b[39;49m\u001b[43mproxies\u001b[49m\u001b[43m)\u001b[49m\n\u001b[0;32m    229\u001b[0m \u001b[38;5;28;01mif\u001b[39;00m r\u001b[38;5;241m.\u001b[39mstatus_code \u001b[38;5;241m!=\u001b[39m \u001b[38;5;241m200\u001b[39m:\n\u001b[0;32m    230\u001b[0m     \u001b[38;5;28mprint\u001b[39m(\u001b[38;5;124m\"\u001b[39m\u001b[38;5;124mAn error occurred while downloading.\u001b[39m\u001b[38;5;124m\"\u001b[39m)\n",
      "File \u001b[1;32m~\\miniconda3\\Lib\\site-packages\\requests\\api.py:73\u001b[0m, in \u001b[0;36mget\u001b[1;34m(url, params, **kwargs)\u001b[0m\n\u001b[0;32m     62\u001b[0m \u001b[38;5;28;01mdef\u001b[39;00m \u001b[38;5;21mget\u001b[39m(url, params\u001b[38;5;241m=\u001b[39m\u001b[38;5;28;01mNone\u001b[39;00m, \u001b[38;5;241m*\u001b[39m\u001b[38;5;241m*\u001b[39mkwargs):\n\u001b[0;32m     63\u001b[0m \u001b[38;5;250m    \u001b[39m\u001b[38;5;124mr\u001b[39m\u001b[38;5;124;03m\"\"\"Sends a GET request.\u001b[39;00m\n\u001b[0;32m     64\u001b[0m \n\u001b[0;32m     65\u001b[0m \u001b[38;5;124;03m    :param url: URL for the new :class:`Request` object.\u001b[39;00m\n\u001b[1;32m   (...)\u001b[0m\n\u001b[0;32m     70\u001b[0m \u001b[38;5;124;03m    :rtype: requests.Response\u001b[39;00m\n\u001b[0;32m     71\u001b[0m \u001b[38;5;124;03m    \"\"\"\u001b[39;00m\n\u001b[1;32m---> 73\u001b[0m     \u001b[38;5;28;01mreturn\u001b[39;00m \u001b[43mrequest\u001b[49m\u001b[43m(\u001b[49m\u001b[38;5;124;43m\"\u001b[39;49m\u001b[38;5;124;43mget\u001b[39;49m\u001b[38;5;124;43m\"\u001b[39;49m\u001b[43m,\u001b[49m\u001b[43m \u001b[49m\u001b[43murl\u001b[49m\u001b[43m,\u001b[49m\u001b[43m \u001b[49m\u001b[43mparams\u001b[49m\u001b[38;5;241;43m=\u001b[39;49m\u001b[43mparams\u001b[49m\u001b[43m,\u001b[49m\u001b[43m \u001b[49m\u001b[38;5;241;43m*\u001b[39;49m\u001b[38;5;241;43m*\u001b[39;49m\u001b[43mkwargs\u001b[49m\u001b[43m)\u001b[49m\n",
      "File \u001b[1;32m~\\miniconda3\\Lib\\site-packages\\requests\\api.py:59\u001b[0m, in \u001b[0;36mrequest\u001b[1;34m(method, url, **kwargs)\u001b[0m\n\u001b[0;32m     55\u001b[0m \u001b[38;5;66;03m# By using the 'with' statement we are sure the session is closed, thus we\u001b[39;00m\n\u001b[0;32m     56\u001b[0m \u001b[38;5;66;03m# avoid leaving sockets open which can trigger a ResourceWarning in some\u001b[39;00m\n\u001b[0;32m     57\u001b[0m \u001b[38;5;66;03m# cases, and look like a memory leak in others.\u001b[39;00m\n\u001b[0;32m     58\u001b[0m \u001b[38;5;28;01mwith\u001b[39;00m sessions\u001b[38;5;241m.\u001b[39mSession() \u001b[38;5;28;01mas\u001b[39;00m session:\n\u001b[1;32m---> 59\u001b[0m     \u001b[38;5;28;01mreturn\u001b[39;00m \u001b[43msession\u001b[49m\u001b[38;5;241;43m.\u001b[39;49m\u001b[43mrequest\u001b[49m\u001b[43m(\u001b[49m\u001b[43mmethod\u001b[49m\u001b[38;5;241;43m=\u001b[39;49m\u001b[43mmethod\u001b[49m\u001b[43m,\u001b[49m\u001b[43m \u001b[49m\u001b[43murl\u001b[49m\u001b[38;5;241;43m=\u001b[39;49m\u001b[43murl\u001b[49m\u001b[43m,\u001b[49m\u001b[43m \u001b[49m\u001b[38;5;241;43m*\u001b[39;49m\u001b[38;5;241;43m*\u001b[39;49m\u001b[43mkwargs\u001b[49m\u001b[43m)\u001b[49m\n",
      "File \u001b[1;32m~\\miniconda3\\Lib\\site-packages\\requests\\sessions.py:579\u001b[0m, in \u001b[0;36mSession.request\u001b[1;34m(self, method, url, params, data, headers, cookies, files, auth, timeout, allow_redirects, proxies, hooks, stream, verify, cert, json)\u001b[0m\n\u001b[0;32m    575\u001b[0m prep \u001b[38;5;241m=\u001b[39m \u001b[38;5;28mself\u001b[39m\u001b[38;5;241m.\u001b[39mprepare_request(req)\n\u001b[0;32m    577\u001b[0m proxies \u001b[38;5;241m=\u001b[39m proxies \u001b[38;5;129;01mor\u001b[39;00m {}\n\u001b[1;32m--> 579\u001b[0m settings \u001b[38;5;241m=\u001b[39m \u001b[38;5;28;43mself\u001b[39;49m\u001b[38;5;241;43m.\u001b[39;49m\u001b[43mmerge_environment_settings\u001b[49m\u001b[43m(\u001b[49m\n\u001b[0;32m    580\u001b[0m \u001b[43m    \u001b[49m\u001b[43mprep\u001b[49m\u001b[38;5;241;43m.\u001b[39;49m\u001b[43murl\u001b[49m\u001b[43m,\u001b[49m\u001b[43m \u001b[49m\u001b[43mproxies\u001b[49m\u001b[43m,\u001b[49m\u001b[43m \u001b[49m\u001b[43mstream\u001b[49m\u001b[43m,\u001b[49m\u001b[43m \u001b[49m\u001b[43mverify\u001b[49m\u001b[43m,\u001b[49m\u001b[43m \u001b[49m\u001b[43mcert\u001b[49m\n\u001b[0;32m    581\u001b[0m \u001b[43m\u001b[49m\u001b[43m)\u001b[49m\n\u001b[0;32m    583\u001b[0m \u001b[38;5;66;03m# Send the request.\u001b[39;00m\n\u001b[0;32m    584\u001b[0m send_kwargs \u001b[38;5;241m=\u001b[39m {\n\u001b[0;32m    585\u001b[0m     \u001b[38;5;124m\"\u001b[39m\u001b[38;5;124mtimeout\u001b[39m\u001b[38;5;124m\"\u001b[39m: timeout,\n\u001b[0;32m    586\u001b[0m     \u001b[38;5;124m\"\u001b[39m\u001b[38;5;124mallow_redirects\u001b[39m\u001b[38;5;124m\"\u001b[39m: allow_redirects,\n\u001b[0;32m    587\u001b[0m }\n",
      "File \u001b[1;32m~\\miniconda3\\Lib\\site-packages\\requests\\sessions.py:761\u001b[0m, in \u001b[0;36mSession.merge_environment_settings\u001b[1;34m(self, url, proxies, stream, verify, cert)\u001b[0m\n\u001b[0;32m    758\u001b[0m \u001b[38;5;28;01mif\u001b[39;00m \u001b[38;5;28mself\u001b[39m\u001b[38;5;241m.\u001b[39mtrust_env:\n\u001b[0;32m    759\u001b[0m     \u001b[38;5;66;03m# Set environment's proxies.\u001b[39;00m\n\u001b[0;32m    760\u001b[0m     no_proxy \u001b[38;5;241m=\u001b[39m proxies\u001b[38;5;241m.\u001b[39mget(\u001b[38;5;124m\"\u001b[39m\u001b[38;5;124mno_proxy\u001b[39m\u001b[38;5;124m\"\u001b[39m) \u001b[38;5;28;01mif\u001b[39;00m proxies \u001b[38;5;129;01mis\u001b[39;00m \u001b[38;5;129;01mnot\u001b[39;00m \u001b[38;5;28;01mNone\u001b[39;00m \u001b[38;5;28;01melse\u001b[39;00m \u001b[38;5;28;01mNone\u001b[39;00m\n\u001b[1;32m--> 761\u001b[0m     env_proxies \u001b[38;5;241m=\u001b[39m \u001b[43mget_environ_proxies\u001b[49m\u001b[43m(\u001b[49m\u001b[43murl\u001b[49m\u001b[43m,\u001b[49m\u001b[43m \u001b[49m\u001b[43mno_proxy\u001b[49m\u001b[38;5;241;43m=\u001b[39;49m\u001b[43mno_proxy\u001b[49m\u001b[43m)\u001b[49m\n\u001b[0;32m    762\u001b[0m     \u001b[38;5;28;01mfor\u001b[39;00m (k, v) \u001b[38;5;129;01min\u001b[39;00m env_proxies\u001b[38;5;241m.\u001b[39mitems():\n\u001b[0;32m    763\u001b[0m         proxies\u001b[38;5;241m.\u001b[39msetdefault(k, v)\n",
      "File \u001b[1;32m~\\miniconda3\\Lib\\site-packages\\requests\\utils.py:830\u001b[0m, in \u001b[0;36mget_environ_proxies\u001b[1;34m(url, no_proxy)\u001b[0m\n\u001b[0;32m    824\u001b[0m \u001b[38;5;28;01mdef\u001b[39;00m \u001b[38;5;21mget_environ_proxies\u001b[39m(url, no_proxy\u001b[38;5;241m=\u001b[39m\u001b[38;5;28;01mNone\u001b[39;00m):\n\u001b[0;32m    825\u001b[0m \u001b[38;5;250m    \u001b[39m\u001b[38;5;124;03m\"\"\"\u001b[39;00m\n\u001b[0;32m    826\u001b[0m \u001b[38;5;124;03m    Return a dict of environment proxies.\u001b[39;00m\n\u001b[0;32m    827\u001b[0m \n\u001b[0;32m    828\u001b[0m \u001b[38;5;124;03m    :rtype: dict\u001b[39;00m\n\u001b[0;32m    829\u001b[0m \u001b[38;5;124;03m    \"\"\"\u001b[39;00m\n\u001b[1;32m--> 830\u001b[0m     \u001b[38;5;28;01mif\u001b[39;00m \u001b[43mshould_bypass_proxies\u001b[49m\u001b[43m(\u001b[49m\u001b[43murl\u001b[49m\u001b[43m,\u001b[49m\u001b[43m \u001b[49m\u001b[43mno_proxy\u001b[49m\u001b[38;5;241;43m=\u001b[39;49m\u001b[43mno_proxy\u001b[49m\u001b[43m)\u001b[49m:\n\u001b[0;32m    831\u001b[0m         \u001b[38;5;28;01mreturn\u001b[39;00m {}\n\u001b[0;32m    832\u001b[0m     \u001b[38;5;28;01melse\u001b[39;00m:\n",
      "File \u001b[1;32m~\\miniconda3\\Lib\\site-packages\\requests\\utils.py:814\u001b[0m, in \u001b[0;36mshould_bypass_proxies\u001b[1;34m(url, no_proxy)\u001b[0m\n\u001b[0;32m    811\u001b[0m \u001b[38;5;28;01mwith\u001b[39;00m set_environ(\u001b[38;5;124m\"\u001b[39m\u001b[38;5;124mno_proxy\u001b[39m\u001b[38;5;124m\"\u001b[39m, no_proxy_arg):\n\u001b[0;32m    812\u001b[0m     \u001b[38;5;66;03m# parsed.hostname can be `None` in cases such as a file URI.\u001b[39;00m\n\u001b[0;32m    813\u001b[0m     \u001b[38;5;28;01mtry\u001b[39;00m:\n\u001b[1;32m--> 814\u001b[0m         bypass \u001b[38;5;241m=\u001b[39m \u001b[43mproxy_bypass\u001b[49m\u001b[43m(\u001b[49m\u001b[43mparsed\u001b[49m\u001b[38;5;241;43m.\u001b[39;49m\u001b[43mhostname\u001b[49m\u001b[43m)\u001b[49m\n\u001b[0;32m    815\u001b[0m     \u001b[38;5;28;01mexcept\u001b[39;00m (\u001b[38;5;167;01mTypeError\u001b[39;00m, socket\u001b[38;5;241m.\u001b[39mgaierror):\n\u001b[0;32m    816\u001b[0m         bypass \u001b[38;5;241m=\u001b[39m \u001b[38;5;28;01mFalse\u001b[39;00m\n",
      "File \u001b[1;32m~\\miniconda3\\Lib\\site-packages\\requests\\utils.py:121\u001b[0m, in \u001b[0;36mproxy_bypass\u001b[1;34m(host)\u001b[0m\n\u001b[0;32m    119\u001b[0m     \u001b[38;5;28;01mreturn\u001b[39;00m proxy_bypass_environment(host)\n\u001b[0;32m    120\u001b[0m \u001b[38;5;28;01melse\u001b[39;00m:\n\u001b[1;32m--> 121\u001b[0m     \u001b[38;5;28;01mreturn\u001b[39;00m \u001b[43mproxy_bypass_registry\u001b[49m\u001b[43m(\u001b[49m\u001b[43mhost\u001b[49m\u001b[43m)\u001b[49m\n",
      "File \u001b[1;32m~\\miniconda3\\Lib\\site-packages\\requests\\utils.py:83\u001b[0m, in \u001b[0;36mproxy_bypass_registry\u001b[1;34m(host)\u001b[0m\n\u001b[0;32m     80\u001b[0m     \u001b[38;5;28;01mreturn\u001b[39;00m \u001b[38;5;28;01mFalse\u001b[39;00m\n\u001b[0;32m     82\u001b[0m \u001b[38;5;28;01mtry\u001b[39;00m:\n\u001b[1;32m---> 83\u001b[0m     internetSettings \u001b[38;5;241m=\u001b[39m winreg\u001b[38;5;241m.\u001b[39mOpenKey(\n\u001b[0;32m     84\u001b[0m         winreg\u001b[38;5;241m.\u001b[39mHKEY_CURRENT_USER,\n\u001b[0;32m     85\u001b[0m         \u001b[38;5;124mr\u001b[39m\u001b[38;5;124m\"\u001b[39m\u001b[38;5;124mSoftware\u001b[39m\u001b[38;5;124m\\\u001b[39m\u001b[38;5;124mMicrosoft\u001b[39m\u001b[38;5;124m\\\u001b[39m\u001b[38;5;124mWindows\u001b[39m\u001b[38;5;124m\\\u001b[39m\u001b[38;5;124mCurrentVersion\u001b[39m\u001b[38;5;124m\\\u001b[39m\u001b[38;5;124mInternet Settings\u001b[39m\u001b[38;5;124m\"\u001b[39m,\n\u001b[0;32m     86\u001b[0m     )\n\u001b[0;32m     87\u001b[0m     \u001b[38;5;66;03m# ProxyEnable could be REG_SZ or REG_DWORD, normalizing it\u001b[39;00m\n\u001b[0;32m     88\u001b[0m     proxyEnable \u001b[38;5;241m=\u001b[39m \u001b[38;5;28mint\u001b[39m(winreg\u001b[38;5;241m.\u001b[39mQueryValueEx(internetSettings, \u001b[38;5;124m\"\u001b[39m\u001b[38;5;124mProxyEnable\u001b[39m\u001b[38;5;124m\"\u001b[39m)[\u001b[38;5;241m0\u001b[39m])\n",
      "\u001b[1;31mKeyboardInterrupt\u001b[0m: "
     ]
    }
   ],
   "source": [
    "piura_shp = ee.FeatureCollection('projects/envr451-2024/assets/piura').geometry()\n",
    "basemap = ee.ImageCollection('projects/planet-nicfi/assets/basemaps/americas').filter(ee.Filter.date('2015-01-01', '2024-02-01')) \\\n",
    "            .map(lambda image: image.clip(piura_shp))\n",
    "\n",
    "basemap_2020_2024 = basemap.filter(ee.Filter.date('2021-01-01', '2024-02-01'))\n",
    "basemap_2020_2024\n",
    "\n",
    "# Define the years for which you want to calculate geometric medians.\n",
    "years = ee.List.sequence(2021, 2024)\n",
    "\n",
    "# Function to calculate geometric median for each year.\n",
    "def calculate_median(year):\n",
    "    start_date = ee.Date.fromYMD(year, 1, 1)\n",
    "    end_date = ee.Date.fromYMD(year, 12, 31)\n",
    "    yearly_collection = basemap_2020_2024.filterDate(start_date, end_date)\n",
    "    median = yearly_collection.reduce(ee.Reducer.median())\n",
    "    return median.set('year', year)\n",
    "\n",
    "# Map over the list of years and calculate geometric medians.\n",
    "yearly_medians = ee.ImageCollection(years.map(calculate_median))\n",
    "\n",
    "# Visualization parameters\n",
    "vis_basemap = {'bands': ['R_median', 'G_median', 'B_median'], 'min': 64, 'max': 5454, 'gamma': 1.8}\n",
    "\n",
    "geemap.ee_export_image_collection(basemap_2020_2024, out_dir=out_dir)\n",
    "\n",
    "\n",
    "# image = yearly_medians.first()\n",
    "# export_params = {\n",
    "#     'image': image.visualize({'bands': ['R_median', 'G_median', 'B_median'], 'min': 64, 'max': 5454, 'gamma': 1.8}),\n",
    "#     'description': 'Yearly_median_',\n",
    "#     'scale': 5\n",
    "# }\n",
    "# # Export the image\n",
    "# ee.batch.Export.image.toDrive(**export_params).start()\n",
    "\n",
    "# Map over the list of years and calculate and export geometric medians.\n",
    "# Map = geemap.Map()\n",
    "# Map.addLayer(yearly_medians.first(), vis_basemap, 'last_image')\n",
    "# Map"
   ]
  },
  {
   "cell_type": "code",
   "execution_count": 189,
   "id": "ea24c497-a259-4940-877c-460faee2fef3",
   "metadata": {},
   "outputs": [
    {
     "data": {
      "text/html": [
       "\n",
       "            <style>\n",
       "                .geemap-dark {\n",
       "                    --jp-widgets-color: white;\n",
       "                    --jp-widgets-label-color: white;\n",
       "                    --jp-ui-font-color1: white;\n",
       "                    --jp-layout-color2: #454545;\n",
       "                    background-color: #383838;\n",
       "                }\n",
       "                    \n",
       "                .geemap-dark .jupyter-button {\n",
       "                    --jp-layout-color3: #383838;\n",
       "                }\n",
       "                \n",
       "                .geemap-colab {\n",
       "                    background-color: var(--colab-primary-surface-color, white);\n",
       "                }\n",
       "                    \n",
       "                .geemap-colab .jupyter-button {\n",
       "                    --jp-layout-color3: var(--colab-primary-surface-color, white);\n",
       "                }\n",
       "            </style>\n",
       "            "
      ],
      "text/plain": [
       "<IPython.core.display.HTML object>"
      ]
     },
     "metadata": {},
     "output_type": "display_data"
    }
   ],
   "source": [
    "\n",
    "biannual_piura = basemap.filter(ee.Filter.Or(\n",
    "    ee.Filter.stringContains('system:index', '-06_'),\n",
    "    ee.Filter.stringContains('system:index', '-12_')\n",
    "))\n",
    "\n",
    "last_image = basemap.filter(ee.Filter.date('2024-01-01', '2024-02-01'))\n",
    "\n",
    "\n",
    "\n",
    "# grid = geemap.latlon_grid(\n",
    "#     lat_step=0.1, lon_step=0.1, west=-180, east=180, south=-85, north=85\n",
    "# )\n",
    "\n"
   ]
  },
  {
   "cell_type": "code",
   "execution_count": 168,
   "id": "eea29713-6b69-48f0-88d2-d5f2d4bb3560",
   "metadata": {},
   "outputs": [
    {
     "data": {
      "text/html": [
       "\n",
       "            <style>\n",
       "                .geemap-dark {\n",
       "                    --jp-widgets-color: white;\n",
       "                    --jp-widgets-label-color: white;\n",
       "                    --jp-ui-font-color1: white;\n",
       "                    --jp-layout-color2: #454545;\n",
       "                    background-color: #383838;\n",
       "                }\n",
       "                    \n",
       "                .geemap-dark .jupyter-button {\n",
       "                    --jp-layout-color3: #383838;\n",
       "                }\n",
       "                \n",
       "                .geemap-colab {\n",
       "                    background-color: var(--colab-primary-surface-color, white);\n",
       "                }\n",
       "                    \n",
       "                .geemap-colab .jupyter-button {\n",
       "                    --jp-layout-color3: var(--colab-primary-surface-color, white);\n",
       "                }\n",
       "            </style>\n",
       "            "
      ],
      "text/plain": [
       "<IPython.core.display.HTML object>"
      ]
     },
     "metadata": {},
     "output_type": "display_data"
    },
    {
     "name": "stdout",
     "output_type": "stream",
     "text": [
      "Total number of images: 1\n",
      "\n",
      "Exporting 1/1: C:\\Users\\anaca\\Downloads\\planet_medres_normalized_analytic_2024-01_mosaic.tif\n",
      "Generating URL ...\n",
      "Downloading data from https://earthengine.googleapis.com/v1/projects/envr451-2024/thumbnails/16b9e683147d93550243260a25d86407-7ff26bb55947092b93a178697d011219:getPixels\n",
      "Please wait ...\n",
      "Data downloaded to C:\\Users\\anaca\\Downloads\\planet_medres_normalized_analytic_2024-01_mosaic.tif\n",
      "\n",
      "\n"
     ]
    }
   ],
   "source": [
    "# Define visualization parameters.\n",
    "vis_basemap = {'bands': ['R', 'G', 'B'], 'min': 64, 'max': 5454, 'gamma': 1.8}\n",
    "\n",
    "# Add layers to the map.\n",
    "Map = geemap.Map()\n",
    "Map.centerObject(piura_shp, 12)\n",
    "\n",
    "# Compute and add the NDVI layer.\n",
    "# ndvi = biannual_piura.first()\n",
    "ndvi = biannual_piura.map(lambda image: image.normalizedDifference(['N', 'R']))\n",
    "vis_ndvi = {'min': -0.55, 'max': 0.8, 'palette': ['8bc4f9', 'c9995c', 'c7d270', '8add60', '097210']}\n",
    "# Map.addLayer(ndvi.first(), vis_ndvi, 'NDVI')\n",
    "Map.addLayer(last_image, vis_basemap, 'last_image')\n",
    "Map\n",
    "\n",
    "# out_dir = os.path.join(os.path.expanduser(\"~\"), \"Downloads\")\n",
    "geemap.ee_export_image_collection(last_image, out_dir=out_dir)\n",
    "# geemap.ee_export_image_collection(forest_2007_2017, out_dir=out_dir)"
   ]
  },
  {
   "cell_type": "code",
   "execution_count": 144,
   "id": "a2d2a605-669a-4f8e-ae7a-fe51c6805fde",
   "metadata": {},
   "outputs": [
    {
     "data": {
      "text/html": [
       "\n",
       "            <style>\n",
       "                .geemap-dark {\n",
       "                    --jp-widgets-color: white;\n",
       "                    --jp-widgets-label-color: white;\n",
       "                    --jp-ui-font-color1: white;\n",
       "                    --jp-layout-color2: #454545;\n",
       "                    background-color: #383838;\n",
       "                }\n",
       "                    \n",
       "                .geemap-dark .jupyter-button {\n",
       "                    --jp-layout-color3: #383838;\n",
       "                }\n",
       "                \n",
       "                .geemap-colab {\n",
       "                    background-color: var(--colab-primary-surface-color, white);\n",
       "                }\n",
       "                    \n",
       "                .geemap-colab .jupyter-button {\n",
       "                    --jp-layout-color3: var(--colab-primary-surface-color, white);\n",
       "                }\n",
       "            </style>\n",
       "            "
      ],
      "text/plain": [
       "<IPython.core.display.HTML object>"
      ]
     },
     "metadata": {},
     "output_type": "display_data"
    }
   ],
   "source": [
    "video_args_basemap = {\n",
    "  'dimensions': 768,\n",
    "  'region': piura_shp.geometry(),\n",
    "  'framesPerSecond': 2,\n",
    "  'crs': 'EPSG:3857',\n",
    "    'bands': ['R', 'G', 'B'],\n",
    "    'min': 64, 'max': 5454,\n",
    "    'gamma': 1.8\n",
    "}\n",
    "\n",
    "# Get URL that will produce the animation when accessed.\n",
    "gif_url = biannual_piura.getVideoThumbURL(video_args_basemap)"
   ]
  },
  {
   "cell_type": "markdown",
   "id": "65c9a4b5-7035-4cc5-99f6-44f6991dc2c9",
   "metadata": {},
   "source": [
    "\n",
    "# JAXA forest non forest\n",
    "https://developers.google.com/earth-engine/datasets/catalog/JAXA_ALOS_PALSAR_YEARLY_FNF\n",
    "https://developers.google.com/earth-engine/datasets/catalog/JAXA_ALOS_PALSAR_YEARLY_FNF\n"
   ]
  },
  {
   "cell_type": "code",
   "execution_count": 181,
   "id": "175142a7-ca93-400c-b552-042ffd7704b4",
   "metadata": {},
   "outputs": [
    {
     "data": {
      "text/html": [
       "\n",
       "            <style>\n",
       "                .geemap-dark {\n",
       "                    --jp-widgets-color: white;\n",
       "                    --jp-widgets-label-color: white;\n",
       "                    --jp-ui-font-color1: white;\n",
       "                    --jp-layout-color2: #454545;\n",
       "                    background-color: #383838;\n",
       "                }\n",
       "                    \n",
       "                .geemap-dark .jupyter-button {\n",
       "                    --jp-layout-color3: #383838;\n",
       "                }\n",
       "                \n",
       "                .geemap-colab {\n",
       "                    background-color: var(--colab-primary-surface-color, white);\n",
       "                }\n",
       "                    \n",
       "                .geemap-colab .jupyter-button {\n",
       "                    --jp-layout-color3: var(--colab-primary-surface-color, white);\n",
       "                }\n",
       "            </style>\n",
       "            "
      ],
      "text/plain": [
       "<IPython.core.display.HTML object>"
      ]
     },
     "metadata": {},
     "output_type": "display_data"
    },
    {
     "data": {
      "text/html": [
       "<div><style>:root {\n",
       "  --font-color-primary: var(--jp-content-font-color0, rgba(0, 0, 0, 1));\n",
       "  --font-color-secondary: var(--jp-content-font-color2, rgba(0, 0, 0, 0.6));\n",
       "  --font-color-accent: rgba(123, 31, 162, 1);\n",
       "  --border-color: var(--jp-border-color2, #e0e0e0);\n",
       "  --background-color: var(--jp-layout-color0, white);\n",
       "  --background-color-row-even: var(--jp-layout-color1, white);\n",
       "  --background-color-row-odd: var(--jp-layout-color2, #eeeeee);\n",
       "}\n",
       "\n",
       "html[theme=\"dark\"],\n",
       "body[data-theme=\"dark\"],\n",
       "body.vscode-dark {\n",
       "  --font-color-primary: rgba(255, 255, 255, 1);\n",
       "  --font-color-secondary: rgba(255, 255, 255, 0.6);\n",
       "  --font-color-accent: rgb(173, 132, 190);\n",
       "  --border-color: #2e2e2e;\n",
       "  --background-color: #111111;\n",
       "  --background-color-row-even: #111111;\n",
       "  --background-color-row-odd: #313131;\n",
       "}\n",
       "\n",
       ".ee {\n",
       "  padding: 1em;\n",
       "  line-height: 1.5em;\n",
       "  min-width: 300px;\n",
       "  max-width: 1200px;\n",
       "  overflow-y: scroll;\n",
       "  max-height: 600px;\n",
       "  border: 1px solid var(--border-color);\n",
       "  font-family: monospace;\n",
       "}\n",
       "\n",
       ".ee li {\n",
       "  list-style-type: none;\n",
       "}\n",
       "\n",
       ".ee ul {\n",
       "  padding-left: 1.5em !important;\n",
       "  margin: 0;\n",
       "}\n",
       "\n",
       ".ee > ul {\n",
       "  padding-left: 0 !important;\n",
       "}\n",
       "\n",
       ".ee-open,\n",
       ".ee-shut {\n",
       "  color: var(--font-color-secondary);\n",
       "  cursor: pointer;\n",
       "  margin: 0;\n",
       "}\n",
       "\n",
       ".ee-open:hover,\n",
       ".ee-shut:hover {\n",
       "  color: var(--font-color-primary);\n",
       "}\n",
       "\n",
       ".ee-k {\n",
       "  color: var(--font-color-accent);\n",
       "  margin-right: 6px;\n",
       "}\n",
       "\n",
       ".ee-v {\n",
       "  color: var(--font-color-primary);\n",
       "}\n",
       "\n",
       ".ee-toggle {\n",
       "  display: none;\n",
       "}\n",
       "\n",
       ".ee-shut + ul {\n",
       "  display: none;\n",
       "}\n",
       "\n",
       ".ee-open + ul {\n",
       "  display: block;\n",
       "}\n",
       "\n",
       ".ee-shut::before {\n",
       "  display: inline-block;\n",
       "  content: \"▼\";\n",
       "  margin-right: 6px;\n",
       "  transform: rotate(-90deg);\n",
       "  transition: transform 0.2s;\n",
       "}\n",
       "\n",
       ".ee-open::before {\n",
       "  transform: rotate(0deg);\n",
       "  display: inline-block;\n",
       "  content: \"▼\";\n",
       "  margin-right: 6px;\n",
       "  transition: transform 0.2s;\n",
       "}\n",
       "</style><div class='ee'><ul><li><label class='ee-shut'>Image JAXA/ALOS/PALSAR/YEARLY/FNF4/2017 (1 band)<input type='checkbox' class='ee-toggle'></label><ul><li><span class='ee-k'>type:</span><span class='ee-v'>Image</span></li><li><span class='ee-k'>id:</span><span class='ee-v'>JAXA/ALOS/PALSAR/YEARLY/FNF4/2017</span></li><li><span class='ee-k'>version:</span><span class='ee-v'>1705922759219578</span></li><li><label class='ee-shut'>bands: List (1 element)<input type='checkbox' class='ee-toggle'></label><ul><li><label class='ee-shut'>0: \"fnf\", unsigned int8, EPSG:4326, 291x262 px<input type='checkbox' class='ee-toggle'></label><ul><li><span class='ee-k'>id:</span><span class='ee-v'>fnf</span></li><li><span class='ee-k'>crs:</span><span class='ee-v'>EPSG:4326</span></li><li><label class='ee-shut'>crs_transform: List (6 elements)<input type='checkbox' class='ee-toggle'></label><ul><li><span class='ee-k'>0:</span><span class='ee-v'>0.00022222222222222223</span></li><li><span class='ee-k'>1:</span><span class='ee-v'>0</span></li><li><span class='ee-k'>2:</span><span class='ee-v'>-180</span></li><li><span class='ee-k'>3:</span><span class='ee-v'>0</span></li><li><span class='ee-k'>4:</span><span class='ee-v'>-0.00022222222222222223</span></li><li><span class='ee-k'>5:</span><span class='ee-v'>84</span></li></ul></li><li><label class='ee-shut'>data_type: unsigned int8<input type='checkbox' class='ee-toggle'></label><ul><li><span class='ee-k'>type:</span><span class='ee-v'>PixelType</span></li><li><span class='ee-k'>max:</span><span class='ee-v'>255</span></li><li><span class='ee-k'>min:</span><span class='ee-v'>0</span></li><li><span class='ee-k'>precision:</span><span class='ee-v'>int</span></li></ul></li><li><label class='ee-shut'>dimensions: [291, 262]<input type='checkbox' class='ee-toggle'></label><ul><li><span class='ee-k'>0:</span><span class='ee-v'>291</span></li><li><span class='ee-k'>1:</span><span class='ee-v'>262</span></li></ul></li><li><label class='ee-shut'>origin: [445318, 339548]<input type='checkbox' class='ee-toggle'></label><ul><li><span class='ee-k'>0:</span><span class='ee-v'>445318</span></li><li><span class='ee-k'>1:</span><span class='ee-v'>339548</span></li></ul></li></ul></li></ul></li><li><label class='ee-shut'>properties: Object (9 properties)<input type='checkbox' class='ee-toggle'></label><ul><li><span class='ee-k'>version:</span><span class='ee-v'>2.0.0a</span></li><li><label class='ee-shut'>fnf_class_names: List (4 elements)<input type='checkbox' class='ee-toggle'></label><ul><li><span class='ee-k'>0:</span><span class='ee-v'>Dense forest</span></li><li><span class='ee-k'>1:</span><span class='ee-v'>Non-dense Forest</span></li><li><span class='ee-k'>2:</span><span class='ee-v'>Non-Forest</span></li><li><span class='ee-k'>3:</span><span class='ee-v'>Water</span></li></ul></li><li><label class='ee-shut'>fnf_class_palette: ['00b200', '83ef62', 'ffff99', '0000ff']<input type='checkbox' class='ee-toggle'></label><ul><li><span class='ee-k'>0:</span><span class='ee-v'>00b200</span></li><li><span class='ee-k'>1:</span><span class='ee-v'>83ef62</span></li><li><span class='ee-k'>2:</span><span class='ee-v'>ffff99</span></li><li><span class='ee-k'>3:</span><span class='ee-v'>0000ff</span></li></ul></li><li><label class='ee-shut'>fnf_class_values: [1, 2, 3, 4]<input type='checkbox' class='ee-toggle'></label><ul><li><span class='ee-k'>0:</span><span class='ee-v'>1</span></li><li><span class='ee-k'>1:</span><span class='ee-v'>2</span></li><li><span class='ee-k'>2:</span><span class='ee-v'>3</span></li><li><span class='ee-k'>3:</span><span class='ee-v'>4</span></li></ul></li><li><span class='ee-k'>system:asset_size:</span><span class='ee-v'>22435862945</span></li><li><label class='ee-shut'>system:footprint: Polygon (25 vertices)<input type='checkbox' class='ee-toggle'></label><ul><li><span class='ee-k'>type:</span><span class='ee-v'>Polygon</span></li><li><label class='ee-shut'>coordinates: List (1 element)<input type='checkbox' class='ee-toggle'></label><ul><li><label class='ee-shut'>0: List (25 elements)<input type='checkbox' class='ee-toggle'></label><ul><li><label class='ee-shut'>0: [-81.04040705040136, 8.51956291969428]<input type='checkbox' class='ee-toggle'></label><ul><li><span class='ee-k'>0:</span><span class='ee-v'>-81.04040705040136</span></li><li><span class='ee-k'>1:</span><span class='ee-v'>8.51956291969428</span></li></ul></li><li><label class='ee-shut'>1: [-81.03986756180058, 8.513507437337905]<input type='checkbox' class='ee-toggle'></label><ul><li><span class='ee-k'>0:</span><span class='ee-v'>-81.03986756180058</span></li><li><span class='ee-k'>1:</span><span class='ee-v'>8.513507437337905</span></li></ul></li><li><label class='ee-shut'>2: [-81.03330822030645, 8.505003982661146]<input type='checkbox' class='ee-toggle'></label><ul><li><span class='ee-k'>0:</span><span class='ee-v'>-81.03330822030645</span></li><li><span class='ee-k'>1:</span><span class='ee-v'>8.505003982661146</span></li></ul></li><li><label class='ee-shut'>3: [-81.02880002549489, 8.489945562270556]<input type='checkbox' class='ee-toggle'></label><ul><li><span class='ee-k'>0:</span><span class='ee-v'>-81.02880002549489</span></li><li><span class='ee-k'>1:</span><span class='ee-v'>8.489945562270556</span></li></ul></li><li><label class='ee-shut'>4: [-81.02205789675563, 8.487916717614238]<input type='checkbox' class='ee-toggle'></label><ul><li><span class='ee-k'>0:</span><span class='ee-v'>-81.02205789675563</span></li><li><span class='ee-k'>1:</span><span class='ee-v'>8.487916717614238</span></li></ul></li><li><label class='ee-shut'>5: [-81.01585973626474, 8.486891135890106]<input type='checkbox' class='ee-toggle'></label><ul><li><span class='ee-k'>0:</span><span class='ee-v'>-81.01585973626474</span></li><li><span class='ee-k'>1:</span><span class='ee-v'>8.486891135890106</span></li></ul></li><li><label class='ee-shut'>6: [-81.01324224422623, 8.486886659364755]<input type='checkbox' class='ee-toggle'></label><ul><li><span class='ee-k'>0:</span><span class='ee-v'>-81.01324224422623</span></li><li><span class='ee-k'>1:</span><span class='ee-v'>8.486886659364755</span></li></ul></li><li><label class='ee-shut'>7: [-80.99740353678646, 8.488433965416835]<input type='checkbox' class='ee-toggle'></label><ul><li><span class='ee-k'>0:</span><span class='ee-v'>-80.99740353678646</span></li><li><span class='ee-k'>1:</span><span class='ee-v'>8.488433965416835</span></li></ul></li><li><label class='ee-shut'>8: [-80.97598642201157, 8.502038679679663]<input type='checkbox' class='ee-toggle'></label><ul><li><span class='ee-k'>0:</span><span class='ee-v'>-80.97598642201157</span></li><li><span class='ee-k'>1:</span><span class='ee-v'>8.502038679679663</span></li></ul></li><li><label class='ee-shut'>9: [-80.97731527477903, 8.504718598010411]<input type='checkbox' class='ee-toggle'></label><ul><li><span class='ee-k'>0:</span><span class='ee-v'>-80.97731527477903</span></li><li><span class='ee-k'>1:</span><span class='ee-v'>8.504718598010411</span></li></ul></li><li><label class='ee-shut'>10: [-80.98001751857188, 8.507982634648096]<input type='checkbox' class='ee-toggle'></label><ul><li><span class='ee-k'>0:</span><span class='ee-v'>-80.98001751857188</span></li><li><span class='ee-k'>1:</span><span class='ee-v'>8.507982634648096</span></li></ul></li><li><label class='ee-shut'>11: [-80.98098955162035, 8.513074945786745]<input type='checkbox' class='ee-toggle'></label><ul><li><span class='ee-k'>0:</span><span class='ee-v'>-80.98098955162035</span></li><li><span class='ee-k'>1:</span><span class='ee-v'>8.513074945786745</span></li></ul></li><li><label class='ee-shut'>12: [-80.98163610550338, 8.51942469096169]<input type='checkbox' class='ee-toggle'></label><ul><li><span class='ee-k'>0:</span><span class='ee-v'>-80.98163610550338</span></li><li><span class='ee-k'>1:</span><span class='ee-v'>8.51942469096169</span></li></ul></li><li><label class='ee-shut'>13: [-80.98118129232938, 8.529961585479679]<input type='checkbox' class='ee-toggle'></label><ul><li><span class='ee-k'>0:</span><span class='ee-v'>-80.98118129232938</span></li><li><span class='ee-k'>1:</span><span class='ee-v'>8.529961585479679</span></li></ul></li><li><label class='ee-shut'>14: [-80.98195718820129, 8.53712734158279]<input type='checkbox' class='ee-toggle'></label><ul><li><span class='ee-k'>0:</span><span class='ee-v'>-80.98195718820129</span></li><li><span class='ee-k'>1:</span><span class='ee-v'>8.53712734158279</span></li></ul></li><li><label class='ee-shut'>15: [-80.98195718820129, 8.537296747298097]<input type='checkbox' class='ee-toggle'></label><ul><li><span class='ee-k'>0:</span><span class='ee-v'>-80.98195718820129</span></li><li><span class='ee-k'>1:</span><span class='ee-v'>8.537296747298097</span></li></ul></li><li><label class='ee-shut'>16: [-80.98195271935965, 8.537528654168984]<input type='checkbox' class='ee-toggle'></label><ul><li><span class='ee-k'>0:</span><span class='ee-v'>-80.98195271935965</span></li><li><span class='ee-k'>1:</span><span class='ee-v'>8.537528654168984</span></li></ul></li><li><label class='ee-shut'>17: [-80.9852301674505, 8.543156035912627]<input type='checkbox' class='ee-toggle'></label><ul><li><span class='ee-k'>0:</span><span class='ee-v'>-80.9852301674505</span></li><li><span class='ee-k'>1:</span><span class='ee-v'>8.543156035912627</span></li></ul></li><li><label class='ee-shut'>18: [-80.99611481247727, 8.544467010165729]<input type='checkbox' class='ee-toggle'></label><ul><li><span class='ee-k'>0:</span><span class='ee-v'>-80.99611481247727</span></li><li><span class='ee-k'>1:</span><span class='ee-v'>8.544467010165729</span></li></ul></li><li><label class='ee-shut'>19: [-81.01012981378848, 8.54476128179716]<input type='checkbox' class='ee-toggle'></label><ul><li><span class='ee-k'>0:</span><span class='ee-v'>-81.01012981378848</span></li><li><span class='ee-k'>1:</span><span class='ee-v'>8.54476128179716</span></li></ul></li><li><label class='ee-shut'>20: [-81.01719744207682, 8.544221719511112]<input type='checkbox' class='ee-toggle'></label><ul><li><span class='ee-k'>0:</span><span class='ee-v'>-81.01719744207682</span></li><li><span class='ee-k'>1:</span><span class='ee-v'>8.544221719511112</span></li></ul></li><li><label class='ee-shut'>21: [-81.03209533062102, 8.543298751017117]<input type='checkbox' class='ee-toggle'></label><ul><li><span class='ee-k'>0:</span><span class='ee-v'>-81.03209533062102</span></li><li><span class='ee-k'>1:</span><span class='ee-v'>8.543298751017117</span></li></ul></li><li><label class='ee-shut'>22: [-81.03808831009582, 8.54338788138222]<input type='checkbox' class='ee-toggle'></label><ul><li><span class='ee-k'>0:</span><span class='ee-v'>-81.03808831009582</span></li><li><span class='ee-k'>1:</span><span class='ee-v'>8.54338788138222</span></li></ul></li><li><label class='ee-shut'>23: [-81.03949295923087, 8.526108854990415]<input type='checkbox' class='ee-toggle'></label><ul><li><span class='ee-k'>0:</span><span class='ee-v'>-81.03949295923087</span></li><li><span class='ee-k'>1:</span><span class='ee-v'>8.526108854990415</span></li></ul></li><li><label class='ee-shut'>24: [-81.04040705040136, 8.51956291969428]<input type='checkbox' class='ee-toggle'></label><ul><li><span class='ee-k'>0:</span><span class='ee-v'>-81.04040705040136</span></li><li><span class='ee-k'>1:</span><span class='ee-v'>8.51956291969428</span></li></ul></li></ul></li></ul></li></ul></li><li><span class='ee-k'>system:index:</span><span class='ee-v'>2017</span></li><li><span class='ee-k'>system:time_end:</span><span class='ee-v'>1514764800000</span></li><li><span class='ee-k'>system:time_start:</span><span class='ee-v'>1483228800000</span></li></ul></li></ul></li></ul></div><script>function toggleHeader() {\n",
       "    const parent = this.parentElement;\n",
       "    parent.className = parent.className === \"ee-open\" ? \"ee-shut\" : \"ee-open\";\n",
       "}\n",
       "\n",
       "for (let c of document.getElementsByClassName(\"ee-toggle\")) {\n",
       "    c.onclick = toggleHeader;\n",
       "}</script></div>"
      ],
      "text/plain": [
       "<ee.image.Image at 0x229a2c6f750>"
      ]
     },
     "execution_count": 181,
     "metadata": {},
     "output_type": "execute_result"
    }
   ],
   "source": [
    "forest_2017_2020 = ee.ImageCollection('JAXA/ALOS/PALSAR/YEARLY/FNF4').filterDate('2017-01-01', '2020-12-31').map(lambda image: image.clip(piura_shp))\n",
    "forest_2007_2016 = ee.ImageCollection('JAXA/ALOS/PALSAR/YEARLY/FNF').filterDate('2007-01-01', '2016-12-31').map(lambda image: image.clip(piura_shp))\n",
    "forest_2017_2020.first()\n"
   ]
  },
  {
   "cell_type": "code",
   "execution_count": 179,
   "id": "2f8f1288-1623-4d39-80d2-5327d6df38cc",
   "metadata": {},
   "outputs": [
    {
     "data": {
      "text/html": [
       "\n",
       "            <style>\n",
       "                .geemap-dark {\n",
       "                    --jp-widgets-color: white;\n",
       "                    --jp-widgets-label-color: white;\n",
       "                    --jp-ui-font-color1: white;\n",
       "                    --jp-layout-color2: #454545;\n",
       "                    background-color: #383838;\n",
       "                }\n",
       "                    \n",
       "                .geemap-dark .jupyter-button {\n",
       "                    --jp-layout-color3: #383838;\n",
       "                }\n",
       "                \n",
       "                .geemap-colab {\n",
       "                    background-color: var(--colab-primary-surface-color, white);\n",
       "                }\n",
       "                    \n",
       "                .geemap-colab .jupyter-button {\n",
       "                    --jp-layout-color3: var(--colab-primary-surface-color, white);\n",
       "                }\n",
       "            </style>\n",
       "            "
      ],
      "text/plain": [
       "<IPython.core.display.HTML object>"
      ]
     },
     "metadata": {},
     "output_type": "display_data"
    }
   ],
   "source": [
    "\n",
    "video_args_4 = {\n",
    "  'dimensions': 768,\n",
    "  'region': piura_shp,\n",
    "  'framesPerSecond': 2,\n",
    "  'crs': 'EPSG:3857',\n",
    "    'min': 1,\n",
    "    'max': 4,\n",
    "    'palette': ['00b200', '83ef62', 'ffff99', '0000ff']\n",
    "}\n",
    "\n",
    "video_args_3 = {\n",
    "  'dimensions': 768,\n",
    "  'region': piura_shp,\n",
    "  'framesPerSecond': 2,\n",
    "  'crs': 'EPSG:3857',\n",
    "    'min': 1,\n",
    "    'max': 3,\n",
    "    'palette': ['00b200', '83ef62', 'ffff99']\n",
    "}\n",
    "\n",
    "# Get URL that will produce the animation when accessed.\n",
    "gif_url = forest_2007_2016.getVideoThumbURL(video_args_3)\n",
    "# gif_url"
   ]
  },
  {
   "cell_type": "code",
   "execution_count": 178,
   "id": "a53e7269-cc77-4900-acd7-5416bede6c85",
   "metadata": {},
   "outputs": [
    {
     "data": {
      "text/html": [
       "\n",
       "            <style>\n",
       "                .geemap-dark {\n",
       "                    --jp-widgets-color: white;\n",
       "                    --jp-widgets-label-color: white;\n",
       "                    --jp-ui-font-color1: white;\n",
       "                    --jp-layout-color2: #454545;\n",
       "                    background-color: #383838;\n",
       "                }\n",
       "                    \n",
       "                .geemap-dark .jupyter-button {\n",
       "                    --jp-layout-color3: #383838;\n",
       "                }\n",
       "                \n",
       "                .geemap-colab {\n",
       "                    background-color: var(--colab-primary-surface-color, white);\n",
       "                }\n",
       "                    \n",
       "                .geemap-colab .jupyter-button {\n",
       "                    --jp-layout-color3: var(--colab-primary-surface-color, white);\n",
       "                }\n",
       "            </style>\n",
       "            "
      ],
      "text/plain": [
       "<IPython.core.display.HTML object>"
      ]
     },
     "metadata": {},
     "output_type": "display_data"
    },
    {
     "ename": "EEException",
     "evalue": "Collection.first: Error in map(ID=2017):\nImage.visualize: Expected a string or list of strings for field 'bands'.",
     "output_type": "error",
     "traceback": [
      "\u001b[1;31m---------------------------------------------------------------------------\u001b[0m",
      "\u001b[1;31mHttpError\u001b[0m                                 Traceback (most recent call last)",
      "File \u001b[1;32m~\\miniconda3\\Lib\\site-packages\\ee\\data.py:402\u001b[0m, in \u001b[0;36m_execute_cloud_call\u001b[1;34m(call, num_retries)\u001b[0m\n\u001b[0;32m    401\u001b[0m \u001b[38;5;28;01mtry\u001b[39;00m:\n\u001b[1;32m--> 402\u001b[0m   \u001b[38;5;28;01mreturn\u001b[39;00m \u001b[43mcall\u001b[49m\u001b[38;5;241;43m.\u001b[39;49m\u001b[43mexecute\u001b[49m\u001b[43m(\u001b[49m\u001b[43mnum_retries\u001b[49m\u001b[38;5;241;43m=\u001b[39;49m\u001b[43mnum_retries\u001b[49m\u001b[43m)\u001b[49m\n\u001b[0;32m    403\u001b[0m \u001b[38;5;28;01mexcept\u001b[39;00m googleapiclient\u001b[38;5;241m.\u001b[39merrors\u001b[38;5;241m.\u001b[39mHttpError \u001b[38;5;28;01mas\u001b[39;00m e:\n",
      "File \u001b[1;32m~\\miniconda3\\Lib\\site-packages\\googleapiclient\\_helpers.py:130\u001b[0m, in \u001b[0;36mpositional.<locals>.positional_decorator.<locals>.positional_wrapper\u001b[1;34m(*args, **kwargs)\u001b[0m\n\u001b[0;32m    129\u001b[0m         logger\u001b[38;5;241m.\u001b[39mwarning(message)\n\u001b[1;32m--> 130\u001b[0m \u001b[38;5;28;01mreturn\u001b[39;00m \u001b[43mwrapped\u001b[49m\u001b[43m(\u001b[49m\u001b[38;5;241;43m*\u001b[39;49m\u001b[43margs\u001b[49m\u001b[43m,\u001b[49m\u001b[43m \u001b[49m\u001b[38;5;241;43m*\u001b[39;49m\u001b[38;5;241;43m*\u001b[39;49m\u001b[43mkwargs\u001b[49m\u001b[43m)\u001b[49m\n",
      "File \u001b[1;32m~\\miniconda3\\Lib\\site-packages\\googleapiclient\\http.py:938\u001b[0m, in \u001b[0;36mHttpRequest.execute\u001b[1;34m(self, http, num_retries)\u001b[0m\n\u001b[0;32m    937\u001b[0m \u001b[38;5;28;01mif\u001b[39;00m resp\u001b[38;5;241m.\u001b[39mstatus \u001b[38;5;241m>\u001b[39m\u001b[38;5;241m=\u001b[39m \u001b[38;5;241m300\u001b[39m:\n\u001b[1;32m--> 938\u001b[0m     \u001b[38;5;28;01mraise\u001b[39;00m HttpError(resp, content, uri\u001b[38;5;241m=\u001b[39m\u001b[38;5;28mself\u001b[39m\u001b[38;5;241m.\u001b[39muri)\n\u001b[0;32m    939\u001b[0m \u001b[38;5;28;01mreturn\u001b[39;00m \u001b[38;5;28mself\u001b[39m\u001b[38;5;241m.\u001b[39mpostproc(resp, content)\n",
      "\u001b[1;31mHttpError\u001b[0m: <HttpError 400 when requesting https://earthengine.googleapis.com/v1/projects/envr451-2024/maps?fields=name&alt=json returned \"Collection.first: Error in map(ID=2017):\nImage.visualize: Expected a string or list of strings for field 'bands'.\". Details: \"Collection.first: Error in map(ID=2017):\nImage.visualize: Expected a string or list of strings for field 'bands'.\">",
      "\nDuring handling of the above exception, another exception occurred:\n",
      "\u001b[1;31mEEException\u001b[0m                               Traceback (most recent call last)",
      "Cell \u001b[1;32mIn[178], line 10\u001b[0m\n\u001b[0;32m      1\u001b[0m tst \u001b[38;5;241m=\u001b[39m forest_2017_2020\u001b[38;5;241m.\u001b[39mfirst()\n\u001b[0;32m      2\u001b[0m tst \u001b[38;5;241m=\u001b[39m tst\u001b[38;5;241m.\u001b[39mvisualize(\n\u001b[0;32m      3\u001b[0m     bands \u001b[38;5;241m=\u001b[39m \u001b[38;5;124m'\u001b[39m\u001b[38;5;124mfnf\u001b[39m\u001b[38;5;124m'\u001b[39m,\n\u001b[0;32m      4\u001b[0m     \u001b[38;5;28mmin\u001b[39m \u001b[38;5;241m=\u001b[39m \u001b[38;5;241m1\u001b[39m,\n\u001b[0;32m      5\u001b[0m     \u001b[38;5;28mmax\u001b[39m \u001b[38;5;241m=\u001b[39m \u001b[38;5;241m4\u001b[39m,\n\u001b[0;32m      6\u001b[0m     palette \u001b[38;5;241m=\u001b[39m [\u001b[38;5;124m'\u001b[39m\u001b[38;5;124m00b200\u001b[39m\u001b[38;5;124m'\u001b[39m, \u001b[38;5;124m'\u001b[39m\u001b[38;5;124m83ef62\u001b[39m\u001b[38;5;124m'\u001b[39m, \u001b[38;5;124m'\u001b[39m\u001b[38;5;124mffff99\u001b[39m\u001b[38;5;124m'\u001b[39m, \u001b[38;5;124m'\u001b[39m\u001b[38;5;124m0000ff\u001b[39m\u001b[38;5;124m'\u001b[39m]\n\u001b[0;32m      7\u001b[0m )\n\u001b[1;32m---> 10\u001b[0m \u001b[43mMap\u001b[49m\u001b[38;5;241;43m.\u001b[39;49m\u001b[43maddLayer\u001b[49m\u001b[43m(\u001b[49m\u001b[43mtst\u001b[49m\u001b[43m,\u001b[49m\u001b[43m \u001b[49m\u001b[43m{\u001b[49m\u001b[43m}\u001b[49m\u001b[43m,\u001b[49m\u001b[43m \u001b[49m\u001b[38;5;124;43m'\u001b[39;49m\u001b[38;5;124;43mforest_2017_2020\u001b[39;49m\u001b[38;5;124;43m'\u001b[39;49m\u001b[43m)\u001b[49m\n\u001b[0;32m     11\u001b[0m Map\n\u001b[0;32m     13\u001b[0m \u001b[38;5;66;03m# Export.image.toAsset({\u001b[39;00m\n\u001b[0;32m     14\u001b[0m \u001b[38;5;66;03m#   image: SahelRainfallVis,\u001b[39;00m\n\u001b[0;32m     15\u001b[0m \u001b[38;5;66;03m#   description: 'imageExport',\u001b[39;00m\n\u001b[1;32m   (...)\u001b[0m\n\u001b[0;32m     22\u001b[0m \u001b[38;5;66;03m# geemap.ee_export_image_collection(forest_2017_2020, out_dir=out_dir)\u001b[39;00m\n\u001b[0;32m     23\u001b[0m \u001b[38;5;66;03m# geemap.ee_export_image_collection(forest_2007_2017, out_dir=out_dir)\u001b[39;00m\n",
      "File \u001b[1;32m~\\miniconda3\\Lib\\site-packages\\geemap\\geemap.py:342\u001b[0m, in \u001b[0;36mMap.add_ee_layer\u001b[1;34m(self, ee_object, vis_params, name, shown, opacity)\u001b[0m\n\u001b[0;32m    337\u001b[0m         \u001b[38;5;28;01mif\u001b[39;00m has_plot_dropdown:\n\u001b[0;32m    338\u001b[0m             \u001b[38;5;28mself\u001b[39m\u001b[38;5;241m.\u001b[39m_plot_dropdown_widget\u001b[38;5;241m.\u001b[39moptions \u001b[38;5;241m=\u001b[39m \u001b[38;5;28mlist\u001b[39m(\n\u001b[0;32m    339\u001b[0m                 \u001b[38;5;28mself\u001b[39m\u001b[38;5;241m.\u001b[39mee_raster_layers\u001b[38;5;241m.\u001b[39mkeys()\n\u001b[0;32m    340\u001b[0m             )\n\u001b[1;32m--> 342\u001b[0m \u001b[38;5;28;43msuper\u001b[39;49m\u001b[43m(\u001b[49m\u001b[43m)\u001b[49m\u001b[38;5;241;43m.\u001b[39;49m\u001b[43madd_layer\u001b[49m\u001b[43m(\u001b[49m\u001b[43mee_object\u001b[49m\u001b[43m,\u001b[49m\u001b[43m \u001b[49m\u001b[43mvis_params\u001b[49m\u001b[43m,\u001b[49m\u001b[43m \u001b[49m\u001b[43mname\u001b[49m\u001b[43m,\u001b[49m\u001b[43m \u001b[49m\u001b[43mshown\u001b[49m\u001b[43m,\u001b[49m\u001b[43m \u001b[49m\u001b[43mopacity\u001b[49m\u001b[43m)\u001b[49m\n\u001b[0;32m    344\u001b[0m \u001b[38;5;28;01mif\u001b[39;00m \u001b[38;5;28misinstance\u001b[39m(ee_object, (ee\u001b[38;5;241m.\u001b[39mImage, ee\u001b[38;5;241m.\u001b[39mImageCollection)):\n\u001b[0;32m    345\u001b[0m     \u001b[38;5;28;01mif\u001b[39;00m has_plot_dropdown:\n",
      "File \u001b[1;32m~\\miniconda3\\Lib\\site-packages\\geemap\\core.py:754\u001b[0m, in \u001b[0;36mMap.add_layer\u001b[1;34m(self, ee_object, vis_params, name, shown, opacity)\u001b[0m\n\u001b[0;32m    752\u001b[0m \u001b[38;5;28;01mif\u001b[39;00m name \u001b[38;5;129;01mis\u001b[39;00m \u001b[38;5;28;01mNone\u001b[39;00m:\n\u001b[0;32m    753\u001b[0m     name \u001b[38;5;241m=\u001b[39m \u001b[38;5;124mf\u001b[39m\u001b[38;5;124m\"\u001b[39m\u001b[38;5;124mLayer \u001b[39m\u001b[38;5;132;01m{\u001b[39;00m\u001b[38;5;28mlen\u001b[39m(\u001b[38;5;28mself\u001b[39m\u001b[38;5;241m.\u001b[39mee_layers)\u001b[38;5;250m \u001b[39m\u001b[38;5;241m+\u001b[39m\u001b[38;5;250m \u001b[39m\u001b[38;5;241m1\u001b[39m\u001b[38;5;132;01m}\u001b[39;00m\u001b[38;5;124m\"\u001b[39m\n\u001b[1;32m--> 754\u001b[0m tile_layer \u001b[38;5;241m=\u001b[39m \u001b[43mee_tile_layers\u001b[49m\u001b[38;5;241;43m.\u001b[39;49m\u001b[43mEELeafletTileLayer\u001b[49m\u001b[43m(\u001b[49m\n\u001b[0;32m    755\u001b[0m \u001b[43m    \u001b[49m\u001b[43mee_object\u001b[49m\u001b[43m,\u001b[49m\u001b[43m \u001b[49m\u001b[43mvis_params\u001b[49m\u001b[43m,\u001b[49m\u001b[43m \u001b[49m\u001b[43mname\u001b[49m\u001b[43m,\u001b[49m\u001b[43m \u001b[49m\u001b[43mshown\u001b[49m\u001b[43m,\u001b[49m\u001b[43m \u001b[49m\u001b[43mopacity\u001b[49m\n\u001b[0;32m    756\u001b[0m \u001b[43m\u001b[49m\u001b[43m)\u001b[49m\n\u001b[0;32m    758\u001b[0m \u001b[38;5;66;03m# Remove the layer if it already exists.\u001b[39;00m\n\u001b[0;32m    759\u001b[0m \u001b[38;5;28mself\u001b[39m\u001b[38;5;241m.\u001b[39mremove(name)\n",
      "File \u001b[1;32m~\\miniconda3\\Lib\\site-packages\\geemap\\ee_tile_layers.py:144\u001b[0m, in \u001b[0;36mEELeafletTileLayer.__init__\u001b[1;34m(self, ee_object, vis_params, name, shown, opacity, **kwargs)\u001b[0m\n\u001b[0;32m    134\u001b[0m \u001b[38;5;250m\u001b[39m\u001b[38;5;124;03m\"\"\"Initialize the ipyleaflet tile layer.\u001b[39;00m\n\u001b[0;32m    135\u001b[0m \n\u001b[0;32m    136\u001b[0m \u001b[38;5;124;03mArgs:\u001b[39;00m\n\u001b[1;32m   (...)\u001b[0m\n\u001b[0;32m    141\u001b[0m \u001b[38;5;124;03m    opacity (float, optional): The layer's opacity represented as a number between 0 and 1. Defaults to 1.\u001b[39;00m\n\u001b[0;32m    142\u001b[0m \u001b[38;5;124;03m\"\"\"\u001b[39;00m\n\u001b[0;32m    143\u001b[0m \u001b[38;5;28mself\u001b[39m\u001b[38;5;241m.\u001b[39m_ee_object \u001b[38;5;241m=\u001b[39m ee_object\n\u001b[1;32m--> 144\u001b[0m \u001b[38;5;28mself\u001b[39m\u001b[38;5;241m.\u001b[39murl_format \u001b[38;5;241m=\u001b[39m \u001b[43m_get_tile_url_format\u001b[49m\u001b[43m(\u001b[49m\n\u001b[0;32m    145\u001b[0m \u001b[43m    \u001b[49m\u001b[43mee_object\u001b[49m\u001b[43m,\u001b[49m\u001b[43m \u001b[49m\u001b[43m_validate_vis_params\u001b[49m\u001b[43m(\u001b[49m\u001b[43mvis_params\u001b[49m\u001b[43m)\u001b[49m\n\u001b[0;32m    146\u001b[0m \u001b[43m\u001b[49m\u001b[43m)\u001b[49m\n\u001b[0;32m    147\u001b[0m \u001b[38;5;28msuper\u001b[39m()\u001b[38;5;241m.\u001b[39m\u001b[38;5;21m__init__\u001b[39m(\n\u001b[0;32m    148\u001b[0m     url\u001b[38;5;241m=\u001b[39m\u001b[38;5;28mself\u001b[39m\u001b[38;5;241m.\u001b[39murl_format,\n\u001b[0;32m    149\u001b[0m     attribution\u001b[38;5;241m=\u001b[39m\u001b[38;5;124m\"\u001b[39m\u001b[38;5;124mGoogle Earth Engine\u001b[39m\u001b[38;5;124m\"\u001b[39m,\n\u001b[1;32m   (...)\u001b[0m\n\u001b[0;32m    154\u001b[0m     \u001b[38;5;241m*\u001b[39m\u001b[38;5;241m*\u001b[39mkwargs,\n\u001b[0;32m    155\u001b[0m )\n",
      "File \u001b[1;32m~\\miniconda3\\Lib\\site-packages\\geemap\\ee_tile_layers.py:19\u001b[0m, in \u001b[0;36m_get_tile_url_format\u001b[1;34m(ee_object, vis_params)\u001b[0m\n\u001b[0;32m     17\u001b[0m \u001b[38;5;28;01mdef\u001b[39;00m \u001b[38;5;21m_get_tile_url_format\u001b[39m(ee_object, vis_params):\n\u001b[0;32m     18\u001b[0m     image \u001b[38;5;241m=\u001b[39m _ee_object_to_image(ee_object, vis_params)\n\u001b[1;32m---> 19\u001b[0m     map_id_dict \u001b[38;5;241m=\u001b[39m \u001b[43mee\u001b[49m\u001b[38;5;241;43m.\u001b[39;49m\u001b[43mImage\u001b[49m\u001b[43m(\u001b[49m\u001b[43mimage\u001b[49m\u001b[43m)\u001b[49m\u001b[38;5;241;43m.\u001b[39;49m\u001b[43mgetMapId\u001b[49m\u001b[43m(\u001b[49m\u001b[43mvis_params\u001b[49m\u001b[43m)\u001b[49m\n\u001b[0;32m     20\u001b[0m     \u001b[38;5;28;01mreturn\u001b[39;00m map_id_dict[\u001b[38;5;124m\"\u001b[39m\u001b[38;5;124mtile_fetcher\u001b[39m\u001b[38;5;124m\"\u001b[39m]\u001b[38;5;241m.\u001b[39murl_format\n",
      "File \u001b[1;32m~\\miniconda3\\Lib\\site-packages\\ee\\image.py:129\u001b[0m, in \u001b[0;36mImage.getMapId\u001b[1;34m(self, vis_params)\u001b[0m\n\u001b[0;32m    127\u001b[0m vis_image, request \u001b[38;5;241m=\u001b[39m \u001b[38;5;28mself\u001b[39m\u001b[38;5;241m.\u001b[39m_apply_visualization(vis_params)\n\u001b[0;32m    128\u001b[0m request[\u001b[38;5;124m'\u001b[39m\u001b[38;5;124mimage\u001b[39m\u001b[38;5;124m'\u001b[39m] \u001b[38;5;241m=\u001b[39m vis_image\n\u001b[1;32m--> 129\u001b[0m response \u001b[38;5;241m=\u001b[39m \u001b[43mdata\u001b[49m\u001b[38;5;241;43m.\u001b[39;49m\u001b[43mgetMapId\u001b[49m\u001b[43m(\u001b[49m\u001b[43mrequest\u001b[49m\u001b[43m)\u001b[49m\n\u001b[0;32m    130\u001b[0m response[\u001b[38;5;124m'\u001b[39m\u001b[38;5;124mimage\u001b[39m\u001b[38;5;124m'\u001b[39m] \u001b[38;5;241m=\u001b[39m \u001b[38;5;28mself\u001b[39m\n\u001b[0;32m    131\u001b[0m \u001b[38;5;28;01mreturn\u001b[39;00m response\n",
      "File \u001b[1;32m~\\miniconda3\\Lib\\site-packages\\ee\\data.py:724\u001b[0m, in \u001b[0;36mgetMapId\u001b[1;34m(params)\u001b[0m\n\u001b[0;32m    719\u001b[0m queryParams \u001b[38;5;241m=\u001b[39m {\n\u001b[0;32m    720\u001b[0m     \u001b[38;5;124m'\u001b[39m\u001b[38;5;124mfields\u001b[39m\u001b[38;5;124m'\u001b[39m: \u001b[38;5;124m'\u001b[39m\u001b[38;5;124mname\u001b[39m\u001b[38;5;124m'\u001b[39m,\n\u001b[0;32m    721\u001b[0m     \u001b[38;5;124m'\u001b[39m\u001b[38;5;124mbody\u001b[39m\u001b[38;5;124m'\u001b[39m: request,\n\u001b[0;32m    722\u001b[0m }\n\u001b[0;32m    723\u001b[0m _maybe_populate_workload_tag(queryParams)\n\u001b[1;32m--> 724\u001b[0m result \u001b[38;5;241m=\u001b[39m \u001b[43m_execute_cloud_call\u001b[49m\u001b[43m(\u001b[49m\n\u001b[0;32m    725\u001b[0m \u001b[43m    \u001b[49m\u001b[43m_get_cloud_projects\u001b[49m\u001b[43m(\u001b[49m\u001b[43m)\u001b[49m\n\u001b[0;32m    726\u001b[0m \u001b[43m    \u001b[49m\u001b[38;5;241;43m.\u001b[39;49m\u001b[43mmaps\u001b[49m\u001b[43m(\u001b[49m\u001b[43m)\u001b[49m\n\u001b[0;32m    727\u001b[0m \u001b[43m    \u001b[49m\u001b[38;5;241;43m.\u001b[39;49m\u001b[43mcreate\u001b[49m\u001b[43m(\u001b[49m\u001b[43mparent\u001b[49m\u001b[38;5;241;43m=\u001b[39;49m\u001b[43m_get_projects_path\u001b[49m\u001b[43m(\u001b[49m\u001b[43m)\u001b[49m\u001b[43m,\u001b[49m\u001b[43m \u001b[49m\u001b[38;5;241;43m*\u001b[39;49m\u001b[38;5;241;43m*\u001b[39;49m\u001b[43mqueryParams\u001b[49m\u001b[43m)\u001b[49m\n\u001b[0;32m    728\u001b[0m \u001b[43m\u001b[49m\u001b[43m)\u001b[49m\n\u001b[0;32m    729\u001b[0m map_name \u001b[38;5;241m=\u001b[39m result[\u001b[38;5;124m'\u001b[39m\u001b[38;5;124mname\u001b[39m\u001b[38;5;124m'\u001b[39m]\n\u001b[0;32m    730\u001b[0m url_format \u001b[38;5;241m=\u001b[39m \u001b[38;5;124m'\u001b[39m\u001b[38;5;132;01m%s\u001b[39;00m\u001b[38;5;124m/\u001b[39m\u001b[38;5;132;01m%s\u001b[39;00m\u001b[38;5;124m/\u001b[39m\u001b[38;5;132;01m%s\u001b[39;00m\u001b[38;5;124m/tiles/\u001b[39m\u001b[38;5;132;01m{z}\u001b[39;00m\u001b[38;5;124m/\u001b[39m\u001b[38;5;132;01m{x}\u001b[39;00m\u001b[38;5;124m/\u001b[39m\u001b[38;5;132;01m{y}\u001b[39;00m\u001b[38;5;124m'\u001b[39m \u001b[38;5;241m%\u001b[39m (\n\u001b[0;32m    731\u001b[0m     _tile_base_url, _cloud_api_utils\u001b[38;5;241m.\u001b[39mVERSION, map_name)\n",
      "File \u001b[1;32m~\\miniconda3\\Lib\\site-packages\\ee\\data.py:404\u001b[0m, in \u001b[0;36m_execute_cloud_call\u001b[1;34m(call, num_retries)\u001b[0m\n\u001b[0;32m    402\u001b[0m   \u001b[38;5;28;01mreturn\u001b[39;00m call\u001b[38;5;241m.\u001b[39mexecute(num_retries\u001b[38;5;241m=\u001b[39mnum_retries)\n\u001b[0;32m    403\u001b[0m \u001b[38;5;28;01mexcept\u001b[39;00m googleapiclient\u001b[38;5;241m.\u001b[39merrors\u001b[38;5;241m.\u001b[39mHttpError \u001b[38;5;28;01mas\u001b[39;00m e:\n\u001b[1;32m--> 404\u001b[0m   \u001b[38;5;28;01mraise\u001b[39;00m _translate_cloud_exception(e)\n",
      "\u001b[1;31mEEException\u001b[0m: Collection.first: Error in map(ID=2017):\nImage.visualize: Expected a string or list of strings for field 'bands'."
     ]
    }
   ],
   "source": [
    "tst = forest_2017_2020.first()\n",
    "tst = tst.visualize(\n",
    "    bands = 'fnf',\n",
    "    min = 1,\n",
    "    max = 4,\n",
    "    palette = ['00b200', '83ef62', 'ffff99', '0000ff']\n",
    ")\n",
    "\n",
    "\n",
    "Map.addLayer(tst, {}, 'forest_2017_2020')\n",
    "Map\n",
    "\n",
    "# Export.image.toAsset({\n",
    "#   image: SahelRainfallVis,\n",
    "#   description: 'imageExport',\n",
    "#   assetId: 'rf',\n",
    "#   region: Sahel,\n",
    "# });\n",
    "\n",
    "\n",
    "\n",
    "# geemap.ee_export_image_collection(forest_2017_2020, out_dir=out_dir)\n",
    "# geemap.ee_export_image_collection(forest_2007_2017, out_dir=out_dir)"
   ]
  },
  {
   "cell_type": "code",
   "execution_count": 153,
   "id": "81567f5c-3843-468f-a80c-3b91e613b6b6",
   "metadata": {},
   "outputs": [
    {
     "data": {
      "text/html": [
       "\n",
       "            <style>\n",
       "                .geemap-dark {\n",
       "                    --jp-widgets-color: white;\n",
       "                    --jp-widgets-label-color: white;\n",
       "                    --jp-ui-font-color1: white;\n",
       "                    --jp-layout-color2: #454545;\n",
       "                    background-color: #383838;\n",
       "                }\n",
       "                    \n",
       "                .geemap-dark .jupyter-button {\n",
       "                    --jp-layout-color3: #383838;\n",
       "                }\n",
       "                \n",
       "                .geemap-colab {\n",
       "                    background-color: var(--colab-primary-surface-color, white);\n",
       "                }\n",
       "                    \n",
       "                .geemap-colab .jupyter-button {\n",
       "                    --jp-layout-color3: var(--colab-primary-surface-color, white);\n",
       "                }\n",
       "            </style>\n",
       "            "
      ],
      "text/plain": [
       "<IPython.core.display.HTML object>"
      ]
     },
     "metadata": {},
     "output_type": "display_data"
    }
   ],
   "source": [
    "# Define visualization parameters\n",
    "forest_non_forest_vis = {\n",
    "    'min': 1,\n",
    "    'max': 3,\n",
    "    'palette': ['00b200', '83ef62', 'ffff99']\n",
    "}\n",
    "\n",
    "# Set map center\n",
    "Map.centerObject(piura_shp, 12)\n",
    "# Map.addLayer(forest_2007_2016.select('JAXA/ALOS/PALSAR/YEARLY/FNF/2015'), forest_non_forest_vis, 'Forest/Non-Forest')\n",
    "# Map"
   ]
  },
  {
   "cell_type": "markdown",
   "id": "a9df69cf-4786-4b1c-81f8-679ab4f5c51d",
   "metadata": {},
   "source": [
    "# Copernicus Land Cover\n",
    "100m resolution\n",
    "2015-01-01 to 2019-12-31\n",
    "\n",
    "https://developers.google.com/earth-engine/datasets/catalog/COPERNICUS_Landcover_100m_Proba-V-C3_Global#description"
   ]
  },
  {
   "cell_type": "code",
   "execution_count": null,
   "id": "964c8349-a48e-4050-94d6-ab42c0590b4f",
   "metadata": {},
   "outputs": [],
   "source": [
    "dataset = ee.Image('COPERNICUS/Landcover/100m/Proba-V-C3/Global/2019')\n",
    ".select('discrete_classification')"
   ]
  },
  {
   "cell_type": "markdown",
   "id": "65717085-92b8-482c-9bcf-c5ff5e496964",
   "metadata": {},
   "source": [
    "# Landsat\n",
    "Landsat provides 30m resolution from 1985 to today.\n",
    "\n",
    "An annual composite is made to correct for cloud coverage, with instructions from the following video: https://www.youtube.com/watch?v=GzQ9HSXz9vE\n"
   ]
  },
  {
   "cell_type": "code",
   "execution_count": 112,
   "id": "aacdd414-42f5-490f-8408-4d355b4bf0f0",
   "metadata": {},
   "outputs": [
    {
     "data": {
      "text/html": [
       "\n",
       "            <style>\n",
       "                .geemap-dark {\n",
       "                    --jp-widgets-color: white;\n",
       "                    --jp-widgets-label-color: white;\n",
       "                    --jp-ui-font-color1: white;\n",
       "                    --jp-layout-color2: #454545;\n",
       "                    background-color: #383838;\n",
       "                }\n",
       "                    \n",
       "                .geemap-dark .jupyter-button {\n",
       "                    --jp-layout-color3: #383838;\n",
       "                }\n",
       "                \n",
       "                .geemap-colab {\n",
       "                    background-color: var(--colab-primary-surface-color, white);\n",
       "                }\n",
       "                    \n",
       "                .geemap-colab .jupyter-button {\n",
       "                    --jp-layout-color3: var(--colab-primary-surface-color, white);\n",
       "                }\n",
       "            </style>\n",
       "            "
      ],
      "text/plain": [
       "<IPython.core.display.HTML object>"
      ]
     },
     "metadata": {},
     "output_type": "display_data"
    },
    {
     "ename": "NameError",
     "evalue": "name 'load_landsat_imagery' is not defined",
     "output_type": "error",
     "traceback": [
      "\u001b[1;31m---------------------------------------------------------------------------\u001b[0m",
      "\u001b[1;31mNameError\u001b[0m                                 Traceback (most recent call last)",
      "Cell \u001b[1;32mIn[112], line 88\u001b[0m\n\u001b[0;32m     85\u001b[0m end_day \u001b[38;5;241m=\u001b[39m \u001b[38;5;241m365\u001b[39m\n\u001b[0;32m     87\u001b[0m \u001b[38;5;66;03m# Generate historical composites\u001b[39;00m\n\u001b[1;32m---> 88\u001b[0m composites \u001b[38;5;241m=\u001b[39m \u001b[43mgenerate_historical_composites\u001b[49m\u001b[43m(\u001b[49m\u001b[43mfilter_geometry\u001b[49m\u001b[43m,\u001b[49m\u001b[43m \u001b[49m\u001b[43mstart_year\u001b[49m\u001b[43m,\u001b[49m\u001b[43m \u001b[49m\u001b[43mend_year\u001b[49m\u001b[43m,\u001b[49m\u001b[43m \u001b[49m\u001b[43mstart_day\u001b[49m\u001b[43m,\u001b[49m\u001b[43m \u001b[49m\u001b[43mend_day\u001b[49m\u001b[43m)\u001b[49m\n\u001b[0;32m     90\u001b[0m \u001b[38;5;66;03m# Filter for one year (e.g., 2020) and take median\u001b[39;00m\n\u001b[0;32m     91\u001b[0m one_year \u001b[38;5;241m=\u001b[39m composites\u001b[38;5;241m.\u001b[39mfilterDate(ee\u001b[38;5;241m.\u001b[39mDate\u001b[38;5;241m.\u001b[39mfromYMD(\u001b[38;5;241m2020\u001b[39m, \u001b[38;5;241m1\u001b[39m, \u001b[38;5;241m1\u001b[39m), ee\u001b[38;5;241m.\u001b[39mDate\u001b[38;5;241m.\u001b[39mfromYMD(\u001b[38;5;241m2020\u001b[39m, \u001b[38;5;241m12\u001b[39m, \u001b[38;5;241m31\u001b[39m))\u001b[38;5;241m.\u001b[39mmedian()\n",
      "Cell \u001b[1;32mIn[112], line 64\u001b[0m, in \u001b[0;36mgenerate_historical_composites\u001b[1;34m(tile, start_year, end_year, start_day, end_day)\u001b[0m\n\u001b[0;32m     61\u001b[0m study_area_mask \u001b[38;5;241m=\u001b[39m ee\u001b[38;5;241m.\u001b[39mImage\u001b[38;5;241m.\u001b[39mconstant(\u001b[38;5;241m0\u001b[39m)\u001b[38;5;241m.\u001b[39mbyte()\u001b[38;5;241m.\u001b[39mpaint(filter_geometry, \u001b[38;5;241m1\u001b[39m)\u001b[38;5;241m.\u001b[39mbyte()\n\u001b[0;32m     62\u001b[0m study_area_mask_buffer \u001b[38;5;241m=\u001b[39m ee\u001b[38;5;241m.\u001b[39mImage\u001b[38;5;241m.\u001b[39mconstant(\u001b[38;5;241m0\u001b[39m)\u001b[38;5;241m.\u001b[39mbyte()\u001b[38;5;241m.\u001b[39mpaint(geometry_buffered, \u001b[38;5;241m1\u001b[39m)\u001b[38;5;241m.\u001b[39mbyte()\n\u001b[1;32m---> 64\u001b[0m raw_imagery \u001b[38;5;241m=\u001b[39m \u001b[43mload_landsat_imagery\u001b[49m(start_year, end_year, start_day, end_day, geometry_buffered, study_area_mask_buffer)\n\u001b[0;32m     66\u001b[0m raw_imagery \u001b[38;5;241m=\u001b[39m raw_imagery\u001b[38;5;241m.\u001b[39mmap(apply_pixel_qa)\u001b[38;5;241m.\u001b[39mselect([\u001b[38;5;124m'\u001b[39m\u001b[38;5;124mB1\u001b[39m\u001b[38;5;124m'\u001b[39m, \u001b[38;5;124m'\u001b[39m\u001b[38;5;124mB2\u001b[39m\u001b[38;5;124m'\u001b[39m, \u001b[38;5;124m'\u001b[39m\u001b[38;5;124mB3\u001b[39m\u001b[38;5;124m'\u001b[39m, \u001b[38;5;124m'\u001b[39m\u001b[38;5;124mB4\u001b[39m\u001b[38;5;124m'\u001b[39m, \u001b[38;5;124m'\u001b[39m\u001b[38;5;124mB5\u001b[39m\u001b[38;5;124m'\u001b[39m, \u001b[38;5;124m'\u001b[39m\u001b[38;5;124mB7\u001b[39m\u001b[38;5;124m'\u001b[39m])\n\u001b[0;32m     68\u001b[0m medoids \u001b[38;5;241m=\u001b[39m create_annual_composites(raw_imagery, start_year, end_year)\n",
      "\u001b[1;31mNameError\u001b[0m: name 'load_landsat_imagery' is not defined"
     ]
    }
   ],
   "source": [
    "filter_geometry = ee.FeatureCollection('projects/envr451-2024/assets/piura').geometry()\n",
    "start_year = 1985\n",
    "end_year = 2023\n",
    "start_day = 1\n",
    "end_day = 365\n",
    "\n",
    "# Function to load Landsat imagery\n",
    "def load_landsat_imagery(start_year, end_year, start_day, end_day, filter_geometry):\n",
    "    # Load Landsat Imagery\n",
    "    landsat_4 = ee.ImageCollection('LANDSAT/LT04/C02/T1_L2') \\\n",
    "        .filterBounds(filter_geometry) \\\n",
    "        .filterDate(ee.Date.fromYMD(start_year, 1, 1), ee.Date.fromYMD(end_year, 12, 31)) \\\n",
    "        .filter(ee.Filter.calendarRange(start_day, end_day)) \\\n",
    "        .select(['SR_B1', 'SR_B2', 'SR_B3', 'SR_B4', 'SR_B5', 'SR_B7', 'QA_PIXEL'], ['B1', 'B2', 'B3', 'B4', 'B5', 'B7', 'pixel_qa']) \\\n",
    "    landsat_5 = ee.ImageCollection('LANDSAT/LT05/C02/T1_L2') \\\n",
    "        .filterBounds(filter_geometry) \\\n",
    "        .filterDate(ee.Date.fromYMD(start_year, 1, 1), ee.Date.fromYMD(end_year, 12, 31)) \\\n",
    "        .filter(ee.Filter.calendarRange(start_day, end_day)) \\\n",
    "        .select(['SR_B1', 'SR_B2', 'SR_B3', 'SR_B4', 'SR_B5', 'SR_B7', 'QA_PIXEL'], ['B1', 'B2', 'B3', 'B4', 'B5', 'B7', 'pixel_qa']) \\\n",
    "    landsat_7 = ee.ImageCollection('LANDSAT/LE07/C02/T1_L2') \\\n",
    "        .filterBounds(filter_geometry) \\\n",
    "        .filterDate(ee.Date.fromYMD(start_year, 1, 1), ee.Date.fromYMD(end_year, 12, 31)) \\\n",
    "        .filter(ee.Filter.calendarRange(start_day, end_day)) \\\n",
    "        .select(['SR_B1', 'SR_B2', 'SR_B3', 'SR_B4', 'SR_B5', 'SR_B7', 'QA_PIXEL'], ['B1', 'B2', 'B3', 'B4', 'B5', 'B7', 'pixel_qa']) \\\n",
    "    landsat_8 = ee.ImageCollection('LANDSAT/LC08/C02/T1_L2') \\\n",
    "        .filterBounds(filter_geometry) \\\n",
    "        .filterDate(ee.Date.fromYMD(start_year, 1, 1), ee.Date.fromYMD(end_year, 12, 31)) \\\n",
    "        .filter(ee.Filter.calendarRange(start_day, end_day)) \\\n",
    "        .select(['SR_B2', 'SR_B3', 'SR_B4', 'SR_B5', 'SR_B6', 'SR_B7', 'QA_PIXEL'], ['B1', 'B2', 'B3', 'B4', 'B5', 'B7', 'pixel_qa']) \\\n",
    "        .map(oli_to_etm) \\\n",
    "    landsat_9 = ee.ImageCollection('LANDSAT/LC09/C02/T1_L2') \\\n",
    "        .filterBounds(filter_geometry) \\\n",
    "        .filterDate(ee.Date.fromYMD(start_year, 1, 1), ee.Date.fromYMD(end_year, 12, 31)) \\\n",
    "        .filter(ee.Filter.calendarRange(start_day, end_day)) \\\n",
    "        .select(['SR_B2', 'SR_B3', 'SR_B4', 'SR_B5', 'SR_B6', 'SR_B7', 'QA_PIXEL'], ['B1', 'B2', 'B3', 'B4', 'B5', 'B7', 'pixel_qa']) \\\n",
    "        .map(oli_to_etm) \\\n",
    "\n",
    "    merged = ee.ImageCollection(landsat_9.merge(landsat_8).merge(landsat_7).merge(landsat_4).merge(landsat_5))\n",
    "\n",
    "    return merged\n",
    "\n",
    "# Function to apply pixel QA\n",
    "def apply_pixel_qa(img):\n",
    "    qa = img.select('pixel_qa')\n",
    "    mask = qa.bitwiseAnd(1 << 3).eq(0).And(qa.bitwiseAnd(1 << 5).eq(0))\n",
    "    return img.updateMask(mask)\n",
    "\n",
    "# Function to convert OLI reflectance to ETM\n",
    "def oli_to_etm(oli):\n",
    "    band = oli.select(['B1', 'B2', 'B3', 'B4', 'B5', 'B7'])\n",
    "    slopes = ee.Image.constant([0.9785, 0.9542, 0.9825, 1.0073, 1.0171, 0.9949])\n",
    "    itcp = ee.Image.constant([-0.0095, -0.0016, -0.0022, -0.0021, -0.0030, 0.0029])\n",
    "    y = band.resample('bicubic').subtract(itcp.multiply(10000)).divide(slopes).set('system:time_start', oli.get('system:time_start'))\n",
    "    return y.addBands(oli.select('pixel_qa')).toInt16()\n",
    "\n",
    "# Function to create medoid mosaic\n",
    "def medoid_mosaic(inCollection):\n",
    "    # Create a medoid composite from the collection of input Landsat images'''\n",
    "    # Fill in missing years with the dummy collection\n",
    "    dummyCollection = ee.ImageCollection([\n",
    "        ee.Image([0, 0, 0, 0, 0, 0]).mask(ee.Image(0)).rename(['B1', 'B2', 'B3', 'B4', 'B5', 'B7'])])\n",
    "   \n",
    "    finalCollection = inCollection.merge(dummyCollection)\n",
    "\n",
    "    # Calculate median across images in collection per band\n",
    "    median = finalCollection.median()\n",
    "\n",
    "    # Calculate the difference between the median and the observation per image per band\n",
    "    def inner_map(img):\n",
    "        diff = ee.Image(img).subtract(median).pow(ee.Image.constant(2))\n",
    "        return diff.reduce('sum').addBands(img)\n",
    "\n",
    "    difFromMedian = finalCollection.map(inner_map)\n",
    "\n",
    "    return ee.ImageCollection(difFromMedian).reduce(ee.Reducer.min(7)).select(['B1', 'B2', 'B3', 'B4', 'B5', 'B7'], ['B1', 'B2', 'B3', 'B4', 'B5', 'B7'])\n",
    "\n",
    "# Function to create annual composites\n",
    "def create_annual_composites(input_collection, start_year, end_year):\n",
    "    composited_images = []\n",
    "    for year in range(start_year, end_year + 1):\n",
    "        start_date = ee.Date.fromYMD(year, 1, 1)\n",
    "        end_date = ee.Date.fromYMD(year, 12, 31)\n",
    "        composite = medoid_mosaic(input_collection.filterDate(start_date, end_date)).set('system:time_start', ee.Date.fromYMD(year, 8, 1).millis()).toFloat()\n",
    "        composited_images.extend(composite)\n",
    "    return ee.ImageCollection.fromImages(composited_images)\n",
    "\n",
    "# Function to calculate NBR\n",
    "def calculate_nbr(image):\n",
    "    nbr = image.normalizedDifference([\"B4\", \"B7\"]).rename([\"NBR\"]).multiply(-1)\n",
    "    return nbr.addBands(image).set(\"system:time_start\", image.get(\"system:time_start\")).float()\n",
    "\n",
    "# Function to flatten LT-GEE output structure\n",
    "def flatten_ltr_fits(ltr_output, start_year, end_year):\n",
    "    years = list(range(start_year, end_year + 1))\n",
    "    years_str = ['yr_' + str(year) for year in years]\n",
    "\n",
    "    fitted_values = ltr_output.select(['B1_fit', 'B2_fit', 'B3_fit', 'B4_fit', 'B5_fit', 'B7_fit']).arrayFlatten([years_str]).toInt16()\n",
    "\n",
    "    b1_fits = ltr_output.select(['B1_fit']).arrayFlatten([years_str]).toInt16()\n",
    "    b2_fits = ltr_output.select(['B2_fit']).arrayFlatten([years_str]).toInt16()\n",
    "    b3_fits = ltr_output.select(['B3_fit']).arrayFlatten([years_str]).toInt16()\n",
    "    b4_fits = ltr_output.select(['B4_fit']).arrayFlatten([years_str]).toInt16()\n",
    "    b5_fits = ltr_output.select(['B5_fit']).arrayFlatten([years_str]).toInt16()\n",
    "    b7_fits = ltr_output.select(['B7_fit']).arrayFlatten([years_str]).toInt16()\n",
    "\n",
    "    reshuffle = lambda year: (\n",
    "        b1_fits.select([year]).rename(['LS_B'])\n",
    "        .addBands(b2_fits.select([year]).rename(['LS_G']))\n",
    "        .addBands(b3_fits.select([year]).rename(['LS_R']))\n",
    "        .addBands(b4_fits.select([year]).rename(['LS_NIR']))\n",
    "        .addBands(b5_fits.select([year]).rename(['LS_SWIR1']))\n",
    "        .addBands(b7_fits.select([year]).rename(['LS_SWIR2']))\n",
    "    )\n",
    "\n",
    "    all_images = ee.ImageCollection.fromImages(years_str.map(reshuffle))\n",
    "\n",
    "    return all_images\n",
    "\n",
    "# Function to generate historical composites\n",
    "def generate_historical_composites(tile, start_year, end_year, start_day, end_day):\n",
    "    geometry_buffered = tile.buffer(10000)\n",
    "\n",
    "    study_area_mask = ee.Image.constant(0).byte().paint(filter_geometry, 1).byte()\n",
    "    study_area_mask_buffer = ee.Image.constant(0).byte().paint(geometry_buffered, 1).byte()\n",
    "\n",
    "    raw_imagery = load_landsat_imagery(start_year, end_year, start_day, end_day, geometry_buffered, study_area_mask_buffer)\n",
    "\n",
    "    raw_imagery = raw_imagery.map(apply_pixel_qa).select(['B1', 'B2', 'B3', 'B4', 'B5', 'B7'])\n",
    "\n",
    "    medoids = create_annual_composites(raw_imagery, start_year, end_year)\n",
    "\n",
    "    interpolated_medoids = interpolate_annual_composites(medoids, start_year, end_year)\n",
    "\n",
    "    interpolated_medoids = set_date(interpolated_medoids.toBands(), start_year, end_year)\n",
    "\n",
    "    return interpolated_medoids\n",
    "\n",
    "\n",
    "# Generate historical composites\n",
    "composites = generate_historical_composites(filter_geometry, start_year, end_year, start_day, end_day)\n",
    "\n",
    "# Filter for one year (e.g., 2020) and take median\n",
    "one_year = composites.filterDate(ee.Date.fromYMD(2020, 1, 1), ee.Date.fromYMD(2020, 12, 31)).median()\n",
    "\n",
    "# Add layer to the map\n",
    "Map.addLayer(one_year.select(['B3', 'B2', 'B1']), {'min': 5000, 'max': 20000})\n"
   ]
  },
  {
   "cell_type": "markdown",
   "id": "565eddec-2019-424c-aac9-ce285126fa92",
   "metadata": {},
   "source": [
    "# Dynamic World\n",
    "10m land use, from 2015-06-27 to today. Near real time.\n",
    "\n",
    "\n",
    "https://developers.google.com/earth-engine/datasets/catalog/GOOGLE_DYNAMICWORLD_V1#colab-python\n"
   ]
  },
  {
   "cell_type": "code",
   "execution_count": null,
   "id": "c62d56e4-6253-46ed-a70c-3fe9361a566a",
   "metadata": {},
   "outputs": [],
   "source": [
    "# Construct a collection of corresponding Dynamic World and Sentinel-2 for\n",
    "# inspection. Filter the DW and S2 collections by region and date.\n",
    "START = ee.Date('2021-04-02')\n",
    "END = START.advance(1, 'day')\n",
    "\n",
    "col_filter = ee.Filter.And(\n",
    "    ee.Filter.bounds(ee.Geometry.Point(20.6729, 52.4305)),\n",
    "    ee.Filter.date(START, END),\n",
    ")\n",
    "\n",
    "dw_col = ee.ImageCollection('GOOGLE/DYNAMICWORLD/V1').filter(col_filter)\n",
    "s2_col = ee.ImageCollection('COPERNICUS/S2').filter(col_filter)\n",
    "\n",
    "# Join corresponding DW and S2 images (by system:index).\n",
    "dw_s2_col = ee.Join.saveFirst('s2_img').apply(\n",
    "    dw_col,\n",
    "    s2_col,\n",
    "    ee.Filter.equals(leftField='system:index', rightField='system:index'),\n",
    ")\n",
    "\n",
    "# Extract an example DW image and its source S2 image.\n",
    "dw_image = ee.Image(dw_s2_col.first())\n",
    "s2_image = ee.Image(dw_image.get('s2_img'))\n",
    "\n",
    "# Create a visualization that blends DW class label with probability.\n",
    "# Define list pairs of DW LULC label and color.\n",
    "CLASS_NAMES = [\n",
    "    'water',\n",
    "    'trees',\n",
    "    'grass',\n",
    "    'flooded_vegetation',\n",
    "    'crops',\n",
    "    'shrub_and_scrub',\n",
    "    'built',\n",
    "    'bare',\n",
    "    'snow_and_ice',\n",
    "]\n",
    "\n",
    "VIS_PALETTE = [\n",
    "    '419bdf',\n",
    "    '397d49',\n",
    "    '88b053',\n",
    "    '7a87c6',\n",
    "    'e49635',\n",
    "    'dfc35a',\n",
    "    'c4281b',\n",
    "    'a59b8f',\n",
    "    'b39fe1',\n",
    "]\n",
    "\n",
    "# Create an RGB image of the label (most likely class) on [0, 1].\n",
    "dw_rgb = (\n",
    "    dw_image.select('label')\n",
    "    .visualize(min=0, max=8, palette=VIS_PALETTE)\n",
    "    .divide(255)\n",
    ")\n",
    "\n",
    "# Get the most likely class probability.\n",
    "top1_prob = dw_image.select(CLASS_NAMES).reduce(ee.Reducer.max())\n",
    "\n",
    "# Create a hillshade of the most likely class probability on [0, 1]\n",
    "top1_prob_hillshade = ee.Terrain.hillshade(top1_prob.multiply(100)).divide(255)\n",
    "\n",
    "# Combine the RGB image with the hillshade.\n",
    "dw_rgb_hillshade = dw_rgb.multiply(top1_prob_hillshade)\n",
    "\n",
    "# Display the Dynamic World visualization with the source Sentinel-2 image.\n",
    "m = geemap.Map()\n",
    "m.set_center(20.6729, 52.4305, 12)\n",
    "m.add_layer(\n",
    "    s2_image,\n",
    "    {'min': 0, 'max': 3000, 'bands': ['B4', 'B3', 'B2']},\n",
    "    'Sentinel-2 L1C',\n",
    ")\n",
    "m.add_layer(\n",
    "    dw_rgb_hillshade,\n",
    "    {'min': 0, 'max': 0.65},\n",
    "    'Dynamic World V1 - label hillshade',\n",
    ")\n",
    "m"
   ]
  },
  {
   "cell_type": "markdown",
   "id": "fc33074e-9398-4413-bb5d-64cf7f2269b2",
   "metadata": {},
   "source": [
    "# ESA WorldCover\n",
    "10m resolution\n",
    "2020-01-01 - 2022-12-31\n",
    "\n",
    "https://developers.google.com/earth-engine/datasets/catalog/ESA_WorldCover_v100\n",
    "https://developers.google.com/earth-engine/datasets/catalog/ESA_WorldCover_v200"
   ]
  },
  {
   "cell_type": "markdown",
   "id": "0ac469de-6dbb-4b78-b8b8-62136a8f4811",
   "metadata": {},
   "source": [
    "# ESRI Land Use Land Cover\n",
    "\n",
    "https://livingatlas.arcgis.com/landcover/"
   ]
  },
  {
   "cell_type": "code",
   "execution_count": null,
   "id": "312dc1a2-4736-4a86-a5f6-ecad1aa78ffd",
   "metadata": {},
   "outputs": [],
   "source": [
    "esri_lulc2020 = ee.ImageCollection(\"projects/sat-io/open-datasets/landcover/ESRI_Global-LULC_10m\")\n"
   ]
  },
  {
   "cell_type": "markdown",
   "id": "048fd886-ce3d-40b4-91ac-69ee4159b107",
   "metadata": {},
   "source": [
    "# ESRI Topography\n",
    "\n",
    "All of these should have a finely traced but properly scaled grid with tick marks corresponding to decimal long./lat. degrees."
   ]
  },
  {
   "cell_type": "markdown",
   "id": "86af0703-7058-47ea-990a-eab316ad86ee",
   "metadata": {},
   "source": [
    "# NASA Elevation"
   ]
  },
  {
   "cell_type": "code",
   "execution_count": 128,
   "id": "04a8d65a-162a-473d-94b2-b7d3fdee0b25",
   "metadata": {},
   "outputs": [
    {
     "data": {
      "text/html": [
       "\n",
       "            <style>\n",
       "                .geemap-dark {\n",
       "                    --jp-widgets-color: white;\n",
       "                    --jp-widgets-label-color: white;\n",
       "                    --jp-ui-font-color1: white;\n",
       "                    --jp-layout-color2: #454545;\n",
       "                    background-color: #383838;\n",
       "                }\n",
       "                    \n",
       "                .geemap-dark .jupyter-button {\n",
       "                    --jp-layout-color3: #383838;\n",
       "                }\n",
       "                \n",
       "                .geemap-colab {\n",
       "                    background-color: var(--colab-primary-surface-color, white);\n",
       "                }\n",
       "                    \n",
       "                .geemap-colab .jupyter-button {\n",
       "                    --jp-layout-color3: var(--colab-primary-surface-color, white);\n",
       "                }\n",
       "            </style>\n",
       "            "
      ],
      "text/plain": [
       "<IPython.core.display.HTML object>"
      ]
     },
     "metadata": {},
     "output_type": "display_data"
    },
    {
     "data": {
      "application/vnd.jupyter.widget-view+json": {
       "model_id": "25d1d946e954421c8f5820c5bfde573f",
       "version_major": 2,
       "version_minor": 0
      },
      "text/plain": [
       "Map(center=[8.517382416611035, -81.00936813268046], controls=(WidgetControl(options=['position', 'transparent_…"
      ]
     },
     "execution_count": 128,
     "metadata": {},
     "output_type": "execute_result"
    }
   ],
   "source": [
    "# Import the dataset and select the elevation band.\n",
    "dataset = ee.Image('NASA/NASADEM_HGT/001')\n",
    "elevation = dataset.select('elevation')\n",
    "\n",
    "# Add a white background image to the map.\n",
    "background = ee.Image(1)\n",
    "background_vis = {'min': 0, 'max': 1}\n",
    "background_layer = background.visualize(**background_vis)\n",
    "\n",
    "# Set elevation visualization properties.\n",
    "elevation_vis = {'min': 0, 'max': 2000}\n",
    "\n",
    "# Set elevation <= 0 as transparent.\n",
    "elevation_masked = elevation.updateMask(elevation.gt(0)).clip(piura_shp)\n",
    "elevation_masked\n",
    "Map = geemap.Map()\n",
    "Map.addLayer(background_layer, {}, 'Background')\n",
    "Map.addLayer(elevation_masked, elevation_vis, 'Elevation')\n",
    "Map.centerObject(piura_shp, 12)\n",
    "Map"
   ]
  },
  {
   "cell_type": "markdown",
   "id": "1b03a470-179f-446a-9b23-2bddfe498744",
   "metadata": {},
   "source": [
    "# Hydrology\n",
    "\n",
    "https://developers.google.com/earth-engine/datasets/catalog/MERIT_Hydro_v1_0_1"
   ]
  },
  {
   "cell_type": "code",
   "execution_count": 132,
   "id": "b6028734-cc3e-480e-ad02-6bc447a9a75d",
   "metadata": {},
   "outputs": [
    {
     "data": {
      "text/html": [
       "\n",
       "            <style>\n",
       "                .geemap-dark {\n",
       "                    --jp-widgets-color: white;\n",
       "                    --jp-widgets-label-color: white;\n",
       "                    --jp-ui-font-color1: white;\n",
       "                    --jp-layout-color2: #454545;\n",
       "                    background-color: #383838;\n",
       "                }\n",
       "                    \n",
       "                .geemap-dark .jupyter-button {\n",
       "                    --jp-layout-color3: #383838;\n",
       "                }\n",
       "                \n",
       "                .geemap-colab {\n",
       "                    background-color: var(--colab-primary-surface-color, white);\n",
       "                }\n",
       "                    \n",
       "                .geemap-colab .jupyter-button {\n",
       "                    --jp-layout-color3: var(--colab-primary-surface-color, white);\n",
       "                }\n",
       "            </style>\n",
       "            "
      ],
      "text/plain": [
       "<IPython.core.display.HTML object>"
      ]
     },
     "metadata": {},
     "output_type": "display_data"
    },
    {
     "data": {
      "application/vnd.jupyter.widget-view+json": {
       "model_id": "25d1d946e954421c8f5820c5bfde573f",
       "version_major": 2,
       "version_minor": 0
      },
      "text/plain": [
       "Map(bottom=499687.0, center=[8.517382416611035, -81.00936813268046], controls=(WidgetControl(options=['positio…"
      ]
     },
     "execution_count": 132,
     "metadata": {},
     "output_type": "execute_result"
    }
   ],
   "source": [
    "dataset = ee.Image('MERIT/Hydro/v1_0_1').clip(piura_shp)\n",
    "\n",
    "visualization = {'bands': ['viswth']}\n",
    "\n",
    "Map.centerObject(piura_shp, 12)\n",
    "\n",
    "Map.addLayer(dataset, visualization, 'River width')\n",
    "Map"
   ]
  }
 ],
 "metadata": {
  "kernelspec": {
   "display_name": "Python 3 (ipykernel)",
   "language": "python",
   "name": "python3"
  },
  "language_info": {
   "codemirror_mode": {
    "name": "ipython",
    "version": 3
   },
   "file_extension": ".py",
   "mimetype": "text/x-python",
   "name": "python",
   "nbconvert_exporter": "python",
   "pygments_lexer": "ipython3",
   "version": "3.11.5"
  }
 },
 "nbformat": 4,
 "nbformat_minor": 5
}
